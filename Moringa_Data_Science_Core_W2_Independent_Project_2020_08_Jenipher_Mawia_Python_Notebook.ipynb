{
  "cells": [
    {
      "cell_type": "markdown",
      "metadata": {
        "colab_type": "text",
        "id": "view-in-github"
      },
      "source": [
        "<a href=\"https://colab.research.google.com/github/Jenn-mawia/State-of-Financial-Inclusion-in-East-Africa/blob/master/Moringa_Data_Science_Core_W2_Independent_Project_2020_08_Jenipher_Mawia_Python_Notebook.ipynb\" target=\"_parent\"><img src=\"https://colab.research.google.com/assets/colab-badge.svg\" alt=\"Open In Colab\"/></a>"
      ]
    },
    {
      "cell_type": "markdown",
      "metadata": {
        "colab_type": "text",
        "id": "G-lA-QvlRQXZ"
      },
      "source": [
        "# Defining the question"
      ]
    },
    {
      "cell_type": "markdown",
      "metadata": {
        "colab_type": "text",
        "id": "I_tU0UIuRm90"
      },
      "source": [
        "## Specifiying the data analytic question"
      ]
    },
    {
      "cell_type": "markdown",
      "metadata": {
        "colab_type": "text",
        "id": "SnK5I1JFR3A5"
      },
      "source": [
        "Research questions: \n",
        "\n",
        "Find out how we can predict which individuals are most likely to have or use a bank account. "
      ]
    },
    {
      "cell_type": "markdown",
      "metadata": {
        "colab_type": "text",
        "id": "7Wm_2bWTSbvV"
      },
      "source": [
        "## Defining the metric for success"
      ]
    },
    {
      "cell_type": "markdown",
      "metadata": {
        "colab_type": "text",
        "id": "9hqLA7VcilyN"
      },
      "source": [
        "The objectives of this project will be met if the following can be determined:\n",
        "- Insight into the state of financial inclusion in the countries: Kenya, Uganda, Rwanda, Tanzania\n",
        "- Insight into some of the key demographic factos that might drive an individual's financial outcomes\n",
        "- Prediction of individuals most likely to have or use a bank account"
      ]
    },
    {
      "cell_type": "markdown",
      "metadata": {
        "colab_type": "text",
        "id": "HH8riyxVSqBR"
      },
      "source": [
        "## Understanding the context"
      ]
    },
    {
      "cell_type": "markdown",
      "metadata": {
        "colab_type": "text",
        "id": "sjqVOlvsj-q9"
      },
      "source": [
        "Financial Inclusion remains one of the main obstacles to economic and human development in Africa. For example, across Kenya, Rwanda, Tanzania, and Uganda only 9.1 million adults (or 13.9% of the adult population) have access to or use a commercial bank account.\n",
        "\n",
        "Traditionally, access to bank accounts has been regarded as an indicator of financial inclusion. Despite the proliferation of mobile money in Africa and the growth of innovative fintech solutions, banks still play a pivotal role in facilitating access to financial services. Access to bank accounts enables households to save and facilitate payments while also helping businesses build up their credit-worthiness and improve their access to other financial services. Therefore, access to bank accounts is an essential contributor to long-term economic growth."
      ]
    },
    {
      "cell_type": "markdown",
      "metadata": {
        "colab_type": "text",
        "id": "_6vosIzvSxkp"
      },
      "source": [
        "## Recording the experimental design taken "
      ]
    },
    {
      "cell_type": "markdown",
      "metadata": {
        "colab_type": "text",
        "id": "CJA9rVArkSqv"
      },
      "source": [
        "1. Loading dataset\n",
        "2. Checking the dataset's shape, top, bottom, datatypes\n",
        "3. External data source validation\n",
        "4. Data Cleaning \n",
        "    - renaming column names & ensuring consistency in column names\n",
        "    - dropping unnecessary columns\n",
        "    - handling null values, duplicated records, outliers, anomalies\n",
        "5. Exploratory Data Analysis\n",
        "    - Univariate EDA \n",
        "    - Bivariate EDA\n",
        "        - analysis by country\n",
        "        - analysis by demographic factors\n",
        "    - Multivariate EDA\n",
        "\n",
        "\n"
      ]
    },
    {
      "cell_type": "markdown",
      "metadata": {
        "colab_type": "text",
        "id": "3pyvb8FiS6zU"
      },
      "source": [
        "## The appropriateness of the available data to answer the given question"
      ]
    },
    {
      "cell_type": "markdown",
      "metadata": {
        "colab_type": "text",
        "id": "sMxyfDJhmRoj"
      },
      "source": [
        "The available data is deemed as appropriate as the data contains all variables that will be required to perform analysis by country and by either demographic factors such as: age, gender, level of education, income level, area or residence, employment, marital status among other factors that influence an individuals financial outcomes."
      ]
    },
    {
      "cell_type": "markdown",
      "metadata": {
        "colab_type": "text",
        "id": "LeNuWKUDTDZc"
      },
      "source": [
        "# Reading the data"
      ]
    },
    {
      "cell_type": "code",
      "execution_count": 26,
      "metadata": {
        "colab": {
          "base_uri": "https://localhost:8080/",
          "height": 74
        },
        "colab_type": "code",
        "id": "Ra-_9BTTU_Ik",
        "outputId": "3004d75a-0c4f-4f47-f573-1e20bc725ba3"
      },
      "outputs": [],
      "source": [
        "# importing libraries\n",
        "\n",
        "import pandas as pd\n",
        "import numpy as np\n",
        "import matplotlib.pyplot as plt\n",
        "import seaborn as sns\n",
        "\n",
        "sns.set_style()"
      ]
    },
    {
      "cell_type": "markdown",
      "metadata": {
        "colab_type": "text",
        "id": "Y8EcWEfhVa3M"
      },
      "source": [
        "The data used for the project contains demographic information and financial services used by individuals across East Africa. This data was extracted from various Finscope Surveys ranging from 2016-2018. More information about this surveys can be found here: \n",
        "\n",
        "- FinAccess Kenya 2018. [Link](https://fsdkenya.org/publication/finaccess2019/)\n",
        "- Finscope Rwanda 2016. [Link](http://www.statistics.gov.rw/publication/finscope-rwanda-2016)\n",
        "- Finscope Tanzania 2017. [Link](http://www.fsdt.or.tz/finscope/)\n",
        "- Finscope Uganda 2018. [Link](http://fsduganda.or.ug/finscope-2018-survey-report/)\n",
        "\n",
        "To upload the dataset onto the environment, download the dataset [here](http://bit.ly/FinancialDataset) go to, Table of contents > files > upload on Colab. "
      ]
    },
    {
      "cell_type": "code",
      "execution_count": 27,
      "metadata": {
        "colab": {},
        "colab_type": "code",
        "id": "7C4gS_jTVVQc"
      },
      "outputs": [],
      "source": [
        "# Attribute Information: \n",
        "\n",
        "# country - country interviewee is in\n",
        "# year - year survey was done\n",
        "# uniqueid - unique identifier for each interviewee\n",
        "# has_a_bank_account - if interviewee has a bank account : Yes/No\n",
        "# location_type - type of location : Rural, Urban\n",
        "# cellphone_access - if interviewee has access to cellphone: Yes/No\n",
        "# household_size - number of people living in one house\n",
        "# age_of_respondent - age of interviewee\n",
        "# gender_of_respondent - gender of interviewee: Male, Female\n",
        "# relationship_with_head - interviewee relationship with the head of the house: Head of Household, Spouse, Child, Parent, Other relative, Other non-relative, Don't know\n",
        "# marital_status - marital status of interviewee: Married/Living together, Divorced/Separated, Widowed, Single/Never Married, Don't know\n",
        "# education_level - highest level of education: No formal education, Primary education, Secondary education, Vocational/Specialised training, Tertiary education, Other/Don't know/RTA\n",
        "# job_type - type of job interviewee has: Farming and Fishing, Formally employed Government, Formally employed Private, Informally employed, Remittance Dependent, Government Dependent, Self employed, Other Income, No Income, Don't know/Refused to answer\n",
        "\n",
        "# reading the data\n",
        "\n",
        "financial = pd.read_csv(\"train.csv\") \n"
      ]
    },
    {
      "cell_type": "markdown",
      "metadata": {
        "colab_type": "text",
        "id": "pIxxl39bg3xx"
      },
      "source": [
        "# Checking the data"
      ]
    },
    {
      "cell_type": "code",
      "execution_count": 28,
      "metadata": {
        "colab": {
          "base_uri": "https://localhost:8080/",
          "height": 35
        },
        "colab_type": "code",
        "id": "ZIg2X5dKgXxt",
        "outputId": "fc4a3f29-43a5-4368-f7f2-5223f0179723"
      },
      "outputs": [
        {
          "data": {
            "text/plain": [
              "(23524, 39)"
            ]
          },
          "execution_count": 28,
          "metadata": {},
          "output_type": "execute_result"
        }
      ],
      "source": [
        "# number of rows and columns\n",
        "\n",
        "financial.shape"
      ]
    },
    {
      "cell_type": "code",
      "execution_count": 29,
      "metadata": {
        "colab": {
          "base_uri": "https://localhost:8080/",
          "height": 374
        },
        "colab_type": "code",
        "id": "AHuW8ENahBlj",
        "outputId": "f0102dc7-bca6-41d2-db7f-ac42d4dba1ba"
      },
      "outputs": [
        {
          "data": {
            "text/html": [
              "<div>\n",
              "<style scoped>\n",
              "    .dataframe tbody tr th:only-of-type {\n",
              "        vertical-align: middle;\n",
              "    }\n",
              "\n",
              "    .dataframe tbody tr th {\n",
              "        vertical-align: top;\n",
              "    }\n",
              "\n",
              "    .dataframe thead th {\n",
              "        text-align: right;\n",
              "    }\n",
              "</style>\n",
              "<table border=\"1\" class=\"dataframe\">\n",
              "  <thead>\n",
              "    <tr style=\"text-align: right;\">\n",
              "      <th></th>\n",
              "      <th>Unnamed: 0</th>\n",
              "      <th>bank_account</th>\n",
              "      <th>location_type</th>\n",
              "      <th>cellphone_access</th>\n",
              "      <th>household_size</th>\n",
              "      <th>age_of_respondent</th>\n",
              "      <th>gender_of_respondent</th>\n",
              "      <th>year_</th>\n",
              "      <th>relationship_with_head_Child</th>\n",
              "      <th>relationship_with_head_Head of Household</th>\n",
              "      <th>...</th>\n",
              "      <th>job_type_Government Dependent</th>\n",
              "      <th>job_type_Informally employed</th>\n",
              "      <th>job_type_No Income</th>\n",
              "      <th>job_type_Other Income</th>\n",
              "      <th>job_type_Remittance Dependent</th>\n",
              "      <th>job_type_Self employed</th>\n",
              "      <th>country__Kenya</th>\n",
              "      <th>country__Rwanda</th>\n",
              "      <th>country__Tanzania</th>\n",
              "      <th>country__Uganda</th>\n",
              "    </tr>\n",
              "  </thead>\n",
              "  <tbody>\n",
              "    <tr>\n",
              "      <th>0</th>\n",
              "      <td>0</td>\n",
              "      <td>1</td>\n",
              "      <td>0</td>\n",
              "      <td>1</td>\n",
              "      <td>3</td>\n",
              "      <td>24</td>\n",
              "      <td>0</td>\n",
              "      <td>2018</td>\n",
              "      <td>0</td>\n",
              "      <td>0</td>\n",
              "      <td>...</td>\n",
              "      <td>0</td>\n",
              "      <td>0</td>\n",
              "      <td>0</td>\n",
              "      <td>0</td>\n",
              "      <td>0</td>\n",
              "      <td>1</td>\n",
              "      <td>1</td>\n",
              "      <td>0</td>\n",
              "      <td>0</td>\n",
              "      <td>0</td>\n",
              "    </tr>\n",
              "    <tr>\n",
              "      <th>1</th>\n",
              "      <td>1</td>\n",
              "      <td>0</td>\n",
              "      <td>0</td>\n",
              "      <td>0</td>\n",
              "      <td>5</td>\n",
              "      <td>70</td>\n",
              "      <td>0</td>\n",
              "      <td>2018</td>\n",
              "      <td>0</td>\n",
              "      <td>1</td>\n",
              "      <td>...</td>\n",
              "      <td>1</td>\n",
              "      <td>0</td>\n",
              "      <td>0</td>\n",
              "      <td>0</td>\n",
              "      <td>0</td>\n",
              "      <td>0</td>\n",
              "      <td>1</td>\n",
              "      <td>0</td>\n",
              "      <td>0</td>\n",
              "      <td>0</td>\n",
              "    </tr>\n",
              "    <tr>\n",
              "      <th>2</th>\n",
              "      <td>2</td>\n",
              "      <td>1</td>\n",
              "      <td>1</td>\n",
              "      <td>1</td>\n",
              "      <td>5</td>\n",
              "      <td>26</td>\n",
              "      <td>1</td>\n",
              "      <td>2018</td>\n",
              "      <td>0</td>\n",
              "      <td>0</td>\n",
              "      <td>...</td>\n",
              "      <td>0</td>\n",
              "      <td>0</td>\n",
              "      <td>0</td>\n",
              "      <td>0</td>\n",
              "      <td>0</td>\n",
              "      <td>1</td>\n",
              "      <td>1</td>\n",
              "      <td>0</td>\n",
              "      <td>0</td>\n",
              "      <td>0</td>\n",
              "    </tr>\n",
              "    <tr>\n",
              "      <th>3</th>\n",
              "      <td>3</td>\n",
              "      <td>0</td>\n",
              "      <td>0</td>\n",
              "      <td>1</td>\n",
              "      <td>5</td>\n",
              "      <td>34</td>\n",
              "      <td>0</td>\n",
              "      <td>2018</td>\n",
              "      <td>0</td>\n",
              "      <td>1</td>\n",
              "      <td>...</td>\n",
              "      <td>0</td>\n",
              "      <td>0</td>\n",
              "      <td>0</td>\n",
              "      <td>0</td>\n",
              "      <td>0</td>\n",
              "      <td>0</td>\n",
              "      <td>1</td>\n",
              "      <td>0</td>\n",
              "      <td>0</td>\n",
              "      <td>0</td>\n",
              "    </tr>\n",
              "    <tr>\n",
              "      <th>4</th>\n",
              "      <td>4</td>\n",
              "      <td>0</td>\n",
              "      <td>1</td>\n",
              "      <td>0</td>\n",
              "      <td>8</td>\n",
              "      <td>26</td>\n",
              "      <td>1</td>\n",
              "      <td>2018</td>\n",
              "      <td>1</td>\n",
              "      <td>0</td>\n",
              "      <td>...</td>\n",
              "      <td>0</td>\n",
              "      <td>1</td>\n",
              "      <td>0</td>\n",
              "      <td>0</td>\n",
              "      <td>0</td>\n",
              "      <td>0</td>\n",
              "      <td>1</td>\n",
              "      <td>0</td>\n",
              "      <td>0</td>\n",
              "      <td>0</td>\n",
              "    </tr>\n",
              "  </tbody>\n",
              "</table>\n",
              "<p>5 rows × 39 columns</p>\n",
              "</div>"
            ],
            "text/plain": [
              "   Unnamed: 0  bank_account  location_type  cellphone_access  household_size  \\\n",
              "0           0             1              0                 1               3   \n",
              "1           1             0              0                 0               5   \n",
              "2           2             1              1                 1               5   \n",
              "3           3             0              0                 1               5   \n",
              "4           4             0              1                 0               8   \n",
              "\n",
              "   age_of_respondent  gender_of_respondent  year_  \\\n",
              "0                 24                     0   2018   \n",
              "1                 70                     0   2018   \n",
              "2                 26                     1   2018   \n",
              "3                 34                     0   2018   \n",
              "4                 26                     1   2018   \n",
              "\n",
              "   relationship_with_head_Child  relationship_with_head_Head of Household  \\\n",
              "0                             0                                         0   \n",
              "1                             0                                         1   \n",
              "2                             0                                         0   \n",
              "3                             0                                         1   \n",
              "4                             1                                         0   \n",
              "\n",
              "   ...  job_type_Government Dependent  job_type_Informally employed  \\\n",
              "0  ...                              0                             0   \n",
              "1  ...                              1                             0   \n",
              "2  ...                              0                             0   \n",
              "3  ...                              0                             0   \n",
              "4  ...                              0                             1   \n",
              "\n",
              "   job_type_No Income  job_type_Other Income  job_type_Remittance Dependent  \\\n",
              "0                   0                      0                              0   \n",
              "1                   0                      0                              0   \n",
              "2                   0                      0                              0   \n",
              "3                   0                      0                              0   \n",
              "4                   0                      0                              0   \n",
              "\n",
              "   job_type_Self employed  country__Kenya  country__Rwanda  country__Tanzania  \\\n",
              "0                       1               1                0                  0   \n",
              "1                       0               1                0                  0   \n",
              "2                       1               1                0                  0   \n",
              "3                       0               1                0                  0   \n",
              "4                       0               1                0                  0   \n",
              "\n",
              "   country__Uganda  \n",
              "0                0  \n",
              "1                0  \n",
              "2                0  \n",
              "3                0  \n",
              "4                0  \n",
              "\n",
              "[5 rows x 39 columns]"
            ]
          },
          "execution_count": 29,
          "metadata": {},
          "output_type": "execute_result"
        }
      ],
      "source": [
        "# preview the top of the dataset\n",
        "financial.head()"
      ]
    },
    {
      "cell_type": "code",
      "execution_count": 30,
      "metadata": {
        "colab": {
          "base_uri": "https://localhost:8080/",
          "height": 356
        },
        "colab_type": "code",
        "id": "NodSC4EqhKah",
        "outputId": "a5dfa3eb-f013-4b9e-93b7-e0c88f684ebf"
      },
      "outputs": [
        {
          "data": {
            "text/html": [
              "<div>\n",
              "<style scoped>\n",
              "    .dataframe tbody tr th:only-of-type {\n",
              "        vertical-align: middle;\n",
              "    }\n",
              "\n",
              "    .dataframe tbody tr th {\n",
              "        vertical-align: top;\n",
              "    }\n",
              "\n",
              "    .dataframe thead th {\n",
              "        text-align: right;\n",
              "    }\n",
              "</style>\n",
              "<table border=\"1\" class=\"dataframe\">\n",
              "  <thead>\n",
              "    <tr style=\"text-align: right;\">\n",
              "      <th></th>\n",
              "      <th>Unnamed: 0</th>\n",
              "      <th>bank_account</th>\n",
              "      <th>location_type</th>\n",
              "      <th>cellphone_access</th>\n",
              "      <th>household_size</th>\n",
              "      <th>age_of_respondent</th>\n",
              "      <th>gender_of_respondent</th>\n",
              "      <th>year_</th>\n",
              "      <th>relationship_with_head_Child</th>\n",
              "      <th>relationship_with_head_Head of Household</th>\n",
              "      <th>...</th>\n",
              "      <th>job_type_Government Dependent</th>\n",
              "      <th>job_type_Informally employed</th>\n",
              "      <th>job_type_No Income</th>\n",
              "      <th>job_type_Other Income</th>\n",
              "      <th>job_type_Remittance Dependent</th>\n",
              "      <th>job_type_Self employed</th>\n",
              "      <th>country__Kenya</th>\n",
              "      <th>country__Rwanda</th>\n",
              "      <th>country__Tanzania</th>\n",
              "      <th>country__Uganda</th>\n",
              "    </tr>\n",
              "  </thead>\n",
              "  <tbody>\n",
              "    <tr>\n",
              "      <th>23519</th>\n",
              "      <td>23519</td>\n",
              "      <td>0</td>\n",
              "      <td>0</td>\n",
              "      <td>1</td>\n",
              "      <td>4</td>\n",
              "      <td>48</td>\n",
              "      <td>0</td>\n",
              "      <td>2018</td>\n",
              "      <td>0</td>\n",
              "      <td>1</td>\n",
              "      <td>...</td>\n",
              "      <td>0</td>\n",
              "      <td>0</td>\n",
              "      <td>0</td>\n",
              "      <td>1</td>\n",
              "      <td>0</td>\n",
              "      <td>0</td>\n",
              "      <td>0</td>\n",
              "      <td>0</td>\n",
              "      <td>0</td>\n",
              "      <td>1</td>\n",
              "    </tr>\n",
              "    <tr>\n",
              "      <th>23520</th>\n",
              "      <td>23520</td>\n",
              "      <td>0</td>\n",
              "      <td>0</td>\n",
              "      <td>1</td>\n",
              "      <td>2</td>\n",
              "      <td>27</td>\n",
              "      <td>0</td>\n",
              "      <td>2018</td>\n",
              "      <td>0</td>\n",
              "      <td>1</td>\n",
              "      <td>...</td>\n",
              "      <td>0</td>\n",
              "      <td>0</td>\n",
              "      <td>0</td>\n",
              "      <td>1</td>\n",
              "      <td>0</td>\n",
              "      <td>0</td>\n",
              "      <td>0</td>\n",
              "      <td>0</td>\n",
              "      <td>0</td>\n",
              "      <td>1</td>\n",
              "    </tr>\n",
              "    <tr>\n",
              "      <th>23521</th>\n",
              "      <td>23521</td>\n",
              "      <td>0</td>\n",
              "      <td>0</td>\n",
              "      <td>1</td>\n",
              "      <td>5</td>\n",
              "      <td>27</td>\n",
              "      <td>0</td>\n",
              "      <td>2018</td>\n",
              "      <td>0</td>\n",
              "      <td>0</td>\n",
              "      <td>...</td>\n",
              "      <td>0</td>\n",
              "      <td>0</td>\n",
              "      <td>0</td>\n",
              "      <td>1</td>\n",
              "      <td>0</td>\n",
              "      <td>0</td>\n",
              "      <td>0</td>\n",
              "      <td>0</td>\n",
              "      <td>0</td>\n",
              "      <td>1</td>\n",
              "    </tr>\n",
              "    <tr>\n",
              "      <th>23522</th>\n",
              "      <td>23522</td>\n",
              "      <td>0</td>\n",
              "      <td>1</td>\n",
              "      <td>1</td>\n",
              "      <td>7</td>\n",
              "      <td>30</td>\n",
              "      <td>0</td>\n",
              "      <td>2018</td>\n",
              "      <td>0</td>\n",
              "      <td>0</td>\n",
              "      <td>...</td>\n",
              "      <td>0</td>\n",
              "      <td>0</td>\n",
              "      <td>0</td>\n",
              "      <td>0</td>\n",
              "      <td>0</td>\n",
              "      <td>1</td>\n",
              "      <td>0</td>\n",
              "      <td>0</td>\n",
              "      <td>0</td>\n",
              "      <td>1</td>\n",
              "    </tr>\n",
              "    <tr>\n",
              "      <th>23523</th>\n",
              "      <td>23523</td>\n",
              "      <td>0</td>\n",
              "      <td>0</td>\n",
              "      <td>1</td>\n",
              "      <td>10</td>\n",
              "      <td>20</td>\n",
              "      <td>1</td>\n",
              "      <td>2018</td>\n",
              "      <td>1</td>\n",
              "      <td>0</td>\n",
              "      <td>...</td>\n",
              "      <td>0</td>\n",
              "      <td>0</td>\n",
              "      <td>1</td>\n",
              "      <td>0</td>\n",
              "      <td>0</td>\n",
              "      <td>0</td>\n",
              "      <td>0</td>\n",
              "      <td>0</td>\n",
              "      <td>0</td>\n",
              "      <td>1</td>\n",
              "    </tr>\n",
              "  </tbody>\n",
              "</table>\n",
              "<p>5 rows × 39 columns</p>\n",
              "</div>"
            ],
            "text/plain": [
              "       Unnamed: 0  bank_account  location_type  cellphone_access  \\\n",
              "23519       23519             0              0                 1   \n",
              "23520       23520             0              0                 1   \n",
              "23521       23521             0              0                 1   \n",
              "23522       23522             0              1                 1   \n",
              "23523       23523             0              0                 1   \n",
              "\n",
              "       household_size  age_of_respondent  gender_of_respondent  year_  \\\n",
              "23519               4                 48                     0   2018   \n",
              "23520               2                 27                     0   2018   \n",
              "23521               5                 27                     0   2018   \n",
              "23522               7                 30                     0   2018   \n",
              "23523              10                 20                     1   2018   \n",
              "\n",
              "       relationship_with_head_Child  relationship_with_head_Head of Household  \\\n",
              "23519                             0                                         1   \n",
              "23520                             0                                         1   \n",
              "23521                             0                                         0   \n",
              "23522                             0                                         0   \n",
              "23523                             1                                         0   \n",
              "\n",
              "       ...  job_type_Government Dependent  job_type_Informally employed  \\\n",
              "23519  ...                              0                             0   \n",
              "23520  ...                              0                             0   \n",
              "23521  ...                              0                             0   \n",
              "23522  ...                              0                             0   \n",
              "23523  ...                              0                             0   \n",
              "\n",
              "       job_type_No Income  job_type_Other Income  \\\n",
              "23519                   0                      1   \n",
              "23520                   0                      1   \n",
              "23521                   0                      1   \n",
              "23522                   0                      0   \n",
              "23523                   1                      0   \n",
              "\n",
              "       job_type_Remittance Dependent  job_type_Self employed  country__Kenya  \\\n",
              "23519                              0                       0               0   \n",
              "23520                              0                       0               0   \n",
              "23521                              0                       0               0   \n",
              "23522                              0                       1               0   \n",
              "23523                              0                       0               0   \n",
              "\n",
              "       country__Rwanda  country__Tanzania  country__Uganda  \n",
              "23519                0                  0                1  \n",
              "23520                0                  0                1  \n",
              "23521                0                  0                1  \n",
              "23522                0                  0                1  \n",
              "23523                0                  0                1  \n",
              "\n",
              "[5 rows x 39 columns]"
            ]
          },
          "execution_count": 30,
          "metadata": {},
          "output_type": "execute_result"
        }
      ],
      "source": [
        "# previewing the bottom of the dataset\n",
        "financial.tail()"
      ]
    },
    {
      "cell_type": "code",
      "execution_count": 31,
      "metadata": {
        "colab": {
          "base_uri": "https://localhost:8080/",
          "height": 272
        },
        "colab_type": "code",
        "id": "I1dNICkGhRsV",
        "outputId": "9ed3874f-ce1c-4e21-e7b2-67715c1cf1f2"
      },
      "outputs": [
        {
          "data": {
            "text/plain": [
              "Unnamed: 0                                         int64\n",
              "bank_account                                       int64\n",
              "location_type                                      int64\n",
              "cellphone_access                                   int64\n",
              "household_size                                     int64\n",
              "age_of_respondent                                  int64\n",
              "gender_of_respondent                               int64\n",
              "year_                                              int64\n",
              "relationship_with_head_Child                       int64\n",
              "relationship_with_head_Head of Household           int64\n",
              "relationship_with_head_Other non-relatives         int64\n",
              "relationship_with_head_Other relative              int64\n",
              "relationship_with_head_Parent                      int64\n",
              "relationship_with_head_Spouse                      int64\n",
              "marital_status_Divorced/Seperated                  int64\n",
              "marital_status_Dont know                           int64\n",
              "marital_status_Married/Living together             int64\n",
              "marital_status_Single/Never Married                int64\n",
              "marital_status_Widowed                             int64\n",
              "education_level_No formal education                int64\n",
              "education_level_Other/Dont know/RTA                int64\n",
              "education_level_Primary education                  int64\n",
              "education_level_Secondary education                int64\n",
              "education_level_Tertiary education                 int64\n",
              "education_level_Vocational/Specialised training    int64\n",
              "job_type_Dont Know/Refuse to answer                int64\n",
              "job_type_Farming and Fishing                       int64\n",
              "job_type_Formally employed Government              int64\n",
              "job_type_Formally employed Private                 int64\n",
              "job_type_Government Dependent                      int64\n",
              "job_type_Informally employed                       int64\n",
              "job_type_No Income                                 int64\n",
              "job_type_Other Income                              int64\n",
              "job_type_Remittance Dependent                      int64\n",
              "job_type_Self employed                             int64\n",
              "country__Kenya                                     int64\n",
              "country__Rwanda                                    int64\n",
              "country__Tanzania                                  int64\n",
              "country__Uganda                                    int64\n",
              "dtype: object"
            ]
          },
          "execution_count": 31,
          "metadata": {},
          "output_type": "execute_result"
        }
      ],
      "source": [
        "# checking whether each column has appropriate datatypes\n",
        "financial.dtypes"
      ]
    },
    {
      "cell_type": "markdown",
      "metadata": {
        "colab_type": "text",
        "id": "C8AUh59dh8Zw"
      },
      "source": [
        "# External Data Source Validation"
      ]
    },
    {
      "cell_type": "markdown",
      "metadata": {
        "colab_type": "text",
        "id": "sYO6uO_Td6Pi"
      },
      "source": [
        "The data available for analysis can be validated with the following [data](https://www.kaggle.com/bhrt97/machine-learning-starter-program-hackathon-dataset) from [Kaggle](https://www.kaggle.com/). \n",
        "\n",
        "This data was compiled to analyse and predict the performances of a trainee based on the demographic information available. This would enable a client to strengthen its training problem by focusing on the most important factors that leading to better engagement and performance of a trainee. \n",
        "\n",
        "Some of the demographic factors that were compiled for analysis include: gender of trainee, education level of trainee, city/area of residence, age of the trainee.\n",
        "\n",
        "All these are very similar to what we have in our data so we can move on with analysis since we have the right data to answer our question."
      ]
    },
    {
      "cell_type": "markdown",
      "metadata": {
        "colab_type": "text",
        "id": "_5pzHWPeiPir"
      },
      "source": [
        "# Data Cleaning"
      ]
    },
    {
      "cell_type": "code",
      "execution_count": 32,
      "metadata": {
        "colab": {
          "base_uri": "https://localhost:8080/",
          "height": 583
        },
        "colab_type": "code",
        "id": "pyl2jEpWiVGH",
        "outputId": "d7a11d03-e7d4-4e80-cf76-6f5a12263e96"
      },
      "outputs": [],
      "source": [
        "# # rename column\n",
        "# financial.rename(columns={'The relathip with head': 'relationship_with_head', 'Level of Educuation':'level_of_education'}, inplace = True)\n",
        "# financial.columns\n",
        "\n",
        "# # making all column names consistent in the format\n",
        "# financial.columns = financial.columns.str.strip().str.lower().str.replace(\" \", \"_\")\n",
        "# financial"
      ]
    },
    {
      "cell_type": "code",
      "execution_count": 33,
      "metadata": {
        "colab": {
          "base_uri": "https://localhost:8080/",
          "height": 583
        },
        "colab_type": "code",
        "id": "vrpvz_-8ipSP",
        "outputId": "ba2c699b-ff1b-44a0-b4e2-3b02529b3a01"
      },
      "outputs": [
        {
          "data": {
            "text/html": [
              "<div>\n",
              "<style scoped>\n",
              "    .dataframe tbody tr th:only-of-type {\n",
              "        vertical-align: middle;\n",
              "    }\n",
              "\n",
              "    .dataframe tbody tr th {\n",
              "        vertical-align: top;\n",
              "    }\n",
              "\n",
              "    .dataframe thead th {\n",
              "        text-align: right;\n",
              "    }\n",
              "</style>\n",
              "<table border=\"1\" class=\"dataframe\">\n",
              "  <thead>\n",
              "    <tr style=\"text-align: right;\">\n",
              "      <th></th>\n",
              "      <th>Unnamed: 0</th>\n",
              "      <th>bank_account</th>\n",
              "      <th>location_type</th>\n",
              "      <th>cellphone_access</th>\n",
              "      <th>household_size</th>\n",
              "      <th>age_of_respondent</th>\n",
              "      <th>gender_of_respondent</th>\n",
              "      <th>relationship_with_head_Child</th>\n",
              "      <th>relationship_with_head_Head of Household</th>\n",
              "      <th>relationship_with_head_Other non-relatives</th>\n",
              "      <th>...</th>\n",
              "      <th>job_type_Government Dependent</th>\n",
              "      <th>job_type_Informally employed</th>\n",
              "      <th>job_type_No Income</th>\n",
              "      <th>job_type_Other Income</th>\n",
              "      <th>job_type_Remittance Dependent</th>\n",
              "      <th>job_type_Self employed</th>\n",
              "      <th>country__Kenya</th>\n",
              "      <th>country__Rwanda</th>\n",
              "      <th>country__Tanzania</th>\n",
              "      <th>country__Uganda</th>\n",
              "    </tr>\n",
              "  </thead>\n",
              "  <tbody>\n",
              "    <tr>\n",
              "      <th>0</th>\n",
              "      <td>0</td>\n",
              "      <td>1</td>\n",
              "      <td>0</td>\n",
              "      <td>1</td>\n",
              "      <td>3</td>\n",
              "      <td>24</td>\n",
              "      <td>0</td>\n",
              "      <td>0</td>\n",
              "      <td>0</td>\n",
              "      <td>0</td>\n",
              "      <td>...</td>\n",
              "      <td>0</td>\n",
              "      <td>0</td>\n",
              "      <td>0</td>\n",
              "      <td>0</td>\n",
              "      <td>0</td>\n",
              "      <td>1</td>\n",
              "      <td>1</td>\n",
              "      <td>0</td>\n",
              "      <td>0</td>\n",
              "      <td>0</td>\n",
              "    </tr>\n",
              "    <tr>\n",
              "      <th>1</th>\n",
              "      <td>1</td>\n",
              "      <td>0</td>\n",
              "      <td>0</td>\n",
              "      <td>0</td>\n",
              "      <td>5</td>\n",
              "      <td>70</td>\n",
              "      <td>0</td>\n",
              "      <td>0</td>\n",
              "      <td>1</td>\n",
              "      <td>0</td>\n",
              "      <td>...</td>\n",
              "      <td>1</td>\n",
              "      <td>0</td>\n",
              "      <td>0</td>\n",
              "      <td>0</td>\n",
              "      <td>0</td>\n",
              "      <td>0</td>\n",
              "      <td>1</td>\n",
              "      <td>0</td>\n",
              "      <td>0</td>\n",
              "      <td>0</td>\n",
              "    </tr>\n",
              "    <tr>\n",
              "      <th>2</th>\n",
              "      <td>2</td>\n",
              "      <td>1</td>\n",
              "      <td>1</td>\n",
              "      <td>1</td>\n",
              "      <td>5</td>\n",
              "      <td>26</td>\n",
              "      <td>1</td>\n",
              "      <td>0</td>\n",
              "      <td>0</td>\n",
              "      <td>0</td>\n",
              "      <td>...</td>\n",
              "      <td>0</td>\n",
              "      <td>0</td>\n",
              "      <td>0</td>\n",
              "      <td>0</td>\n",
              "      <td>0</td>\n",
              "      <td>1</td>\n",
              "      <td>1</td>\n",
              "      <td>0</td>\n",
              "      <td>0</td>\n",
              "      <td>0</td>\n",
              "    </tr>\n",
              "    <tr>\n",
              "      <th>3</th>\n",
              "      <td>3</td>\n",
              "      <td>0</td>\n",
              "      <td>0</td>\n",
              "      <td>1</td>\n",
              "      <td>5</td>\n",
              "      <td>34</td>\n",
              "      <td>0</td>\n",
              "      <td>0</td>\n",
              "      <td>1</td>\n",
              "      <td>0</td>\n",
              "      <td>...</td>\n",
              "      <td>0</td>\n",
              "      <td>0</td>\n",
              "      <td>0</td>\n",
              "      <td>0</td>\n",
              "      <td>0</td>\n",
              "      <td>0</td>\n",
              "      <td>1</td>\n",
              "      <td>0</td>\n",
              "      <td>0</td>\n",
              "      <td>0</td>\n",
              "    </tr>\n",
              "    <tr>\n",
              "      <th>4</th>\n",
              "      <td>4</td>\n",
              "      <td>0</td>\n",
              "      <td>1</td>\n",
              "      <td>0</td>\n",
              "      <td>8</td>\n",
              "      <td>26</td>\n",
              "      <td>1</td>\n",
              "      <td>1</td>\n",
              "      <td>0</td>\n",
              "      <td>0</td>\n",
              "      <td>...</td>\n",
              "      <td>0</td>\n",
              "      <td>1</td>\n",
              "      <td>0</td>\n",
              "      <td>0</td>\n",
              "      <td>0</td>\n",
              "      <td>0</td>\n",
              "      <td>1</td>\n",
              "      <td>0</td>\n",
              "      <td>0</td>\n",
              "      <td>0</td>\n",
              "    </tr>\n",
              "    <tr>\n",
              "      <th>...</th>\n",
              "      <td>...</td>\n",
              "      <td>...</td>\n",
              "      <td>...</td>\n",
              "      <td>...</td>\n",
              "      <td>...</td>\n",
              "      <td>...</td>\n",
              "      <td>...</td>\n",
              "      <td>...</td>\n",
              "      <td>...</td>\n",
              "      <td>...</td>\n",
              "      <td>...</td>\n",
              "      <td>...</td>\n",
              "      <td>...</td>\n",
              "      <td>...</td>\n",
              "      <td>...</td>\n",
              "      <td>...</td>\n",
              "      <td>...</td>\n",
              "      <td>...</td>\n",
              "      <td>...</td>\n",
              "      <td>...</td>\n",
              "      <td>...</td>\n",
              "    </tr>\n",
              "    <tr>\n",
              "      <th>23519</th>\n",
              "      <td>23519</td>\n",
              "      <td>0</td>\n",
              "      <td>0</td>\n",
              "      <td>1</td>\n",
              "      <td>4</td>\n",
              "      <td>48</td>\n",
              "      <td>0</td>\n",
              "      <td>0</td>\n",
              "      <td>1</td>\n",
              "      <td>0</td>\n",
              "      <td>...</td>\n",
              "      <td>0</td>\n",
              "      <td>0</td>\n",
              "      <td>0</td>\n",
              "      <td>1</td>\n",
              "      <td>0</td>\n",
              "      <td>0</td>\n",
              "      <td>0</td>\n",
              "      <td>0</td>\n",
              "      <td>0</td>\n",
              "      <td>1</td>\n",
              "    </tr>\n",
              "    <tr>\n",
              "      <th>23520</th>\n",
              "      <td>23520</td>\n",
              "      <td>0</td>\n",
              "      <td>0</td>\n",
              "      <td>1</td>\n",
              "      <td>2</td>\n",
              "      <td>27</td>\n",
              "      <td>0</td>\n",
              "      <td>0</td>\n",
              "      <td>1</td>\n",
              "      <td>0</td>\n",
              "      <td>...</td>\n",
              "      <td>0</td>\n",
              "      <td>0</td>\n",
              "      <td>0</td>\n",
              "      <td>1</td>\n",
              "      <td>0</td>\n",
              "      <td>0</td>\n",
              "      <td>0</td>\n",
              "      <td>0</td>\n",
              "      <td>0</td>\n",
              "      <td>1</td>\n",
              "    </tr>\n",
              "    <tr>\n",
              "      <th>23521</th>\n",
              "      <td>23521</td>\n",
              "      <td>0</td>\n",
              "      <td>0</td>\n",
              "      <td>1</td>\n",
              "      <td>5</td>\n",
              "      <td>27</td>\n",
              "      <td>0</td>\n",
              "      <td>0</td>\n",
              "      <td>0</td>\n",
              "      <td>0</td>\n",
              "      <td>...</td>\n",
              "      <td>0</td>\n",
              "      <td>0</td>\n",
              "      <td>0</td>\n",
              "      <td>1</td>\n",
              "      <td>0</td>\n",
              "      <td>0</td>\n",
              "      <td>0</td>\n",
              "      <td>0</td>\n",
              "      <td>0</td>\n",
              "      <td>1</td>\n",
              "    </tr>\n",
              "    <tr>\n",
              "      <th>23522</th>\n",
              "      <td>23522</td>\n",
              "      <td>0</td>\n",
              "      <td>1</td>\n",
              "      <td>1</td>\n",
              "      <td>7</td>\n",
              "      <td>30</td>\n",
              "      <td>0</td>\n",
              "      <td>0</td>\n",
              "      <td>0</td>\n",
              "      <td>0</td>\n",
              "      <td>...</td>\n",
              "      <td>0</td>\n",
              "      <td>0</td>\n",
              "      <td>0</td>\n",
              "      <td>0</td>\n",
              "      <td>0</td>\n",
              "      <td>1</td>\n",
              "      <td>0</td>\n",
              "      <td>0</td>\n",
              "      <td>0</td>\n",
              "      <td>1</td>\n",
              "    </tr>\n",
              "    <tr>\n",
              "      <th>23523</th>\n",
              "      <td>23523</td>\n",
              "      <td>0</td>\n",
              "      <td>0</td>\n",
              "      <td>1</td>\n",
              "      <td>10</td>\n",
              "      <td>20</td>\n",
              "      <td>1</td>\n",
              "      <td>1</td>\n",
              "      <td>0</td>\n",
              "      <td>0</td>\n",
              "      <td>...</td>\n",
              "      <td>0</td>\n",
              "      <td>0</td>\n",
              "      <td>1</td>\n",
              "      <td>0</td>\n",
              "      <td>0</td>\n",
              "      <td>0</td>\n",
              "      <td>0</td>\n",
              "      <td>0</td>\n",
              "      <td>0</td>\n",
              "      <td>1</td>\n",
              "    </tr>\n",
              "  </tbody>\n",
              "</table>\n",
              "<p>23524 rows × 38 columns</p>\n",
              "</div>"
            ],
            "text/plain": [
              "       Unnamed: 0  bank_account  location_type  cellphone_access  \\\n",
              "0               0             1              0                 1   \n",
              "1               1             0              0                 0   \n",
              "2               2             1              1                 1   \n",
              "3               3             0              0                 1   \n",
              "4               4             0              1                 0   \n",
              "...           ...           ...            ...               ...   \n",
              "23519       23519             0              0                 1   \n",
              "23520       23520             0              0                 1   \n",
              "23521       23521             0              0                 1   \n",
              "23522       23522             0              1                 1   \n",
              "23523       23523             0              0                 1   \n",
              "\n",
              "       household_size  age_of_respondent  gender_of_respondent  \\\n",
              "0                   3                 24                     0   \n",
              "1                   5                 70                     0   \n",
              "2                   5                 26                     1   \n",
              "3                   5                 34                     0   \n",
              "4                   8                 26                     1   \n",
              "...               ...                ...                   ...   \n",
              "23519               4                 48                     0   \n",
              "23520               2                 27                     0   \n",
              "23521               5                 27                     0   \n",
              "23522               7                 30                     0   \n",
              "23523              10                 20                     1   \n",
              "\n",
              "       relationship_with_head_Child  relationship_with_head_Head of Household  \\\n",
              "0                                 0                                         0   \n",
              "1                                 0                                         1   \n",
              "2                                 0                                         0   \n",
              "3                                 0                                         1   \n",
              "4                                 1                                         0   \n",
              "...                             ...                                       ...   \n",
              "23519                             0                                         1   \n",
              "23520                             0                                         1   \n",
              "23521                             0                                         0   \n",
              "23522                             0                                         0   \n",
              "23523                             1                                         0   \n",
              "\n",
              "       relationship_with_head_Other non-relatives  ...  \\\n",
              "0                                               0  ...   \n",
              "1                                               0  ...   \n",
              "2                                               0  ...   \n",
              "3                                               0  ...   \n",
              "4                                               0  ...   \n",
              "...                                           ...  ...   \n",
              "23519                                           0  ...   \n",
              "23520                                           0  ...   \n",
              "23521                                           0  ...   \n",
              "23522                                           0  ...   \n",
              "23523                                           0  ...   \n",
              "\n",
              "       job_type_Government Dependent  job_type_Informally employed  \\\n",
              "0                                  0                             0   \n",
              "1                                  1                             0   \n",
              "2                                  0                             0   \n",
              "3                                  0                             0   \n",
              "4                                  0                             1   \n",
              "...                              ...                           ...   \n",
              "23519                              0                             0   \n",
              "23520                              0                             0   \n",
              "23521                              0                             0   \n",
              "23522                              0                             0   \n",
              "23523                              0                             0   \n",
              "\n",
              "       job_type_No Income  job_type_Other Income  \\\n",
              "0                       0                      0   \n",
              "1                       0                      0   \n",
              "2                       0                      0   \n",
              "3                       0                      0   \n",
              "4                       0                      0   \n",
              "...                   ...                    ...   \n",
              "23519                   0                      1   \n",
              "23520                   0                      1   \n",
              "23521                   0                      1   \n",
              "23522                   0                      0   \n",
              "23523                   1                      0   \n",
              "\n",
              "       job_type_Remittance Dependent  job_type_Self employed  country__Kenya  \\\n",
              "0                                  0                       1               1   \n",
              "1                                  0                       0               1   \n",
              "2                                  0                       1               1   \n",
              "3                                  0                       0               1   \n",
              "4                                  0                       0               1   \n",
              "...                              ...                     ...             ...   \n",
              "23519                              0                       0               0   \n",
              "23520                              0                       0               0   \n",
              "23521                              0                       0               0   \n",
              "23522                              0                       1               0   \n",
              "23523                              0                       0               0   \n",
              "\n",
              "       country__Rwanda  country__Tanzania  country__Uganda  \n",
              "0                    0                  0                0  \n",
              "1                    0                  0                0  \n",
              "2                    0                  0                0  \n",
              "3                    0                  0                0  \n",
              "4                    0                  0                0  \n",
              "...                ...                ...              ...  \n",
              "23519                0                  0                1  \n",
              "23520                0                  0                1  \n",
              "23521                0                  0                1  \n",
              "23522                0                  0                1  \n",
              "23523                0                  0                1  \n",
              "\n",
              "[23524 rows x 38 columns]"
            ]
          },
          "execution_count": 33,
          "metadata": {},
          "output_type": "execute_result"
        }
      ],
      "source": [
        "# drop irrelevant fields\n",
        "financial.drop(['year_'], axis=1, inplace=True)\n",
        "financial"
      ]
    },
    {
      "cell_type": "code",
      "execution_count": 34,
      "metadata": {
        "colab": {
          "base_uri": "https://localhost:8080/",
          "height": 235
        },
        "colab_type": "code",
        "id": "UYtCpF4Qjo47",
        "outputId": "5e1921b4-6bee-4e0b-f67c-3b17c951c735"
      },
      "outputs": [
        {
          "data": {
            "text/plain": [
              "Unnamed: 0                                         0\n",
              "bank_account                                       0\n",
              "location_type                                      0\n",
              "cellphone_access                                   0\n",
              "household_size                                     0\n",
              "age_of_respondent                                  0\n",
              "gender_of_respondent                               0\n",
              "relationship_with_head_Child                       0\n",
              "relationship_with_head_Head of Household           0\n",
              "relationship_with_head_Other non-relatives         0\n",
              "relationship_with_head_Other relative              0\n",
              "relationship_with_head_Parent                      0\n",
              "relationship_with_head_Spouse                      0\n",
              "marital_status_Divorced/Seperated                  0\n",
              "marital_status_Dont know                           0\n",
              "marital_status_Married/Living together             0\n",
              "marital_status_Single/Never Married                0\n",
              "marital_status_Widowed                             0\n",
              "education_level_No formal education                0\n",
              "education_level_Other/Dont know/RTA                0\n",
              "education_level_Primary education                  0\n",
              "education_level_Secondary education                0\n",
              "education_level_Tertiary education                 0\n",
              "education_level_Vocational/Specialised training    0\n",
              "job_type_Dont Know/Refuse to answer                0\n",
              "job_type_Farming and Fishing                       0\n",
              "job_type_Formally employed Government              0\n",
              "job_type_Formally employed Private                 0\n",
              "job_type_Government Dependent                      0\n",
              "job_type_Informally employed                       0\n",
              "job_type_No Income                                 0\n",
              "job_type_Other Income                              0\n",
              "job_type_Remittance Dependent                      0\n",
              "job_type_Self employed                             0\n",
              "country__Kenya                                     0\n",
              "country__Rwanda                                    0\n",
              "country__Tanzania                                  0\n",
              "country__Uganda                                    0\n",
              "dtype: int64"
            ]
          },
          "execution_count": 34,
          "metadata": {},
          "output_type": "execute_result"
        }
      ],
      "source": [
        "# checking for null values\n",
        "financial.isnull().sum()\n"
      ]
    },
    {
      "cell_type": "code",
      "execution_count": 35,
      "metadata": {
        "colab": {
          "base_uri": "https://localhost:8080/",
          "height": 235
        },
        "colab_type": "code",
        "id": "YDya3Djylt76",
        "outputId": "07a3ef66-58cb-482c-ea6d-a5d33983e194"
      },
      "outputs": [
        {
          "data": {
            "text/plain": [
              "Unnamed: 0                                         0\n",
              "bank_account                                       0\n",
              "location_type                                      0\n",
              "cellphone_access                                   0\n",
              "household_size                                     0\n",
              "age_of_respondent                                  0\n",
              "gender_of_respondent                               0\n",
              "relationship_with_head_Child                       0\n",
              "relationship_with_head_Head of Household           0\n",
              "relationship_with_head_Other non-relatives         0\n",
              "relationship_with_head_Other relative              0\n",
              "relationship_with_head_Parent                      0\n",
              "relationship_with_head_Spouse                      0\n",
              "marital_status_Divorced/Seperated                  0\n",
              "marital_status_Dont know                           0\n",
              "marital_status_Married/Living together             0\n",
              "marital_status_Single/Never Married                0\n",
              "marital_status_Widowed                             0\n",
              "education_level_No formal education                0\n",
              "education_level_Other/Dont know/RTA                0\n",
              "education_level_Primary education                  0\n",
              "education_level_Secondary education                0\n",
              "education_level_Tertiary education                 0\n",
              "education_level_Vocational/Specialised training    0\n",
              "job_type_Dont Know/Refuse to answer                0\n",
              "job_type_Farming and Fishing                       0\n",
              "job_type_Formally employed Government              0\n",
              "job_type_Formally employed Private                 0\n",
              "job_type_Government Dependent                      0\n",
              "job_type_Informally employed                       0\n",
              "job_type_No Income                                 0\n",
              "job_type_Other Income                              0\n",
              "job_type_Remittance Dependent                      0\n",
              "job_type_Self employed                             0\n",
              "country__Kenya                                     0\n",
              "country__Rwanda                                    0\n",
              "country__Tanzania                                  0\n",
              "country__Uganda                                    0\n",
              "dtype: int64"
            ]
          },
          "execution_count": 35,
          "metadata": {},
          "output_type": "execute_result"
        }
      ],
      "source": [
        "# drop null values \n",
        "fin = financial.dropna()\n",
        "fin.isnull().sum()"
      ]
    },
    {
      "cell_type": "code",
      "execution_count": 36,
      "metadata": {
        "colab": {
          "base_uri": "https://localhost:8080/",
          "height": 35
        },
        "colab_type": "code",
        "id": "bNSVYIAlmGCk",
        "outputId": "d0fc9772-e2b0-438f-afab-14834d289477"
      },
      "outputs": [
        {
          "data": {
            "text/plain": [
              "0"
            ]
          },
          "execution_count": 36,
          "metadata": {},
          "output_type": "execute_result"
        }
      ],
      "source": [
        "# checking for duplicates\n",
        "fin.duplicated().sum()"
      ]
    },
    {
      "cell_type": "code",
      "execution_count": 37,
      "metadata": {
        "colab": {
          "base_uri": "https://localhost:8080/",
          "height": 583
        },
        "colab_type": "code",
        "id": "Z4xXI2F8mQjH",
        "outputId": "ea736a00-4d18-4427-ab31-e19e5c2bf3c1"
      },
      "outputs": [
        {
          "data": {
            "text/html": [
              "<div>\n",
              "<style scoped>\n",
              "    .dataframe tbody tr th:only-of-type {\n",
              "        vertical-align: middle;\n",
              "    }\n",
              "\n",
              "    .dataframe tbody tr th {\n",
              "        vertical-align: top;\n",
              "    }\n",
              "\n",
              "    .dataframe thead th {\n",
              "        text-align: right;\n",
              "    }\n",
              "</style>\n",
              "<table border=\"1\" class=\"dataframe\">\n",
              "  <thead>\n",
              "    <tr style=\"text-align: right;\">\n",
              "      <th></th>\n",
              "      <th>Unnamed: 0</th>\n",
              "      <th>bank_account</th>\n",
              "      <th>location_type</th>\n",
              "      <th>cellphone_access</th>\n",
              "      <th>household_size</th>\n",
              "      <th>age_of_respondent</th>\n",
              "      <th>gender_of_respondent</th>\n",
              "      <th>relationship_with_head_Child</th>\n",
              "      <th>relationship_with_head_Head of Household</th>\n",
              "      <th>relationship_with_head_Other non-relatives</th>\n",
              "      <th>...</th>\n",
              "      <th>job_type_Government Dependent</th>\n",
              "      <th>job_type_Informally employed</th>\n",
              "      <th>job_type_No Income</th>\n",
              "      <th>job_type_Other Income</th>\n",
              "      <th>job_type_Remittance Dependent</th>\n",
              "      <th>job_type_Self employed</th>\n",
              "      <th>country__Kenya</th>\n",
              "      <th>country__Rwanda</th>\n",
              "      <th>country__Tanzania</th>\n",
              "      <th>country__Uganda</th>\n",
              "    </tr>\n",
              "  </thead>\n",
              "  <tbody>\n",
              "    <tr>\n",
              "      <th>0</th>\n",
              "      <td>0</td>\n",
              "      <td>1</td>\n",
              "      <td>0</td>\n",
              "      <td>1</td>\n",
              "      <td>3</td>\n",
              "      <td>24</td>\n",
              "      <td>0</td>\n",
              "      <td>0</td>\n",
              "      <td>0</td>\n",
              "      <td>0</td>\n",
              "      <td>...</td>\n",
              "      <td>0</td>\n",
              "      <td>0</td>\n",
              "      <td>0</td>\n",
              "      <td>0</td>\n",
              "      <td>0</td>\n",
              "      <td>1</td>\n",
              "      <td>1</td>\n",
              "      <td>0</td>\n",
              "      <td>0</td>\n",
              "      <td>0</td>\n",
              "    </tr>\n",
              "    <tr>\n",
              "      <th>1</th>\n",
              "      <td>1</td>\n",
              "      <td>0</td>\n",
              "      <td>0</td>\n",
              "      <td>0</td>\n",
              "      <td>5</td>\n",
              "      <td>70</td>\n",
              "      <td>0</td>\n",
              "      <td>0</td>\n",
              "      <td>1</td>\n",
              "      <td>0</td>\n",
              "      <td>...</td>\n",
              "      <td>1</td>\n",
              "      <td>0</td>\n",
              "      <td>0</td>\n",
              "      <td>0</td>\n",
              "      <td>0</td>\n",
              "      <td>0</td>\n",
              "      <td>1</td>\n",
              "      <td>0</td>\n",
              "      <td>0</td>\n",
              "      <td>0</td>\n",
              "    </tr>\n",
              "    <tr>\n",
              "      <th>2</th>\n",
              "      <td>2</td>\n",
              "      <td>1</td>\n",
              "      <td>1</td>\n",
              "      <td>1</td>\n",
              "      <td>5</td>\n",
              "      <td>26</td>\n",
              "      <td>1</td>\n",
              "      <td>0</td>\n",
              "      <td>0</td>\n",
              "      <td>0</td>\n",
              "      <td>...</td>\n",
              "      <td>0</td>\n",
              "      <td>0</td>\n",
              "      <td>0</td>\n",
              "      <td>0</td>\n",
              "      <td>0</td>\n",
              "      <td>1</td>\n",
              "      <td>1</td>\n",
              "      <td>0</td>\n",
              "      <td>0</td>\n",
              "      <td>0</td>\n",
              "    </tr>\n",
              "    <tr>\n",
              "      <th>3</th>\n",
              "      <td>3</td>\n",
              "      <td>0</td>\n",
              "      <td>0</td>\n",
              "      <td>1</td>\n",
              "      <td>5</td>\n",
              "      <td>34</td>\n",
              "      <td>0</td>\n",
              "      <td>0</td>\n",
              "      <td>1</td>\n",
              "      <td>0</td>\n",
              "      <td>...</td>\n",
              "      <td>0</td>\n",
              "      <td>0</td>\n",
              "      <td>0</td>\n",
              "      <td>0</td>\n",
              "      <td>0</td>\n",
              "      <td>0</td>\n",
              "      <td>1</td>\n",
              "      <td>0</td>\n",
              "      <td>0</td>\n",
              "      <td>0</td>\n",
              "    </tr>\n",
              "    <tr>\n",
              "      <th>4</th>\n",
              "      <td>4</td>\n",
              "      <td>0</td>\n",
              "      <td>1</td>\n",
              "      <td>0</td>\n",
              "      <td>8</td>\n",
              "      <td>26</td>\n",
              "      <td>1</td>\n",
              "      <td>1</td>\n",
              "      <td>0</td>\n",
              "      <td>0</td>\n",
              "      <td>...</td>\n",
              "      <td>0</td>\n",
              "      <td>1</td>\n",
              "      <td>0</td>\n",
              "      <td>0</td>\n",
              "      <td>0</td>\n",
              "      <td>0</td>\n",
              "      <td>1</td>\n",
              "      <td>0</td>\n",
              "      <td>0</td>\n",
              "      <td>0</td>\n",
              "    </tr>\n",
              "    <tr>\n",
              "      <th>...</th>\n",
              "      <td>...</td>\n",
              "      <td>...</td>\n",
              "      <td>...</td>\n",
              "      <td>...</td>\n",
              "      <td>...</td>\n",
              "      <td>...</td>\n",
              "      <td>...</td>\n",
              "      <td>...</td>\n",
              "      <td>...</td>\n",
              "      <td>...</td>\n",
              "      <td>...</td>\n",
              "      <td>...</td>\n",
              "      <td>...</td>\n",
              "      <td>...</td>\n",
              "      <td>...</td>\n",
              "      <td>...</td>\n",
              "      <td>...</td>\n",
              "      <td>...</td>\n",
              "      <td>...</td>\n",
              "      <td>...</td>\n",
              "      <td>...</td>\n",
              "    </tr>\n",
              "    <tr>\n",
              "      <th>23519</th>\n",
              "      <td>23519</td>\n",
              "      <td>0</td>\n",
              "      <td>0</td>\n",
              "      <td>1</td>\n",
              "      <td>4</td>\n",
              "      <td>48</td>\n",
              "      <td>0</td>\n",
              "      <td>0</td>\n",
              "      <td>1</td>\n",
              "      <td>0</td>\n",
              "      <td>...</td>\n",
              "      <td>0</td>\n",
              "      <td>0</td>\n",
              "      <td>0</td>\n",
              "      <td>1</td>\n",
              "      <td>0</td>\n",
              "      <td>0</td>\n",
              "      <td>0</td>\n",
              "      <td>0</td>\n",
              "      <td>0</td>\n",
              "      <td>1</td>\n",
              "    </tr>\n",
              "    <tr>\n",
              "      <th>23520</th>\n",
              "      <td>23520</td>\n",
              "      <td>0</td>\n",
              "      <td>0</td>\n",
              "      <td>1</td>\n",
              "      <td>2</td>\n",
              "      <td>27</td>\n",
              "      <td>0</td>\n",
              "      <td>0</td>\n",
              "      <td>1</td>\n",
              "      <td>0</td>\n",
              "      <td>...</td>\n",
              "      <td>0</td>\n",
              "      <td>0</td>\n",
              "      <td>0</td>\n",
              "      <td>1</td>\n",
              "      <td>0</td>\n",
              "      <td>0</td>\n",
              "      <td>0</td>\n",
              "      <td>0</td>\n",
              "      <td>0</td>\n",
              "      <td>1</td>\n",
              "    </tr>\n",
              "    <tr>\n",
              "      <th>23521</th>\n",
              "      <td>23521</td>\n",
              "      <td>0</td>\n",
              "      <td>0</td>\n",
              "      <td>1</td>\n",
              "      <td>5</td>\n",
              "      <td>27</td>\n",
              "      <td>0</td>\n",
              "      <td>0</td>\n",
              "      <td>0</td>\n",
              "      <td>0</td>\n",
              "      <td>...</td>\n",
              "      <td>0</td>\n",
              "      <td>0</td>\n",
              "      <td>0</td>\n",
              "      <td>1</td>\n",
              "      <td>0</td>\n",
              "      <td>0</td>\n",
              "      <td>0</td>\n",
              "      <td>0</td>\n",
              "      <td>0</td>\n",
              "      <td>1</td>\n",
              "    </tr>\n",
              "    <tr>\n",
              "      <th>23522</th>\n",
              "      <td>23522</td>\n",
              "      <td>0</td>\n",
              "      <td>1</td>\n",
              "      <td>1</td>\n",
              "      <td>7</td>\n",
              "      <td>30</td>\n",
              "      <td>0</td>\n",
              "      <td>0</td>\n",
              "      <td>0</td>\n",
              "      <td>0</td>\n",
              "      <td>...</td>\n",
              "      <td>0</td>\n",
              "      <td>0</td>\n",
              "      <td>0</td>\n",
              "      <td>0</td>\n",
              "      <td>0</td>\n",
              "      <td>1</td>\n",
              "      <td>0</td>\n",
              "      <td>0</td>\n",
              "      <td>0</td>\n",
              "      <td>1</td>\n",
              "    </tr>\n",
              "    <tr>\n",
              "      <th>23523</th>\n",
              "      <td>23523</td>\n",
              "      <td>0</td>\n",
              "      <td>0</td>\n",
              "      <td>1</td>\n",
              "      <td>10</td>\n",
              "      <td>20</td>\n",
              "      <td>1</td>\n",
              "      <td>1</td>\n",
              "      <td>0</td>\n",
              "      <td>0</td>\n",
              "      <td>...</td>\n",
              "      <td>0</td>\n",
              "      <td>0</td>\n",
              "      <td>1</td>\n",
              "      <td>0</td>\n",
              "      <td>0</td>\n",
              "      <td>0</td>\n",
              "      <td>0</td>\n",
              "      <td>0</td>\n",
              "      <td>0</td>\n",
              "      <td>1</td>\n",
              "    </tr>\n",
              "  </tbody>\n",
              "</table>\n",
              "<p>23524 rows × 38 columns</p>\n",
              "</div>"
            ],
            "text/plain": [
              "       Unnamed: 0  bank_account  location_type  cellphone_access  \\\n",
              "0               0             1              0                 1   \n",
              "1               1             0              0                 0   \n",
              "2               2             1              1                 1   \n",
              "3               3             0              0                 1   \n",
              "4               4             0              1                 0   \n",
              "...           ...           ...            ...               ...   \n",
              "23519       23519             0              0                 1   \n",
              "23520       23520             0              0                 1   \n",
              "23521       23521             0              0                 1   \n",
              "23522       23522             0              1                 1   \n",
              "23523       23523             0              0                 1   \n",
              "\n",
              "       household_size  age_of_respondent  gender_of_respondent  \\\n",
              "0                   3                 24                     0   \n",
              "1                   5                 70                     0   \n",
              "2                   5                 26                     1   \n",
              "3                   5                 34                     0   \n",
              "4                   8                 26                     1   \n",
              "...               ...                ...                   ...   \n",
              "23519               4                 48                     0   \n",
              "23520               2                 27                     0   \n",
              "23521               5                 27                     0   \n",
              "23522               7                 30                     0   \n",
              "23523              10                 20                     1   \n",
              "\n",
              "       relationship_with_head_Child  relationship_with_head_Head of Household  \\\n",
              "0                                 0                                         0   \n",
              "1                                 0                                         1   \n",
              "2                                 0                                         0   \n",
              "3                                 0                                         1   \n",
              "4                                 1                                         0   \n",
              "...                             ...                                       ...   \n",
              "23519                             0                                         1   \n",
              "23520                             0                                         1   \n",
              "23521                             0                                         0   \n",
              "23522                             0                                         0   \n",
              "23523                             1                                         0   \n",
              "\n",
              "       relationship_with_head_Other non-relatives  ...  \\\n",
              "0                                               0  ...   \n",
              "1                                               0  ...   \n",
              "2                                               0  ...   \n",
              "3                                               0  ...   \n",
              "4                                               0  ...   \n",
              "...                                           ...  ...   \n",
              "23519                                           0  ...   \n",
              "23520                                           0  ...   \n",
              "23521                                           0  ...   \n",
              "23522                                           0  ...   \n",
              "23523                                           0  ...   \n",
              "\n",
              "       job_type_Government Dependent  job_type_Informally employed  \\\n",
              "0                                  0                             0   \n",
              "1                                  1                             0   \n",
              "2                                  0                             0   \n",
              "3                                  0                             0   \n",
              "4                                  0                             1   \n",
              "...                              ...                           ...   \n",
              "23519                              0                             0   \n",
              "23520                              0                             0   \n",
              "23521                              0                             0   \n",
              "23522                              0                             0   \n",
              "23523                              0                             0   \n",
              "\n",
              "       job_type_No Income  job_type_Other Income  \\\n",
              "0                       0                      0   \n",
              "1                       0                      0   \n",
              "2                       0                      0   \n",
              "3                       0                      0   \n",
              "4                       0                      0   \n",
              "...                   ...                    ...   \n",
              "23519                   0                      1   \n",
              "23520                   0                      1   \n",
              "23521                   0                      1   \n",
              "23522                   0                      0   \n",
              "23523                   1                      0   \n",
              "\n",
              "       job_type_Remittance Dependent  job_type_Self employed  country__Kenya  \\\n",
              "0                                  0                       1               1   \n",
              "1                                  0                       0               1   \n",
              "2                                  0                       1               1   \n",
              "3                                  0                       0               1   \n",
              "4                                  0                       0               1   \n",
              "...                              ...                     ...             ...   \n",
              "23519                              0                       0               0   \n",
              "23520                              0                       0               0   \n",
              "23521                              0                       0               0   \n",
              "23522                              0                       1               0   \n",
              "23523                              0                       0               0   \n",
              "\n",
              "       country__Rwanda  country__Tanzania  country__Uganda  \n",
              "0                    0                  0                0  \n",
              "1                    0                  0                0  \n",
              "2                    0                  0                0  \n",
              "3                    0                  0                0  \n",
              "4                    0                  0                0  \n",
              "...                ...                ...              ...  \n",
              "23519                0                  0                1  \n",
              "23520                0                  0                1  \n",
              "23521                0                  0                1  \n",
              "23522                0                  0                1  \n",
              "23523                0                  0                1  \n",
              "\n",
              "[23524 rows x 38 columns]"
            ]
          },
          "execution_count": 37,
          "metadata": {},
          "output_type": "execute_result"
        }
      ],
      "source": [
        "# drop duplicates \n",
        "df1 = fin.drop_duplicates()\n",
        "df1"
      ]
    },
    {
      "cell_type": "code",
      "execution_count": 38,
      "metadata": {
        "colab": {
          "base_uri": "https://localhost:8080/",
          "height": 429
        },
        "colab_type": "code",
        "id": "0nN6pk-Gmhk-",
        "outputId": "922f0673-8f14-436c-ff4b-f8400118c257"
      },
      "outputs": [
        {
          "name": "stdout",
          "output_type": "stream",
          "text": [
            "(23524, 38)\n",
            "********************************************\n",
            "(2379, 38)\n"
          ]
        },
        {
          "data": {
            "image/png": "[encoded data removed]",
            "text/plain": [
              "<Figure size 576x432 with 1 Axes>"
            ]
          },
          "metadata": {
            "needs_background": "light"
          },
          "output_type": "display_data"
        }
      ],
      "source": [
        "# checking for outliers \n",
        "df1.boxplot(figsize=(8, 6), fontsize=10)\n",
        "\n",
        "# print size of the data with outliers present\n",
        "print(df1.shape)\n",
        "\n",
        "print(\"********************************************\")\n",
        "\n",
        "# removing outliers\n",
        "Q1 = df1.quantile(0.25)\n",
        "Q3 = df1.quantile(0.75)\n",
        "IQR = Q3 - Q1\n",
        "df = df1[~((df1 < (Q1 - 1.5 * IQR)) | (df1 > (Q3 + 1.5 * IQR))).any(axis=1)]\n",
        "\n",
        "# print size of the data after removal of outliers\n",
        "print(df.shape)\n",
        "\n"
      ]
    },
    {
      "cell_type": "code",
      "execution_count": 39,
      "metadata": {
        "colab": {
          "base_uri": "https://localhost:8080/",
          "height": 285
        },
        "colab_type": "code",
        "id": "DjX_6_DuoCWF",
        "outputId": "564ffe69-beec-4c6c-c537-3762f6ae943a"
      },
      "outputs": [
        {
          "data": {
            "text/plain": [
              "<AxesSubplot:>"
            ]
          },
          "execution_count": 39,
          "metadata": {},
          "output_type": "execute_result"
        },
        {
          "data": {
            "image/png": "[encoded data removed]",
            "text/plain": [
              "<Figure size 432x288 with 1 Axes>"
            ]
          },
          "metadata": {
            "needs_background": "light"
          },
          "output_type": "display_data"
        }
      ],
      "source": [
        "# plot of the new data, without ouliers\n",
        "df.boxplot()"
      ]
    },
    {
      "cell_type": "code",
      "execution_count": 40,
      "metadata": {
        "colab": {
          "base_uri": "https://localhost:8080/",
          "height": 35
        },
        "colab_type": "code",
        "id": "gqoSIUjpuqx5",
        "outputId": "4858e677-8448-4ce4-a005-78164c16560c"
      },
      "outputs": [
        {
          "name": "stdout",
          "output_type": "stream",
          "text": [
            "1.0 1.0\n"
          ]
        }
      ],
      "source": [
        "# checking for anomalies\n",
        "# getting the quantiles\n",
        "q1_house = df['household_size'].quantile(.25)\n",
        "q3_house = df['household_size'].quantile(.75)\n",
        "\n",
        "# calculating inter-quartile range using values from above\n",
        "iqr_31_house = q3_house - q1_house\n",
        "\n",
        "# another way is to find quantiles using the percentiles from the numpy library\n",
        "q1_h, q3_h = np.percentile(df['household_size'], [25, 75]) \n",
        "# IQR\n",
        "iqr_31_h = q3_h - q1_h\n",
        "\n",
        "# compare if the two values are similar\n",
        "print(iqr_31_house, iqr_31_h)\n"
      ]
    },
    {
      "cell_type": "code",
      "execution_count": 41,
      "metadata": {
        "colab": {
          "base_uri": "https://localhost:8080/",
          "height": 345
        },
        "colab_type": "code",
        "id": "_yjXgyA5Ia9n",
        "outputId": "ba597eae-c933-4cba-8350-a80a9033b39a"
      },
      "outputs": [
        {
          "name": "stdout",
          "output_type": "stream",
          "text": [
            "<class 'pandas.core.frame.DataFrame'>\n",
            "Int64Index: 2379 entries, 6 to 21422\n",
            "Data columns (total 38 columns):\n",
            " #   Column                                           Non-Null Count  Dtype\n",
            "---  ------                                           --------------  -----\n",
            " 0   Unnamed: 0                                       2379 non-null   int64\n",
            " 1   bank_account                                     2379 non-null   int64\n",
            " 2   location_type                                    2379 non-null   int64\n",
            " 3   cellphone_access                                 2379 non-null   int64\n",
            " 4   household_size                                   2379 non-null   int64\n",
            " 5   age_of_respondent                                2379 non-null   int64\n",
            " 6   gender_of_respondent                             2379 non-null   int64\n",
            " 7   relationship_with_head_Child                     2379 non-null   int64\n",
            " 8   relationship_with_head_Head of Household         2379 non-null   int64\n",
            " 9   relationship_with_head_Other non-relatives       2379 non-null   int64\n",
            " 10  relationship_with_head_Other relative            2379 non-null   int64\n",
            " 11  relationship_with_head_Parent                    2379 non-null   int64\n",
            " 12  relationship_with_head_Spouse                    2379 non-null   int64\n",
            " 13  marital_status_Divorced/Seperated                2379 non-null   int64\n",
            " 14  marital_status_Dont know                         2379 non-null   int64\n",
            " 15  marital_status_Married/Living together           2379 non-null   int64\n",
            " 16  marital_status_Single/Never Married              2379 non-null   int64\n",
            " 17  marital_status_Widowed                           2379 non-null   int64\n",
            " 18  education_level_No formal education              2379 non-null   int64\n",
            " 19  education_level_Other/Dont know/RTA              2379 non-null   int64\n",
            " 20  education_level_Primary education                2379 non-null   int64\n",
            " 21  education_level_Secondary education              2379 non-null   int64\n",
            " 22  education_level_Tertiary education               2379 non-null   int64\n",
            " 23  education_level_Vocational/Specialised training  2379 non-null   int64\n",
            " 24  job_type_Dont Know/Refuse to answer              2379 non-null   int64\n",
            " 25  job_type_Farming and Fishing                     2379 non-null   int64\n",
            " 26  job_type_Formally employed Government            2379 non-null   int64\n",
            " 27  job_type_Formally employed Private               2379 non-null   int64\n",
            " 28  job_type_Government Dependent                    2379 non-null   int64\n",
            " 29  job_type_Informally employed                     2379 non-null   int64\n",
            " 30  job_type_No Income                               2379 non-null   int64\n",
            " 31  job_type_Other Income                            2379 non-null   int64\n",
            " 32  job_type_Remittance Dependent                    2379 non-null   int64\n",
            " 33  job_type_Self employed                           2379 non-null   int64\n",
            " 34  country__Kenya                                   2379 non-null   int64\n",
            " 35  country__Rwanda                                  2379 non-null   int64\n",
            " 36  country__Tanzania                                2379 non-null   int64\n",
            " 37  country__Uganda                                  2379 non-null   int64\n",
            "dtypes: int64(38)\n",
            "memory usage: 724.9 KB\n"
          ]
        }
      ],
      "source": [
        "# getting to know more about the dataset\n",
        "df.info()"
      ]
    },
    {
      "cell_type": "markdown",
      "metadata": {
        "colab_type": "text",
        "id": "8ubaqYa5Gt-W"
      },
      "source": [
        "# Exploratory Data Analysis"
      ]
    },
    {
      "cell_type": "markdown",
      "metadata": {
        "colab_type": "text",
        "id": "XjOOCwjaGy2Y"
      },
      "source": [
        "## Univariate Analysis"
      ]
    },
    {
      "cell_type": "code",
      "execution_count": 42,
      "metadata": {
        "colab": {
          "base_uri": "https://localhost:8080/",
          "height": 0
        },
        "colab_type": "code",
        "id": "iok2YP0jxLqe",
        "outputId": "09427b6a-10c4-4376-85e6-ed4689a5ee4e"
      },
      "outputs": [
        {
          "name": "stderr",
          "output_type": "stream",
          "text": [
            "/opt/anaconda3/lib/python3.9/site-packages/seaborn/_decorators.py:36: FutureWarning: Pass the following variable as a keyword arg: x. From version 0.12, the only valid positional argument will be `data`, and passing other arguments without an explicit keyword will result in an error or misinterpretation.\n",
            "  warnings.warn(\n"
          ]
        },
        {
          "data": {
            "text/plain": [
              "Text(0, 0.5, 'Frequency/count of individuals')"
            ]
          },
          "execution_count": 42,
          "metadata": {},
          "output_type": "execute_result"
        },
        {
          "data": {
            "image/png": "[encoded data removed]",
            "text/plain": [
              "<Figure size 432x288 with 1 Axes>"
            ]
          },
          "metadata": {
            "needs_background": "light"
          },
          "output_type": "display_data"
        }
      ],
      "source": [
        "# how many individuals have or do not have bank accounts?\n",
        "#\n",
        "# plot a count plot for the variable\n",
        "ax = sns.countplot(df['bank_account'], order = df['bank_account'].value_counts().index)\n",
        "# formatting and labelling axes\n",
        "plt.title('Count of indidviduals with and without a bank account')\n",
        "plt.xlabel('Has a bank account?')\n",
        "plt.ylabel('Frequency/count of individuals')"
      ]
    },
    {
      "cell_type": "code",
      "execution_count": 43,
      "metadata": {
        "colab": {
          "base_uri": "https://localhost:8080/",
          "height": 0
        },
        "colab_type": "code",
        "id": "Y9tRPoetHKeV",
        "outputId": "41253718-7790-4ac8-edab-99ef25eba6a0"
      },
      "outputs": [
        {
          "name": "stderr",
          "output_type": "stream",
          "text": [
            "/opt/anaconda3/lib/python3.9/site-packages/seaborn/_decorators.py:36: FutureWarning: Pass the following variable as a keyword arg: x. From version 0.12, the only valid positional argument will be `data`, and passing other arguments without an explicit keyword will result in an error or misinterpretation.\n",
            "  warnings.warn(\n"
          ]
        },
        {
          "data": {
            "text/plain": [
              "1    1849\n",
              "0     530\n",
              "Name: location_type, dtype: int64"
            ]
          },
          "execution_count": 43,
          "metadata": {},
          "output_type": "execute_result"
        },
        {
          "data": {
            "image/png": "[encoded data removed]",
            "text/plain": [
              "<Figure size 432x288 with 1 Axes>"
            ]
          },
          "metadata": {
            "needs_background": "light"
          },
          "output_type": "display_data"
        }
      ],
      "source": [
        "# plot count plot for the type of location\n",
        "ax = sns.countplot(df['location_type'], order = df['location_type'].value_counts().index)\n",
        "# formatting the plot, labelling axes\n",
        "plt.title(\"Rural and Urban locations\")\n",
        "plt.xlabel('Rural or urban?')\n",
        "plt.ylabel('Number of individuals')\n",
        "# frequency table of the same for comparison\n",
        "df['location_type'].value_counts()"
      ]
    },
    {
      "cell_type": "code",
      "execution_count": 44,
      "metadata": {
        "colab": {
          "base_uri": "https://localhost:8080/",
          "height": 0
        },
        "colab_type": "code",
        "id": "_crNIG2QJwkh",
        "outputId": "64eb8f54-72c2-4004-98eb-1525a185b76c"
      },
      "outputs": [
        {
          "name": "stderr",
          "output_type": "stream",
          "text": [
            "/opt/anaconda3/lib/python3.9/site-packages/seaborn/_decorators.py:36: FutureWarning: Pass the following variable as a keyword arg: x. From version 0.12, the only valid positional argument will be `data`, and passing other arguments without an explicit keyword will result in an error or misinterpretation.\n",
            "  warnings.warn(\n"
          ]
        },
        {
          "data": {
            "text/plain": [
              "Text(0, 0.5, 'Number of individuals')"
            ]
          },
          "execution_count": 44,
          "metadata": {},
          "output_type": "execute_result"
        },
        {
          "data": {
            "image/png": "[encoded data removed]",
            "text/plain": [
              "<Figure size 432x288 with 1 Axes>"
            ]
          },
          "metadata": {
            "needs_background": "light"
          },
          "output_type": "display_data"
        }
      ],
      "source": [
        "# plot count plot of the access to cell phones by individual respondent\n",
        "ax = sns.countplot(df['cellphone_access'], order = df['cellphone_access'].value_counts().index)\n",
        "# formatting and labelling the plot\n",
        "plt.title('Access to cell phone')\n",
        "plt.xlabel('Has access to cell phone?')\n",
        "plt.ylabel('Number of individuals')"
      ]
    },
    {
      "cell_type": "code",
      "execution_count": 45,
      "metadata": {
        "colab": {
          "base_uri": "https://localhost:8080/",
          "height": 0
        },
        "colab_type": "code",
        "id": "Wiffz5wuKzTO",
        "outputId": "27dd9c34-f0a0-4b7b-d11e-7a0dc504717c"
      },
      "outputs": [
        {
          "name": "stderr",
          "output_type": "stream",
          "text": [
            "/opt/anaconda3/lib/python3.9/site-packages/seaborn/_decorators.py:36: FutureWarning: Pass the following variable as a keyword arg: x. From version 0.12, the only valid positional argument will be `data`, and passing other arguments without an explicit keyword will result in an error or misinterpretation.\n",
            "  warnings.warn(\n"
          ]
        },
        {
          "data": {
            "text/plain": [
              "Text(0, 0.5, 'Frequency distribution across the population')"
            ]
          },
          "execution_count": 45,
          "metadata": {},
          "output_type": "execute_result"
        },
        {
          "data": {
            "image/png": "[encoded data removed]",
            "text/plain": [
              "<Figure size 432x288 with 1 Axes>"
            ]
          },
          "metadata": {
            "needs_background": "light"
          },
          "output_type": "display_data"
        }
      ],
      "source": [
        "# plot for the number of people living in one household\n",
        "ax = sns.countplot(df['household_size'], order = df['household_size'].value_counts().index)\n",
        "# formatting and labelling chart\n",
        "plt.title('Distribution of number of people living in one household')\n",
        "plt.xlabel('Number of individuals per household')\n",
        "plt.ylabel('Frequency distribution across the population')"
      ]
    },
    {
      "cell_type": "code",
      "execution_count": 46,
      "metadata": {
        "colab": {
          "base_uri": "https://localhost:8080/",
          "height": 0
        },
        "colab_type": "code",
        "id": "imEQRZq-La5x",
        "outputId": "5beaf4c4-8cc7-4156-8272-dad17326e1dc"
      },
      "outputs": [
        {
          "name": "stderr",
          "output_type": "stream",
          "text": [
            "/opt/anaconda3/lib/python3.9/site-packages/seaborn/_decorators.py:36: FutureWarning: Pass the following variable as a keyword arg: x. From version 0.12, the only valid positional argument will be `data`, and passing other arguments without an explicit keyword will result in an error or misinterpretation.\n",
            "  warnings.warn(\n"
          ]
        },
        {
          "data": {
            "text/plain": [
              "Text(0, 0.5, 'Frequency/number of occurrences')"
            ]
          },
          "execution_count": 46,
          "metadata": {},
          "output_type": "execute_result"
        },
        {
          "data": {
            "image/png": "[encoded data removed]",
            "text/plain": [
              "<Figure size 1440x360 with 1 Axes>"
            ]
          },
          "metadata": {
            "needs_background": "light"
          },
          "output_type": "display_data"
        }
      ],
      "source": [
        "# plot age distribution of the respondents\n",
        "# specify size of the figure since the values are so many-makes it easier to read the chart\n",
        "plt.figure(figsize=(20,5))\n",
        "\n",
        "ax = sns.countplot(df['age_of_respondent'], order = df['age_of_respondent'].value_counts().index)\n",
        "# formatting and labelling the chart\n",
        "plt.xticks(rotation = 90)\n",
        "plt.title(\"Age distribution across the population\")\n",
        "plt.xlabel(\"Age\")\n",
        "plt.ylabel(\"Frequency/number of occurrences\")\n"
      ]
    },
    {
      "cell_type": "code",
      "execution_count": 47,
      "metadata": {
        "colab": {
          "base_uri": "https://localhost:8080/",
          "height": 0
        },
        "colab_type": "code",
        "id": "RbUZhbTgMpU9",
        "outputId": "8e2664f0-673e-45b7-8dac-59384a24770b"
      },
      "outputs": [
        {
          "name": "stderr",
          "output_type": "stream",
          "text": [
            "/opt/anaconda3/lib/python3.9/site-packages/seaborn/_decorators.py:36: FutureWarning: Pass the following variable as a keyword arg: x. From version 0.12, the only valid positional argument will be `data`, and passing other arguments without an explicit keyword will result in an error or misinterpretation.\n",
            "  warnings.warn(\n"
          ]
        },
        {
          "data": {
            "text/plain": [
              "Text(0, 0.5, 'Frequency')"
            ]
          },
          "execution_count": 47,
          "metadata": {},
          "output_type": "execute_result"
        },
        {
          "data": {
            "image/png": "[encoded data removed]",
            "text/plain": [
              "<Figure size 432x288 with 1 Axes>"
            ]
          },
          "metadata": {
            "needs_background": "light"
          },
          "output_type": "display_data"
        }
      ],
      "source": [
        "# count plot for the gender of the respondent\n",
        "ax = sns.countplot(df['gender_of_respondent'], order = df['gender_of_respondent'].value_counts().index)\n",
        "# formatting and labelling the plot\n",
        "plt.title(\"Gender distribution across the interviewed population\")\n",
        "plt.xlabel(\"Gender\")\n",
        "plt.ylabel(\"Frequency\")"
      ]
    },
    {
      "cell_type": "code",
      "execution_count": 48,
      "metadata": {
        "colab": {
          "base_uri": "https://localhost:8080/",
          "height": 0
        },
        "colab_type": "code",
        "id": "Yjp_N5PHNEvc",
        "outputId": "db04e61f-87d4-4a6f-fe7c-057b4fc468f6"
      },
      "outputs": [
        {
          "name": "stderr",
          "output_type": "stream",
          "text": [
            "/opt/anaconda3/lib/python3.9/site-packages/seaborn/_decorators.py:36: FutureWarning: Pass the following variable as a keyword arg: x. From version 0.12, the only valid positional argument will be `data`, and passing other arguments without an explicit keyword will result in an error or misinterpretation.\n",
            "  warnings.warn(\n"
          ]
        },
        {
          "data": {
            "text/plain": [
              "(array([0, 1]), [Text(0, 0, '1'), Text(1, 0, '0')])"
            ]
          },
          "execution_count": 48,
          "metadata": {},
          "output_type": "execute_result"
        },
        {
          "data": {
            "image/png": "[encoded data removed]",
            "text/plain": [
              "<Figure size 432x288 with 1 Axes>"
            ]
          },
          "metadata": {
            "needs_background": "light"
          },
          "output_type": "display_data"
        }
      ],
      "source": [
        "# count plot of the relationship of the respondent to the head of the household\n",
        "ax = sns.countplot(df['relationship_with_head_Head of Household'], order = df['relationship_with_head_Head of Household'].value_counts().index)\n",
        "# formatting and labelling the chart\n",
        "plt.title(\"Relationship of the respondent to the head of household\")\n",
        "plt.xlabel(\"Relation to household head\")\n",
        "plt.ylabel(\"Frequency of occur\")\n",
        "plt.xticks(rotation = 90)"
      ]
    },
    {
      "cell_type": "code",
      "execution_count": 50,
      "metadata": {
        "colab": {
          "base_uri": "https://localhost:8080/",
          "height": 0
        },
        "colab_type": "code",
        "id": "AfiEQU-jN1Hg",
        "outputId": "982d5e20-b733-4d0c-b3f4-92b55988430c"
      },
      "outputs": [
        {
          "ename": "KeyError",
          "evalue": "'marital_status_Divorced'",
          "output_type": "error",
          "traceback": [
            "\u001b[0;31m---------------------------------------------------------------------------\u001b[0m",
            "\u001b[0;31mKeyError\u001b[0m                                  Traceback (most recent call last)",
            "\u001b[0;32m/opt/anaconda3/lib/python3.9/site-packages/pandas/core/indexes/base.py\u001b[0m in \u001b[0;36mget_loc\u001b[0;34m(self, key, method, tolerance)\u001b[0m\n\u001b[1;32m   3360\u001b[0m             \u001b[0;32mtry\u001b[0m\u001b[0;34m:\u001b[0m\u001b[0;34m\u001b[0m\u001b[0;34m\u001b[0m\u001b[0m\n\u001b[0;32m-> 3361\u001b[0;31m                 \u001b[0;32mreturn\u001b[0m \u001b[0mself\u001b[0m\u001b[0;34m.\u001b[0m\u001b[0m_engine\u001b[0m\u001b[0;34m.\u001b[0m\u001b[0mget_loc\u001b[0m\u001b[0;34m(\u001b[0m\u001b[0mcasted_key\u001b[0m\u001b[0;34m)\u001b[0m\u001b[0;34m\u001b[0m\u001b[0;34m\u001b[0m\u001b[0m\n\u001b[0m\u001b[1;32m   3362\u001b[0m             \u001b[0;32mexcept\u001b[0m \u001b[0mKeyError\u001b[0m \u001b[0;32mas\u001b[0m \u001b[0merr\u001b[0m\u001b[0;34m:\u001b[0m\u001b[0;34m\u001b[0m\u001b[0;34m\u001b[0m\u001b[0m\n",
            "\u001b[0;32m/opt/anaconda3/lib/python3.9/site-packages/pandas/_libs/index.pyx\u001b[0m in \u001b[0;36mpandas._libs.index.IndexEngine.get_loc\u001b[0;34m()\u001b[0m\n",
            "\u001b[0;32m/opt/anaconda3/lib/python3.9/site-packages/pandas/_libs/index.pyx\u001b[0m in \u001b[0;36mpandas._libs.index.IndexEngine.get_loc\u001b[0;34m()\u001b[0m\n",
            "\u001b[0;32mpandas/_libs/hashtable_class_helper.pxi\u001b[0m in \u001b[0;36mpandas._libs.hashtable.PyObjectHashTable.get_item\u001b[0;34m()\u001b[0m\n",
            "\u001b[0;32mpandas/_libs/hashtable_class_helper.pxi\u001b[0m in \u001b[0;36mpandas._libs.hashtable.PyObjectHashTable.get_item\u001b[0;34m()\u001b[0m\n",
            "\u001b[0;31mKeyError\u001b[0m: 'marital_status_Divorced'",
            "\nThe above exception was the direct cause of the following exception:\n",
            "\u001b[0;31mKeyError\u001b[0m                                  Traceback (most recent call last)",
            "\u001b[0;32m/var/folders/n3/4403v4w11yb16wh75zwyc7qh0000gp/T/ipykernel_1034/1708650168.py\u001b[0m in \u001b[0;36m<module>\u001b[0;34m\u001b[0m\n\u001b[1;32m      1\u001b[0m \u001b[0;31m# plot of the marital status of the respondents, order them in descending order\u001b[0m\u001b[0;34m\u001b[0m\u001b[0;34m\u001b[0m\u001b[0m\n\u001b[0;32m----> 2\u001b[0;31m \u001b[0max\u001b[0m \u001b[0;34m=\u001b[0m \u001b[0msns\u001b[0m\u001b[0;34m.\u001b[0m\u001b[0mcountplot\u001b[0m\u001b[0;34m(\u001b[0m\u001b[0mdf\u001b[0m\u001b[0;34m[\u001b[0m\u001b[0;34m'marital_status_Divorced'\u001b[0m\u001b[0;34m]\u001b[0m\u001b[0;34m,\u001b[0m \u001b[0morder\u001b[0m \u001b[0;34m=\u001b[0m \u001b[0mdf\u001b[0m\u001b[0;34m[\u001b[0m\u001b[0;34m'marital_status_Divorced'\u001b[0m\u001b[0;34m]\u001b[0m\u001b[0;34m.\u001b[0m\u001b[0mvalue_counts\u001b[0m\u001b[0;34m(\u001b[0m\u001b[0;34m)\u001b[0m\u001b[0;34m.\u001b[0m\u001b[0mindex\u001b[0m\u001b[0;34m)\u001b[0m\u001b[0;34m\u001b[0m\u001b[0;34m\u001b[0m\u001b[0m\n\u001b[0m\u001b[1;32m      3\u001b[0m \u001b[0;31m# formatting the chart and labelling axes\u001b[0m\u001b[0;34m\u001b[0m\u001b[0;34m\u001b[0m\u001b[0m\n\u001b[1;32m      4\u001b[0m \u001b[0mplt\u001b[0m\u001b[0;34m.\u001b[0m\u001b[0mtitle\u001b[0m\u001b[0;34m(\u001b[0m\u001b[0;34m\"Marital status of the interviewees\"\u001b[0m\u001b[0;34m)\u001b[0m\u001b[0;34m\u001b[0m\u001b[0;34m\u001b[0m\u001b[0m\n\u001b[1;32m      5\u001b[0m \u001b[0mplt\u001b[0m\u001b[0;34m.\u001b[0m\u001b[0mxlabel\u001b[0m\u001b[0;34m(\u001b[0m\u001b[0;34m\"Marital status\"\u001b[0m\u001b[0;34m)\u001b[0m\u001b[0;34m\u001b[0m\u001b[0;34m\u001b[0m\u001b[0m\n",
            "\u001b[0;32m/opt/anaconda3/lib/python3.9/site-packages/pandas/core/frame.py\u001b[0m in \u001b[0;36m__getitem__\u001b[0;34m(self, key)\u001b[0m\n\u001b[1;32m   3456\u001b[0m             \u001b[0;32mif\u001b[0m \u001b[0mself\u001b[0m\u001b[0;34m.\u001b[0m\u001b[0mcolumns\u001b[0m\u001b[0;34m.\u001b[0m\u001b[0mnlevels\u001b[0m \u001b[0;34m>\u001b[0m \u001b[0;36m1\u001b[0m\u001b[0;34m:\u001b[0m\u001b[0;34m\u001b[0m\u001b[0;34m\u001b[0m\u001b[0m\n\u001b[1;32m   3457\u001b[0m                 \u001b[0;32mreturn\u001b[0m \u001b[0mself\u001b[0m\u001b[0;34m.\u001b[0m\u001b[0m_getitem_multilevel\u001b[0m\u001b[0;34m(\u001b[0m\u001b[0mkey\u001b[0m\u001b[0;34m)\u001b[0m\u001b[0;34m\u001b[0m\u001b[0;34m\u001b[0m\u001b[0m\n\u001b[0;32m-> 3458\u001b[0;31m             \u001b[0mindexer\u001b[0m \u001b[0;34m=\u001b[0m \u001b[0mself\u001b[0m\u001b[0;34m.\u001b[0m\u001b[0mcolumns\u001b[0m\u001b[0;34m.\u001b[0m\u001b[0mget_loc\u001b[0m\u001b[0;34m(\u001b[0m\u001b[0mkey\u001b[0m\u001b[0;34m)\u001b[0m\u001b[0;34m\u001b[0m\u001b[0;34m\u001b[0m\u001b[0m\n\u001b[0m\u001b[1;32m   3459\u001b[0m             \u001b[0;32mif\u001b[0m \u001b[0mis_integer\u001b[0m\u001b[0;34m(\u001b[0m\u001b[0mindexer\u001b[0m\u001b[0;34m)\u001b[0m\u001b[0;34m:\u001b[0m\u001b[0;34m\u001b[0m\u001b[0;34m\u001b[0m\u001b[0m\n\u001b[1;32m   3460\u001b[0m                 \u001b[0mindexer\u001b[0m \u001b[0;34m=\u001b[0m \u001b[0;34m[\u001b[0m\u001b[0mindexer\u001b[0m\u001b[0;34m]\u001b[0m\u001b[0;34m\u001b[0m\u001b[0;34m\u001b[0m\u001b[0m\n",
            "\u001b[0;32m/opt/anaconda3/lib/python3.9/site-packages/pandas/core/indexes/base.py\u001b[0m in \u001b[0;36mget_loc\u001b[0;34m(self, key, method, tolerance)\u001b[0m\n\u001b[1;32m   3361\u001b[0m                 \u001b[0;32mreturn\u001b[0m \u001b[0mself\u001b[0m\u001b[0;34m.\u001b[0m\u001b[0m_engine\u001b[0m\u001b[0;34m.\u001b[0m\u001b[0mget_loc\u001b[0m\u001b[0;34m(\u001b[0m\u001b[0mcasted_key\u001b[0m\u001b[0;34m)\u001b[0m\u001b[0;34m\u001b[0m\u001b[0;34m\u001b[0m\u001b[0m\n\u001b[1;32m   3362\u001b[0m             \u001b[0;32mexcept\u001b[0m \u001b[0mKeyError\u001b[0m \u001b[0;32mas\u001b[0m \u001b[0merr\u001b[0m\u001b[0;34m:\u001b[0m\u001b[0;34m\u001b[0m\u001b[0;34m\u001b[0m\u001b[0m\n\u001b[0;32m-> 3363\u001b[0;31m                 \u001b[0;32mraise\u001b[0m \u001b[0mKeyError\u001b[0m\u001b[0;34m(\u001b[0m\u001b[0mkey\u001b[0m\u001b[0;34m)\u001b[0m \u001b[0;32mfrom\u001b[0m \u001b[0merr\u001b[0m\u001b[0;34m\u001b[0m\u001b[0;34m\u001b[0m\u001b[0m\n\u001b[0m\u001b[1;32m   3364\u001b[0m \u001b[0;34m\u001b[0m\u001b[0m\n\u001b[1;32m   3365\u001b[0m         \u001b[0;32mif\u001b[0m \u001b[0mis_scalar\u001b[0m\u001b[0;34m(\u001b[0m\u001b[0mkey\u001b[0m\u001b[0;34m)\u001b[0m \u001b[0;32mand\u001b[0m \u001b[0misna\u001b[0m\u001b[0;34m(\u001b[0m\u001b[0mkey\u001b[0m\u001b[0;34m)\u001b[0m \u001b[0;32mand\u001b[0m \u001b[0;32mnot\u001b[0m \u001b[0mself\u001b[0m\u001b[0;34m.\u001b[0m\u001b[0mhasnans\u001b[0m\u001b[0;34m:\u001b[0m\u001b[0;34m\u001b[0m\u001b[0;34m\u001b[0m\u001b[0m\n",
            "\u001b[0;31mKeyError\u001b[0m: 'marital_status_Divorced'"
          ]
        }
      ],
      "source": [
        "# plot of the marital status of the respondents, order them in descending order\n",
        "ax = sns.countplot(df['marital_status_Divorced/Seperated'], order = df['marital_status_Divorced/Seperated'].value_counts().index)\n",
        "# formatting the chart and labelling axes\n",
        "plt.title(\"Marital status of the interviewees\")\n",
        "plt.xlabel(\"Marital status\")\n",
        "plt.ylabel(\"Number of individuals in the population\")\n",
        "plt.xticks(rotation=90)"
      ]
    },
    {
      "cell_type": "code",
      "execution_count": null,
      "metadata": {
        "colab": {
          "base_uri": "https://localhost:8080/",
          "height": 0
        },
        "colab_type": "code",
        "id": "9ZfkSGo_OgI6",
        "outputId": "88d28e88-556c-4240-ecb5-fe8cea6460ac"
      },
      "outputs": [
        {
          "data": {
            "text/plain": [
              "Text(0, 0.5, 'Number of respondents')"
            ]
          },
          "execution_count": 25,
          "metadata": {
            "tags": []
          },
          "output_type": "execute_result"
        },
        {
          "data": {
            "image/png": "[encoded data removed]",
            "text/plain": [
              "<Figure size 432x288 with 1 Axes>"
            ]
          },
          "metadata": {
            "needs_background": "light",
            "tags": []
          },
          "output_type": "display_data"
        }
      ],
      "source": [
        "# plot of the level of education for the respondents who took part in the interview\n",
        "df['level_of_education'].value_counts().plot(kind='bar')\n",
        "# formatting and labelling the plot\n",
        "plt.title(\"Highest level of education reached by interviewees in the population\")\n",
        "plt.xlabel(\"Highest level reached\")\n",
        "plt.ylabel(\"Number of respondents\")\n"
      ]
    },
    {
      "cell_type": "code",
      "execution_count": null,
      "metadata": {
        "colab": {
          "base_uri": "https://localhost:8080/",
          "height": 0
        },
        "colab_type": "code",
        "id": "8MJn2qFhV0VC",
        "outputId": "01f5347d-d194-48bc-f9b0-dab43512f24d"
      },
      "outputs": [
        {
          "data": {
            "text/plain": [
              "Primary education                  9196\n",
              "Secondary education                3712\n",
              "No formal education                3703\n",
              "Tertiary education                 1065\n",
              "Vocational/Specialised training     761\n",
              "Other/Dont know/RTA                   6\n",
              "Name: level_of_education, dtype: int64"
            ]
          },
          "execution_count": 26,
          "metadata": {
            "tags": []
          },
          "output_type": "execute_result"
        }
      ],
      "source": [
        "# notice an anomaly in the above plot.6 is represented yet it does not represent any thing related to level of education\n",
        "# drop the anomaly 6 in the level of education\n",
        "df = df[~(df['level_of_education']=='6')]\n",
        "df['level_of_education'].value_counts()\n"
      ]
    },
    {
      "cell_type": "code",
      "execution_count": null,
      "metadata": {
        "colab": {
          "base_uri": "https://localhost:8080/",
          "height": 0
        },
        "colab_type": "code",
        "id": "37-bVzyf9kRW",
        "outputId": "855fe21b-50d5-447c-a5a4-b4524c303fd2"
      },
      "outputs": [
        {
          "data": {
            "text/plain": [
              "(array([0, 1, 2, 3, 4, 5]), <a list of 6 Text major ticklabel objects>)"
            ]
          },
          "execution_count": 27,
          "metadata": {
            "tags": []
          },
          "output_type": "execute_result"
        },
        {
          "data": {
            "image/png": "[encoded data removed]",
            "text/plain": [
              "<Figure size 432x288 with 1 Axes>"
            ]
          },
          "metadata": {
            "needs_background": "light",
            "tags": []
          },
          "output_type": "display_data"
        }
      ],
      "source": [
        "# plot a new chart for the level of education after dropping the anomalies\n",
        "ax = sns.countplot(df['level_of_education'], order = df['level_of_education'].value_counts().index)\n",
        "# formatting and labelling the chart\n",
        "plt.title(\"Highest level of education reached by interviewees in the population\")\n",
        "plt.xlabel(\"Highest level reached\")\n",
        "plt.ylabel(\"Number of respondents\")\n",
        "plt.xticks(rotation=90)"
      ]
    },
    {
      "cell_type": "code",
      "execution_count": null,
      "metadata": {
        "colab": {
          "base_uri": "https://localhost:8080/",
          "height": 0
        },
        "colab_type": "code",
        "id": "gzzaWj6GPgLV",
        "outputId": "709533f1-1709-49e9-d187-6a4bf66e956c"
      },
      "outputs": [
        {
          "data": {
            "text/plain": [
              "(array([0, 1, 2, 3, 4, 5, 6, 7, 8, 9]),\n",
              " <a list of 10 Text major ticklabel objects>)"
            ]
          },
          "execution_count": 28,
          "metadata": {
            "tags": []
          },
          "output_type": "execute_result"
        },
        {
          "data": {
            "image/png": "[encoded data removed]",
            "text/plain": [
              "<Figure size 432x288 with 1 Axes>"
            ]
          },
          "metadata": {
            "needs_background": "light",
            "tags": []
          },
          "output_type": "display_data"
        }
      ],
      "source": [
        "# count plot for the type of job\n",
        "ax = sns.countplot(df['type_of_job'], order = df['type_of_job'].value_counts().index)\n",
        "# formatting and labelling the chart \n",
        "plt.title(\"Type of job respondent holds\")\n",
        "plt.xlabel(\"Type of job\")\n",
        "plt.ylabel(\"Number of respondents\")\n",
        "plt.xticks(rotation=90)"
      ]
    },
    {
      "cell_type": "markdown",
      "metadata": {
        "colab_type": "text",
        "id": "zpNo3KuqnJxW"
      },
      "source": [
        "**Measures of central tendency**"
      ]
    },
    {
      "cell_type": "code",
      "execution_count": null,
      "metadata": {
        "colab": {
          "base_uri": "https://localhost:8080/",
          "height": 0
        },
        "colab_type": "code",
        "id": "rpdmbcq4m9H9",
        "outputId": "d31f1119-ad46-4842-b47c-2bba6839d6c6"
      },
      "outputs": [
        {
          "name": "stdout",
          "output_type": "stream",
          "text": [
            "39.2298433009814\n",
            "36.0\n",
            "0    30.0\n",
            "dtype: float64\n"
          ]
        }
      ],
      "source": [
        "print(df['respondent_age'].mean())\n",
        "\n",
        "print(df['respondent_age'].median())\n",
        "\n",
        "print(df['respondent_age'].mode())"
      ]
    },
    {
      "cell_type": "code",
      "execution_count": null,
      "metadata": {
        "colab": {
          "base_uri": "https://localhost:8080/",
          "height": 0
        },
        "colab_type": "code",
        "id": "1pBQAmnKnU4I",
        "outputId": "7b489f56-c717-4b6d-ec84-afef2d1aaa58"
      },
      "outputs": [
        {
          "name": "stdout",
          "output_type": "stream",
          "text": [
            "3.614162554898878\n",
            "3.0\n",
            "0    2.0\n",
            "dtype: float64\n"
          ]
        }
      ],
      "source": [
        "print(df['household_size'].mean())\n",
        "print(df['household_size'].median())\n",
        "print(df['household_size'].mode())"
      ]
    },
    {
      "cell_type": "markdown",
      "metadata": {
        "colab_type": "text",
        "id": "cNH9M5u3G4st"
      },
      "source": [
        "## Bivariate Analysis"
      ]
    },
    {
      "cell_type": "code",
      "execution_count": null,
      "metadata": {
        "colab": {
          "base_uri": "https://localhost:8080/",
          "height": 322
        },
        "colab_type": "code",
        "id": "pQgXj6qDiKVh",
        "outputId": "eb09a7df-efc3-4cb8-c2e5-e3da4ef2a917"
      },
      "outputs": [
        {
          "data": {
            "text/html": [
              "<div>\n",
              "<style scoped>\n",
              "    .dataframe tbody tr th:only-of-type {\n",
              "        vertical-align: middle;\n",
              "    }\n",
              "\n",
              "    .dataframe tbody tr th {\n",
              "        vertical-align: top;\n",
              "    }\n",
              "\n",
              "    .dataframe thead th {\n",
              "        text-align: right;\n",
              "    }\n",
              "</style>\n",
              "<table border=\"1\" class=\"dataframe\">\n",
              "  <thead>\n",
              "    <tr style=\"text-align: right;\">\n",
              "      <th></th>\n",
              "      <th>country</th>\n",
              "      <th>has_a_bank_account</th>\n",
              "      <th>type_of_location</th>\n",
              "      <th>cell_phone_access</th>\n",
              "      <th>household_size</th>\n",
              "      <th>respondent_age</th>\n",
              "      <th>gender_of_respondent</th>\n",
              "      <th>relationship_with_head</th>\n",
              "      <th>marital_status</th>\n",
              "      <th>level_of_education</th>\n",
              "      <th>type_of_job</th>\n",
              "    </tr>\n",
              "  </thead>\n",
              "  <tbody>\n",
              "    <tr>\n",
              "      <th>0</th>\n",
              "      <td>Kenya</td>\n",
              "      <td>Yes</td>\n",
              "      <td>Rural</td>\n",
              "      <td>Yes</td>\n",
              "      <td>3.0</td>\n",
              "      <td>24.0</td>\n",
              "      <td>Female</td>\n",
              "      <td>Spouse</td>\n",
              "      <td>Married/Living together</td>\n",
              "      <td>Secondary education</td>\n",
              "      <td>Self employed</td>\n",
              "    </tr>\n",
              "    <tr>\n",
              "      <th>1</th>\n",
              "      <td>Kenya</td>\n",
              "      <td>No</td>\n",
              "      <td>Rural</td>\n",
              "      <td>No</td>\n",
              "      <td>5.0</td>\n",
              "      <td>70.0</td>\n",
              "      <td>Female</td>\n",
              "      <td>Head of Household</td>\n",
              "      <td>Widowed</td>\n",
              "      <td>No formal education</td>\n",
              "      <td>Government Dependent</td>\n",
              "    </tr>\n",
              "    <tr>\n",
              "      <th>2</th>\n",
              "      <td>Kenya</td>\n",
              "      <td>Yes</td>\n",
              "      <td>Urban</td>\n",
              "      <td>Yes</td>\n",
              "      <td>5.0</td>\n",
              "      <td>26.0</td>\n",
              "      <td>Male</td>\n",
              "      <td>Other relative</td>\n",
              "      <td>Single/Never Married</td>\n",
              "      <td>Vocational/Specialised training</td>\n",
              "      <td>Self employed</td>\n",
              "    </tr>\n",
              "    <tr>\n",
              "      <th>3</th>\n",
              "      <td>Kenya</td>\n",
              "      <td>No</td>\n",
              "      <td>Rural</td>\n",
              "      <td>Yes</td>\n",
              "      <td>5.0</td>\n",
              "      <td>34.0</td>\n",
              "      <td>Female</td>\n",
              "      <td>Head of Household</td>\n",
              "      <td>Married/Living together</td>\n",
              "      <td>Primary education</td>\n",
              "      <td>Formally employed Private</td>\n",
              "    </tr>\n",
              "    <tr>\n",
              "      <th>4</th>\n",
              "      <td>Kenya</td>\n",
              "      <td>No</td>\n",
              "      <td>Urban</td>\n",
              "      <td>No</td>\n",
              "      <td>8.0</td>\n",
              "      <td>26.0</td>\n",
              "      <td>Male</td>\n",
              "      <td>Child</td>\n",
              "      <td>Single/Never Married</td>\n",
              "      <td>Primary education</td>\n",
              "      <td>Informally employed</td>\n",
              "    </tr>\n",
              "  </tbody>\n",
              "</table>\n",
              "</div>"
            ],
            "text/plain": [
              "  country  ...                type_of_job\n",
              "0   Kenya  ...              Self employed\n",
              "1   Kenya  ...       Government Dependent\n",
              "2   Kenya  ...              Self employed\n",
              "3   Kenya  ...  Formally employed Private\n",
              "4   Kenya  ...        Informally employed\n",
              "\n",
              "[5 rows x 11 columns]"
            ]
          },
          "execution_count": 31,
          "metadata": {
            "tags": []
          },
          "output_type": "execute_result"
        }
      ],
      "source": [
        "# rename/save the dataframe using a new name \n",
        "finance = df\n",
        "finance.head()"
      ]
    },
    {
      "cell_type": "code",
      "execution_count": null,
      "metadata": {
        "colab": {
          "base_uri": "https://localhost:8080/",
          "height": 345
        },
        "colab_type": "code",
        "id": "iNBxz2L0X_fb",
        "outputId": "8682ef66-084c-4bb4-f823-5018ded45c7f"
      },
      "outputs": [
        {
          "name": "stdout",
          "output_type": "stream",
          "text": [
            "<class 'pandas.core.frame.DataFrame'>\n",
            "Int64Index: 18443 entries, 0 to 23522\n",
            "Data columns (total 11 columns):\n",
            " #   Column                  Non-Null Count  Dtype  \n",
            "---  ------                  --------------  -----  \n",
            " 0   country                 18443 non-null  object \n",
            " 1   has_a_bank_account      18443 non-null  object \n",
            " 2   type_of_location        18443 non-null  object \n",
            " 3   cell_phone_access       18443 non-null  object \n",
            " 4   household_size          18443 non-null  float64\n",
            " 5   respondent_age          18443 non-null  float64\n",
            " 6   gender_of_respondent    18443 non-null  object \n",
            " 7   relationship_with_head  18443 non-null  object \n",
            " 8   marital_status          18443 non-null  object \n",
            " 9   level_of_education      18443 non-null  object \n",
            " 10  type_of_job             18443 non-null  object \n",
            "dtypes: float64(2), object(9)\n",
            "memory usage: 2.3+ MB\n"
          ]
        }
      ],
      "source": [
        "# checking the datatypes\n",
        "finance.info()"
      ]
    },
    {
      "cell_type": "markdown",
      "metadata": {
        "colab_type": "text",
        "id": "K3LA70pVl12p"
      },
      "source": [
        "**Analysis by Country**"
      ]
    },
    {
      "cell_type": "code",
      "execution_count": null,
      "metadata": {
        "colab": {
          "base_uri": "https://localhost:8080/",
          "height": 674
        },
        "colab_type": "code",
        "id": "ZvWr7KH0uRF2",
        "outputId": "bd0efb25-ae14-44ce-9998-a75f93667852"
      },
      "outputs": [
        {
          "name": "stdout",
          "output_type": "stream",
          "text": [
            "has_a_bank_account    No   Yes\n",
            "country                       \n",
            "Kenya               4029  1430\n",
            "Rwanda              5567   931\n",
            "Tanzania            4143   548\n",
            "Uganda              1631   164\n"
          ]
        },
        {
          "data": {
            "text/plain": [
              "Text(0, 0.5, 'Distribution across the population')"
            ]
          },
          "execution_count": 33,
          "metadata": {
            "tags": []
          },
          "output_type": "execute_result"
        },
        {
          "data": {
            "image/png": "[encoded data removed]",
            "text/plain": [
              "<Figure size 576x576 with 1 Axes>"
            ]
          },
          "metadata": {
            "needs_background": "light",
            "tags": []
          },
          "output_type": "display_data"
        }
      ],
      "source": [
        "# create a crosstab/frequency table for the countries and bank account possession\n",
        "countries_bankacc= pd.crosstab(index=finance['country'], columns=finance['has_a_bank_account'])\n",
        "\n",
        "print(countries_bankacc)\n",
        "# plot chart for the frequencies represented in the crosstab dataframe \n",
        "countries_bankacc.plot(kind=\"bar\", figsize=(8,8),stacked=True)\n",
        "# labelling axes and formatting chart\n",
        "plt.title(\"Bank account possession by country\")\n",
        "plt.ylabel(\"Distribution across the population\")"
      ]
    },
    {
      "cell_type": "code",
      "execution_count": null,
      "metadata": {
        "colab": {
          "base_uri": "https://localhost:8080/",
          "height": 674
        },
        "colab_type": "code",
        "id": "gPVBceM-b9eH",
        "outputId": "9b2554d5-575e-47b7-e196-c8318a10d830"
      },
      "outputs": [
        {
          "name": "stdout",
          "output_type": "stream",
          "text": [
            "cell_phone_access    No   Yes\n",
            "country                      \n",
            "Kenya              1091  4368\n",
            "Rwanda             1264  5234\n",
            "Tanzania           1847  2844\n",
            "Uganda              540  1255\n"
          ]
        },
        {
          "data": {
            "text/plain": [
              "Text(0, 0.5, 'Distribution across the population')"
            ]
          },
          "execution_count": 34,
          "metadata": {
            "tags": []
          },
          "output_type": "execute_result"
        },
        {
          "data": {
            "image/png": "[encoded data removed]",
            "text/plain": [
              "<Figure size 576x576 with 1 Axes>"
            ]
          },
          "metadata": {
            "needs_background": "light",
            "tags": []
          },
          "output_type": "display_data"
        }
      ],
      "source": [
        "# create a crosstab/frequency table for the countries and accessibility to cell phone\n",
        "countries_cellphone = pd.crosstab(index=finance['country'], columns=finance['cell_phone_access'])\n",
        "\n",
        "print(countries_cellphone)\n",
        "# plot chart for the frequencies represented in the crosstab dataframe\n",
        "countries_cellphone.plot(kind=\"bar\", figsize=(8,8),stacked=True)\n",
        "# labelling axes and formatting chart\n",
        "plt.title(\"Accessibility to cellphone by country\")\n",
        "plt.ylabel(\"Distribution across the population\")"
      ]
    },
    {
      "cell_type": "code",
      "execution_count": null,
      "metadata": {
        "colab": {
          "base_uri": "https://localhost:8080/",
          "height": 674
        },
        "colab_type": "code",
        "id": "XojftZhtwVr5",
        "outputId": "a05fe486-985f-413d-81af-53b4124b3ab5"
      },
      "outputs": [
        {
          "name": "stdout",
          "output_type": "stream",
          "text": [
            "type_of_location  Rural  Urban\n",
            "country                       \n",
            "Kenya              3131   2328\n",
            "Rwanda             5336   1162\n",
            "Tanzania           1559   3132\n",
            "Uganda             1253    542\n"
          ]
        },
        {
          "data": {
            "text/plain": [
              "Text(0, 0.5, 'Distribution across the population')"
            ]
          },
          "execution_count": 35,
          "metadata": {
            "tags": []
          },
          "output_type": "execute_result"
        },
        {
          "data": {
            "image/png": "[encoded data removed]",
            "text/plain": [
              "<Figure size 576x576 with 1 Axes>"
            ]
          },
          "metadata": {
            "needs_background": "light",
            "tags": []
          },
          "output_type": "display_data"
        }
      ],
      "source": [
        "# create a crosstab/frequency table \n",
        "countries_location = pd.crosstab(index=finance['country'], columns=finance['type_of_location'])\n",
        "print(countries_location)\n",
        "\n",
        "# plot chart for the frequencies represented in the crosstab dataframe \n",
        "countries_location.plot(kind=\"bar\", figsize=(8,8),stacked=True)\n",
        "# labelling axes and formatting chart\n",
        "plt.title(\"Locations of respondents by country\")\n",
        "plt.ylabel(\"Distribution across the population\")"
      ]
    },
    {
      "cell_type": "code",
      "execution_count": null,
      "metadata": {
        "colab": {
          "base_uri": "https://localhost:8080/",
          "height": 674
        },
        "colab_type": "code",
        "id": "rbcov90j2kzN",
        "outputId": "c9ea1ee0-964d-4d86-f551-a4620eb853eb"
      },
      "outputs": [
        {
          "name": "stdout",
          "output_type": "stream",
          "text": [
            "household_size  0.0   1.0   2.0   3.0   4.0   5.0  6.0  7.0  8.0  9.0\n",
            "country                                                              \n",
            "Kenya             0   916   807   872   880   732  554  363  210  125\n",
            "Rwanda            0   423   754  1158  1159  1106  845  612  301  140\n",
            "Tanzania         30  1870  1812   560   243   101   43   21    9    2\n",
            "Uganda            0   168   238   311   259   240  212  171  125   71\n"
          ]
        },
        {
          "data": {
            "text/plain": [
              "Text(0, 0.5, 'Distribution across the population')"
            ]
          },
          "execution_count": 36,
          "metadata": {
            "tags": []
          },
          "output_type": "execute_result"
        },
        {
          "data": {
            "image/png": "[encoded data removed]",
            "text/plain": [
              "<Figure size 576x576 with 1 Axes>"
            ]
          },
          "metadata": {
            "needs_background": "light",
            "tags": []
          },
          "output_type": "display_data"
        }
      ],
      "source": [
        "# create a frequency table dataframe\n",
        "countries_housesize = pd.crosstab(index=finance['country'], columns=finance['household_size'])\n",
        "print(countries_housesize)\n",
        "# plot chart from the frequency table dataframe\n",
        "countries_housesize.plot(kind=\"bar\", figsize=(8,8),stacked=True)\n",
        "# labelling axes and formatting chart\n",
        "plt.title(\"Housesizes for the respondents by country\")\n",
        "plt.ylabel(\"Distribution across the population\")"
      ]
    },
    {
      "cell_type": "code",
      "execution_count": null,
      "metadata": {
        "colab": {
          "base_uri": "https://localhost:8080/",
          "height": 710
        },
        "colab_type": "code",
        "id": "36te2maE223K",
        "outputId": "db93a33d-0106-4d3e-8654-62bed76e4466"
      },
      "outputs": [
        {
          "name": "stdout",
          "output_type": "stream",
          "text": [
            "marital_status  Divorced/Seperated  Dont know  ...  Single/Never Married  Widowed\n",
            "country                                        ...                               \n",
            "Kenya                          339          8  ...                  1320      619\n",
            "Rwanda                         444          0  ...                  1569      971\n",
            "Tanzania                       974          0  ...                  2638      513\n",
            "Uganda                         155          0  ...                   335      168\n",
            "\n",
            "[4 rows x 5 columns]\n"
          ]
        },
        {
          "data": {
            "text/plain": [
              "Text(0, 0.5, 'Distribution across the population')"
            ]
          },
          "execution_count": 37,
          "metadata": {
            "tags": []
          },
          "output_type": "execute_result"
        },
        {
          "data": {
            "image/png": "[encoded data removed]",
            "text/plain": [
              "<Figure size 576x576 with 1 Axes>"
            ]
          },
          "metadata": {
            "needs_background": "light",
            "tags": []
          },
          "output_type": "display_data"
        }
      ],
      "source": [
        "# create a crosstab dataframe\n",
        "countries_gender = pd.crosstab(index=finance['country'], columns=finance['marital_status'])\n",
        "print(countries_gender)\n",
        "# plot chart from the dataframe\n",
        "countries_gender.plot(kind=\"bar\", figsize=(8,8))\n",
        "# formatting and labelling chart\n",
        "plt.title(\"Marital status of respondents by country\")\n",
        "plt.ylabel(\"Distribution across the population\")"
      ]
    },
    {
      "cell_type": "code",
      "execution_count": null,
      "metadata": {
        "colab": {
          "base_uri": "https://localhost:8080/",
          "height": 710
        },
        "colab_type": "code",
        "id": "EbnY5Jj07x2-",
        "outputId": "b4983108-1a57-44b9-8e6e-d861c00f0e24"
      },
      "outputs": [
        {
          "name": "stdout",
          "output_type": "stream",
          "text": [
            "type_of_job  Dont Know/Refuse to answer  ...  Self employed\n",
            "country                                  ...               \n",
            "Kenya                                 3  ...            904\n",
            "Rwanda                               54  ...            553\n",
            "Tanzania                              0  ...           2318\n",
            "Uganda                               62  ...            902\n",
            "\n",
            "[4 rows x 10 columns]\n"
          ]
        },
        {
          "data": {
            "text/plain": [
              "Text(0, 0.5, 'Distribution across the population')"
            ]
          },
          "execution_count": 38,
          "metadata": {
            "tags": []
          },
          "output_type": "execute_result"
        },
        {
          "data": {
            "image/png": "[encoded data removed]",
            "text/plain": [
              "<Figure size 576x576 with 1 Axes>"
            ]
          },
          "metadata": {
            "needs_background": "light",
            "tags": []
          },
          "output_type": "display_data"
        }
      ],
      "source": [
        "# create crosstab dataframe\n",
        "countries_job = pd.crosstab(index=finance['country'], columns=finance['type_of_job'])\n",
        "print(countries_job)\n",
        "# plot chart\n",
        "countries_job.plot(kind=\"bar\", figsize=(8,8))\n",
        "# formatting\n",
        "plt.title(\"Type of job respondent holds by country\")\n",
        "plt.ylabel(\"Distribution across the population\")"
      ]
    },
    {
      "cell_type": "markdown",
      "metadata": {
        "colab_type": "text",
        "id": "CmrAaa1p4EnC"
      },
      "source": [
        "**Demographic factor analysis**"
      ]
    },
    {
      "cell_type": "code",
      "execution_count": null,
      "metadata": {
        "colab": {
          "base_uri": "https://localhost:8080/",
          "height": 822
        },
        "colab_type": "code",
        "id": "pJ1mRfo834Oh",
        "outputId": "4395364b-53d1-49e4-87a1-1768c778be02"
      },
      "outputs": [
        {
          "name": "stdout",
          "output_type": "stream",
          "text": [
            "has_a_bank_account                 No   Yes\n",
            "level_of_education                         \n",
            "No formal education              3541   162\n",
            "Other/Dont know/RTA                 0     6\n",
            "Primary education                8185  1011\n",
            "Secondary education              2803   909\n",
            "Tertiary education                512   553\n",
            "Vocational/Specialised training   329   432\n"
          ]
        },
        {
          "data": {
            "text/plain": [
              "Text(0, 0.5, 'Distribution across the population')"
            ]
          },
          "execution_count": 39,
          "metadata": {
            "tags": []
          },
          "output_type": "execute_result"
        },
        {
          "data": {
            "image/png": "[encoded data removed]",
            "text/plain": [
              "<Figure size 576x576 with 1 Axes>"
            ]
          },
          "metadata": {
            "needs_background": "light",
            "tags": []
          },
          "output_type": "display_data"
        }
      ],
      "source": [
        "# create crosstab\n",
        "edu_bank = pd.crosstab(index=finance['level_of_education'], columns=finance['has_a_bank_account'])\n",
        "print(edu_bank)\n",
        "# plot chart\n",
        "edu_bank.plot(kind=\"bar\", figsize=(8,8))\n",
        "# format & label chart\n",
        "plt.title(\"Relation of respondents education level to bank account possession\")\n",
        "plt.ylabel(\"Distribution across the population\")"
      ]
    },
    {
      "cell_type": "code",
      "execution_count": null,
      "metadata": {
        "colab": {
          "base_uri": "https://localhost:8080/",
          "height": 550
        },
        "colab_type": "code",
        "id": "FwWOBoE556im",
        "outputId": "bad4e8ca-466e-41cc-bb5c-4e77b0bf2485"
      },
      "outputs": [
        {
          "name": "stdout",
          "output_type": "stream",
          "text": [
            "has_a_bank_account   No  Yes\n",
            "respondent_age              \n",
            "16.0                357    5\n",
            "17.0                364    8\n",
            "18.0                453   20\n",
            "19.0                362   27\n",
            "20.0                470   35\n",
            "...                 ...  ...\n",
            "82.0                 31    5\n",
            "83.0                 28    2\n",
            "84.0                 18    2\n",
            "85.0                 49    2\n",
            "86.0                 20    3\n",
            "\n",
            "[71 rows x 2 columns]\n"
          ]
        },
        {
          "data": {
            "text/plain": [
              "Text(0, 0.5, 'Distribution across the population')"
            ]
          },
          "execution_count": 40,
          "metadata": {
            "tags": []
          },
          "output_type": "execute_result"
        },
        {
          "data": {
            "image/png": "[encoded data removed]",
            "text/plain": [
              "<Figure size 1440x360 with 1 Axes>"
            ]
          },
          "metadata": {
            "needs_background": "light",
            "tags": []
          },
          "output_type": "display_data"
        }
      ],
      "source": [
        "# create crosstab dataframe\n",
        "age_bank = pd.crosstab(index=finance['respondent_age'], columns=finance['has_a_bank_account'])\n",
        "print(age_bank)\n",
        "# plot chart\n",
        "age_bank.plot(kind=\"bar\", figsize=(20,5))\n",
        "# format and label chart\n",
        "plt.title(\"Relation of respondent age and possession of bank account\")\n",
        "plt.ylabel(\"Distribution across the population\")"
      ]
    },
    {
      "cell_type": "code",
      "execution_count": null,
      "metadata": {
        "colab": {
          "base_uri": "https://localhost:8080/",
          "height": 631
        },
        "colab_type": "code",
        "id": "7ASRUDLa8o3p",
        "outputId": "10d17c63-b443-48ff-c090-6857b101b239"
      },
      "outputs": [
        {
          "name": "stdout",
          "output_type": "stream",
          "text": [
            "has_a_bank_account      No   Yes\n",
            "gender_of_respondent            \n",
            "Female                9572  1402\n",
            "Male                  5798  1671\n"
          ]
        },
        {
          "data": {
            "text/plain": [
              "Text(0, 0.5, 'Distribution across the population')"
            ]
          },
          "execution_count": 41,
          "metadata": {
            "tags": []
          },
          "output_type": "execute_result"
        },
        {
          "data": {
            "image/png": "[encoded data removed]",
            "text/plain": [
              "<Figure size 576x576 with 1 Axes>"
            ]
          },
          "metadata": {
            "needs_background": "light",
            "tags": []
          },
          "output_type": "display_data"
        }
      ],
      "source": [
        "# create crosstab dataframe\n",
        "gender_bank = pd.crosstab(index=finance['gender_of_respondent'], columns=finance['has_a_bank_account'])\n",
        "print(gender_bank)\n",
        "# plot of the relation of gender to individuals possession to bank account\n",
        "gender_bank.plot(kind=\"bar\", figsize=(8,8))\n",
        "# formatting&labelling chart\n",
        "plt.title(\"Relation of respondent age and possession of bank account\")\n",
        "plt.ylabel(\"Distribution across the population\")"
      ]
    },
    {
      "cell_type": "code",
      "execution_count": null,
      "metadata": {
        "colab": {
          "base_uri": "https://localhost:8080/",
          "height": 766
        },
        "colab_type": "code",
        "id": "SnvJU0YY91UN",
        "outputId": "cc311fd5-647d-4435-ad36-df408daf6504"
      },
      "outputs": [
        {
          "name": "stdout",
          "output_type": "stream",
          "text": [
            "has_a_bank_account         No   Yes\n",
            "marital_status                     \n",
            "Divorced/Seperated       1689   223\n",
            "Dont know                   6     2\n",
            "Married/Living together  6653  1737\n",
            "Single/Never Married     4980   882\n",
            "Widowed                  2042   229\n"
          ]
        },
        {
          "data": {
            "text/plain": [
              "Text(0, 0.5, 'Distribution across the population')"
            ]
          },
          "execution_count": 42,
          "metadata": {
            "tags": []
          },
          "output_type": "execute_result"
        },
        {
          "data": {
            "image/png": "[encoded data removed]",
            "text/plain": [
              "<Figure size 576x576 with 1 Axes>"
            ]
          },
          "metadata": {
            "needs_background": "light",
            "tags": []
          },
          "output_type": "display_data"
        }
      ],
      "source": [
        "# create crosstab dataframe\n",
        "marital_bank = pd.crosstab(index=finance['marital_status'], columns=finance['has_a_bank_account'])\n",
        "print(marital_bank)\n",
        "# plot chart\n",
        "marital_bank.plot(kind=\"bar\", figsize=(8,8))\n",
        "# formatting&labelling\n",
        "plt.title(\"Effect of marital status and possession of bank account\")\n",
        "plt.ylabel(\"Distribution across the population\")"
      ]
    },
    {
      "cell_type": "code",
      "execution_count": null,
      "metadata": {
        "colab": {
          "base_uri": "https://localhost:8080/",
          "height": 900
        },
        "colab_type": "code",
        "id": "1G_7eNY9-kDC",
        "outputId": "f4a1e7e1-5b3c-43aa-cd72-ba2f65e0f886"
      },
      "outputs": [
        {
          "name": "stdout",
          "output_type": "stream",
          "text": [
            "has_a_bank_account              No  Yes\n",
            "type_of_job                            \n",
            "Dont Know/Refuse to answer     105   14\n",
            "Farming and Fishing           3406  583\n",
            "Formally employed Government    85  288\n",
            "Formally employed Private      460  523\n",
            "Government Dependent           171   42\n",
            "Informally employed           4017  418\n",
            "No Income                      523   13\n",
            "Other Income                   816  182\n",
            "Remittance Dependent          1903  217\n",
            "Self employed                 3884  793\n"
          ]
        },
        {
          "data": {
            "text/plain": [
              "Text(0, 0.5, 'Distribution across the population')"
            ]
          },
          "execution_count": 43,
          "metadata": {
            "tags": []
          },
          "output_type": "execute_result"
        },
        {
          "data": {
            "image/png": "[encoded data removed]",
            "text/plain": [
              "<Figure size 576x576 with 1 Axes>"
            ]
          },
          "metadata": {
            "needs_background": "light",
            "tags": []
          },
          "output_type": "display_data"
        }
      ],
      "source": [
        "# create crosstab dataframe\n",
        "employ_bank = pd.crosstab(index=finance['type_of_job'], columns=finance['has_a_bank_account'])\n",
        "print(employ_bank)\n",
        "# plot chart from the dataframe\n",
        "employ_bank.plot(kind=\"bar\", figsize=(8,8), stacked=True)\n",
        "# labelling chart\n",
        "plt.title(\"Effect of employment status to possession of bank account\")\n",
        "plt.ylabel(\"Distribution across the population\")"
      ]
    },
    {
      "cell_type": "code",
      "execution_count": null,
      "metadata": {
        "colab": {
          "base_uri": "https://localhost:8080/",
          "height": 625
        },
        "colab_type": "code",
        "id": "uTST2lnV_FE4",
        "outputId": "e1fe0bc7-c4e9-45bf-abe1-053ac731664a"
      },
      "outputs": [
        {
          "name": "stdout",
          "output_type": "stream",
          "text": [
            "has_a_bank_account    No   Yes\n",
            "type_of_location              \n",
            "Rural               9739  1540\n",
            "Urban               5631  1533\n"
          ]
        },
        {
          "data": {
            "text/plain": [
              "Text(0, 0.5, 'Distribution across the population')"
            ]
          },
          "execution_count": 44,
          "metadata": {
            "tags": []
          },
          "output_type": "execute_result"
        },
        {
          "data": {
            "image/png": "[encoded data removed]",
            "text/plain": [
              "<Figure size 576x576 with 1 Axes>"
            ]
          },
          "metadata": {
            "needs_background": "light",
            "tags": []
          },
          "output_type": "display_data"
        }
      ],
      "source": [
        "# create crosstab dataframe\n",
        "location_bank = pd.crosstab(index=finance['type_of_location'], columns=finance['has_a_bank_account'])\n",
        "print(location_bank)\n",
        "# plot chart\n",
        "location_bank.plot(kind=\"bar\", figsize=(8,8))\n",
        "# label chart\n",
        "plt.title(\"Effect of area of residence to possession of bank account\")\n",
        "plt.ylabel(\"Distribution across the population\")"
      ]
    },
    {
      "cell_type": "code",
      "execution_count": null,
      "metadata": {
        "colab": {
          "base_uri": "https://localhost:8080/",
          "height": 756
        },
        "colab_type": "code",
        "id": "La8Tvsc9BLCJ",
        "outputId": "6ea4a312-0d1a-48ec-830a-a779b79ec8e6"
      },
      "outputs": [
        {
          "name": "stdout",
          "output_type": "stream",
          "text": [
            "has_a_bank_account    No  Yes\n",
            "household_size               \n",
            "0.0                   29    1\n",
            "1.0                 2750  627\n",
            "2.0                 3022  589\n",
            "3.0                 2427  474\n",
            "4.0                 2091  450\n",
            "5.0                 1786  393\n",
            "6.0                 1403  251\n",
            "7.0                  998  169\n",
            "8.0                  562   83\n",
            "9.0                  302   36\n"
          ]
        },
        {
          "data": {
            "text/plain": [
              "Text(0, 0.5, 'Distribution across the population')"
            ]
          },
          "execution_count": 45,
          "metadata": {
            "tags": []
          },
          "output_type": "execute_result"
        },
        {
          "data": {
            "image/png": "[encoded data removed]",
            "text/plain": [
              "<Figure size 576x576 with 1 Axes>"
            ]
          },
          "metadata": {
            "needs_background": "light",
            "tags": []
          },
          "output_type": "display_data"
        }
      ],
      "source": [
        "# create crosstab dataframe\n",
        "housesize_bank = pd.crosstab(index=finance['household_size'], columns=finance['has_a_bank_account'])\n",
        "print(housesize_bank)\n",
        "# plot chart\n",
        "housesize_bank.plot(kind=\"bar\", figsize=(8,8), stacked=True)\n",
        "# label chart\n",
        "plt.title(\"Effect of household size to possession of bank account\")\n",
        "plt.ylabel(\"Distribution across the population\")"
      ]
    },
    {
      "cell_type": "code",
      "execution_count": null,
      "metadata": {
        "colab": {
          "base_uri": "https://localhost:8080/",
          "height": 611
        },
        "colab_type": "code",
        "id": "V4_Uf4J0Bc96",
        "outputId": "399dd584-d7e9-49eb-dbb5-9a3603613e0c"
      },
      "outputs": [
        {
          "name": "stdout",
          "output_type": "stream",
          "text": [
            "has_a_bank_account     No   Yes\n",
            "cell_phone_access              \n",
            "No                   4647    95\n",
            "Yes                 10723  2978\n"
          ]
        },
        {
          "data": {
            "text/plain": [
              "Text(0, 0.5, 'Distribution across the population')"
            ]
          },
          "execution_count": 46,
          "metadata": {
            "tags": []
          },
          "output_type": "execute_result"
        },
        {
          "data": {
            "image/png": "[encoded data removed]",
            "text/plain": [
              "<Figure size 576x576 with 1 Axes>"
            ]
          },
          "metadata": {
            "needs_background": "light",
            "tags": []
          },
          "output_type": "display_data"
        }
      ],
      "source": [
        "# create crosstab dataframe\n",
        "cellphone_bank = pd.crosstab(index=finance['cell_phone_access'], columns=finance['has_a_bank_account'])\n",
        "print(cellphone_bank)\n",
        "# plot chart\n",
        "cellphone_bank.plot(kind=\"bar\", figsize=(8,8))\n",
        "# labelling chart\n",
        "plt.title(\"Effect of cell phone accessibility to possession of bank account\")\n",
        "plt.ylabel(\"Distribution across the population\")"
      ]
    },
    {
      "cell_type": "code",
      "execution_count": null,
      "metadata": {
        "colab": {
          "base_uri": "https://localhost:8080/",
          "height": 764
        },
        "colab_type": "code",
        "id": "dPhrX1lEB2DN",
        "outputId": "ff067b76-f2a4-4717-d473-6793e91eb6c9"
      },
      "outputs": [
        {
          "name": "stdout",
          "output_type": "stream",
          "text": [
            "has_a_bank_account        No   Yes\n",
            "relationship_with_head            \n",
            "Child                   1636   184\n",
            "Head of Household       8195  2095\n",
            "Other non-relatives      158    19\n",
            "Other relative           566    64\n",
            "Parent                   890    58\n",
            "Spouse                  3925   653\n"
          ]
        },
        {
          "data": {
            "text/plain": [
              "Text(0, 0.5, 'Distribution across the population')"
            ]
          },
          "execution_count": 47,
          "metadata": {
            "tags": []
          },
          "output_type": "execute_result"
        },
        {
          "data": {
            "image/png": "[encoded data removed]",
            "text/plain": [
              "<Figure size 576x576 with 1 Axes>"
            ]
          },
          "metadata": {
            "needs_background": "light",
            "tags": []
          },
          "output_type": "display_data"
        }
      ],
      "source": [
        "# create crosstab dataframe\n",
        "relation_withhead_bank = pd.crosstab(index=finance['relationship_with_head'], columns=finance['has_a_bank_account'])\n",
        "print(relation_withhead_bank)\n",
        "# plot chart\n",
        "relation_withhead_bank.plot(kind=\"bar\", figsize=(8,8), stacked=True)\n",
        "# label chart\n",
        "plt.title(\"Relation of respondent's relationship with head of household to possession of bank account\")\n",
        "plt.ylabel(\"Distribution across the population\")"
      ]
    },
    {
      "cell_type": "markdown",
      "metadata": {
        "colab_type": "text",
        "id": "_Gfz153ho_tL"
      },
      "source": [
        "## Multivariate Analysis"
      ]
    },
    {
      "cell_type": "markdown",
      "metadata": {
        "colab_type": "text",
        "id": "LdzRtl0dopRI"
      },
      "source": [
        "# Findings"
      ]
    },
    {
      "cell_type": "markdown",
      "metadata": {
        "colab_type": "text",
        "id": "401g2_RHovgU"
      },
      "source": [
        "After univariate analysis, it was found that :\n",
        "- a huge population of the respondents in the four countries did not have or use a bank account.\n",
        "- most individuals live in rural areas\n",
        "- the most popular family/household size is 2\n",
        "- a huge number of the respondents are of age 30, while the mean of the ages of all respondents was 39.\n",
        "- a large population of the respondents were female.\n",
        "- huge number of the respondents were heads of the household, followed by spouses.\n",
        "- most individuals in the population were married and the next most highest were single individuals.\n",
        "- most respondents had only studied upto primary level of education. Very few had studied upto the tertiary level. \n",
        "- a huge number of the respondent population were self-employed\n",
        "\n"
      ]
    },
    {
      "cell_type": "markdown",
      "metadata": {
        "colab_type": "text",
        "id": "OOsrEy35qqWB"
      },
      "source": [
        "After bivariate analysis by country, it was found that: \n",
        "- Rwanda recorded a huge number of individuals without a bank account. Kenya however, recorded a relatively high number of individuals possessing a bank account. \n",
        "- the distribution of accessibility to cell phone was fairly distributed across the countries with Tanzania having a relatively huge population with no access to a cell phone\n",
        "- most respondents from Tanzania reside in urban areas, while in Rwanda a huge population live in rural areas\n",
        "- in Tanzania, most respondents live in household sizes of 1 or 2 people\n",
        "- most respondents in Kenya, Rwanda and Uganda are married while in Uganda, a huge population are single/never married\n",
        "- a huge population of the respondents from Kenya and Rwanda do farming and fishing as their income source, while in Uganda and Tanzania,a huge population are self-employed\n",
        "\n"
      ]
    },
    {
      "cell_type": "markdown",
      "metadata": {
        "colab_type": "text",
        "id": "FiCV6shPuqWZ"
      },
      "source": [
        "After bivariate analysis by demographic factors, it was found that:\n",
        "- most individuals who had gone through higher education i.e. tertiary level or vocational training, have/use a bank account, hence the bars are almost equal\n",
        "- a huge population of individuals of ages 30, 35, 40, 42 had bank accounts\n",
        "- as much as females dominated the respondents population, males who have/use a bank account were relatively more than the females who use a bank account\n",
        "- most respondents who are married have a bank account followed by those who are single\n",
        "- more individuals that are self employed have a bank account, followed by farmers, formally employed privately and informally employed\n",
        "- area of residence did not have a huge effect on bank account possession as more individuals living in the rural areas had a bank account compared to those in urban areas\n",
        "- individuals who live in households with a smaller size tend to own a bank account\n",
        "- more individuals that have access to a cell phone have a bank account. This could be due to the accessiblity of mobile banking, online banking services which can be done on the phone.\n",
        "- more individuals that are head of household have a a bank account followed by spouses. This could be due to the responsibilities that generally fall onto the head of the household that leads them to budgeting, saving for the future and hence having a bank account to manage finances."
      ]
    }
  ],
  "metadata": {
    "colab": {
      "authorship_tag": "ABX9TyN6CWEmuDVMqn+NeujoYyIZ",
      "include_colab_link": true,
      "name": "Moringa_Data_Science_Core_W2_Independent_Project_2020_08_Jenipher_Mawia_Python_Notebook",
      "provenance": [],
      "toc_visible": true
    },
    "interpreter": {
      "hash": "40d3a090f54c6569ab1632332b64b2c03c39dcf918b08424e98f38b5ae0af88f"
    },
    "kernelspec": {
      "display_name": "Python 3.9.7 ('base')",
      "language": "python",
      "name": "python3"
    },
    "language_info": {
      "codemirror_mode": {
        "name": "ipython",
        "version": 3
      },
      "file_extension": ".py",
      "mimetype": "text/x-python",
      "name": "python",
      "nbconvert_exporter": "python",
      "pygments_lexer": "ipython3",
      "version": "3.9.7"
    }
  },
  "nbformat": 4,
  "nbformat_minor": 0
}
