{
  "nbformat": 4,
  "nbformat_minor": 0,
  "metadata": {
    "colab": {
      "name": "Finscope Survey Classification.ipynb",
      "provenance": [],
      "collapsed_sections": [],
      "include_colab_link": true
    },
    "kernelspec": {
      "display_name": "Python 3",
      "name": "python3"
    }
  },
  "cells": [
    {
      "cell_type": "markdown",
      "metadata": {
        "id": "view-in-github",
        "colab_type": "text"
      },
      "source": [
        "<a href=\"https://colab.research.google.com/github/EllieMwangi/Finscope-survey-data-EDA/blob/master/Finscope_Survey_Classification.ipynb\" target=\"_parent\"><img src=\"https://colab.research.google.com/assets/colab-badge.svg\" alt=\"Open In Colab\"/></a>"
      ]
    },
    {
      "cell_type": "markdown",
      "metadata": {
        "id": "HOiXIWEWXX7B"
      },
      "source": [
        "## Bank Access Classification Using Finscope Data\n"
      ]
    },
    {
      "cell_type": "markdown",
      "metadata": {
        "id": "4YzXl090YAZM"
      },
      "source": [
        "### 1. Defining the Question"
      ]
    },
    {
      "cell_type": "markdown",
      "metadata": {
        "id": "HeKe8jBKYMyr"
      },
      "source": [
        "#### a) Specifying the data analysis question\n",
        "\n",
        "- Determine the state of financial inclusion in selected countries based on number of individuals with bank accounts\n",
        "- Identify key demographic factors that influence whether an individual has a bank account or not.\n",
        "- Build a classification model that predicts if an individual has a bank account or not using identified demographic factors."
      ]
    },
    {
      "cell_type": "markdown",
      "metadata": {
        "id": "8kwSycLaZSFl"
      },
      "source": [
        "#### b) Metrics of Success\n",
        "- Can successfully identify demographic variables that influence if an individual has a bank account or not.\n",
        "- A binary classification model that accurately predicts if an individual has a bank account or not."
      ]
    },
    {
      "cell_type": "markdown",
      "metadata": {
        "id": "Ppv2oNArZv__"
      },
      "source": [
        "#### c) Context\n",
        "Financial Inclusion remains one of the main obstacles to economic and human development in Africa. For example, across Kenya, Rwanda, Tanzania, and Uganda only 9.1 million adults (or 13.9% of the adult population) have access to or use a commercial bank account.\n",
        "\n",
        "Traditionally, access to bank accounts has been regarded as an indicator of financial inclusion. Despite the proliferation of mobile money in Africa and the growth of innovative fintech solutions, banks still play a pivotal role in facilitating access to financial services. Access to bank accounts enables households to save and facilitate payments while also helping businesses build up their credit-worthiness and improve their access to other financial services. Therefore, access to bank accounts is an essential contributor to long-term economic growth.\n"
      ]
    },
    {
      "cell_type": "markdown",
      "metadata": {
        "id": "C5k-_dsbamQ_"
      },
      "source": [
        "#### d) Recording Experimental Design\n",
        "- Define research question\n",
        "- Data Exploration\n",
        "- Univariate analysis\n",
        "- Bivariate Analysis\n",
        "- Multivariate Analysis\n",
        "- Data Modelling\n",
        "- Model Tuning\n",
        "- Summary of Findings\n",
        "- Challenging the solution"
      ]
    },
    {
      "cell_type": "markdown",
      "metadata": {
        "id": "M_Q7PWeac5Cy"
      },
      "source": [
        "#### e) Relevance of the data\n",
        "The data used for analysis contains demographic information and what financial services are used by individuals across East Africa. This data was extracted from various Finscope surveys ranging from 2016 to 2018 and is relevant for analysis."
      ]
    },
    {
      "cell_type": "markdown",
      "metadata": {
        "id": "v6kzZFRuYG8o"
      },
      "source": [
        "### Data Exploration"
      ]
    },
    {
      "cell_type": "code",
      "metadata": {
        "id": "g3AD2EoLXpOf"
      },
      "source": [
        "# Import libraries\n",
        "import pandas as pd\n",
        "import numpy as np\n",
        "import matplotlib.pyplot as plt\n",
        "import seaborn as sns\n",
        "import warnings\n",
        "from sklearn.discriminant_analysis import LinearDiscriminantAnalysis\n",
        "from sklearn.preprocessing import StandardScaler\n",
        "from sklearn.model_selection import train_test_split, GridSearchCV\n",
        "from sklearn.linear_model import LogisticRegression\n",
        "from sklearn.ensemble import RandomForestClassifier, GradientBoostingClassifier\n",
        "from sklearn.naive_bayes import BernoulliNB\n",
        "from sklearn.metrics import confusion_matrix, classification_report, accuracy_score, roc_auc_score"
      ],
      "execution_count": null,
      "outputs": []
    },
    {
      "cell_type": "code",
      "metadata": {
        "id": "8fAFlHd5Yn3G"
      },
      "source": [
        "# Set global parameters\n",
        "plt.rcParams['figure.figsize'] = (12.0,10.0) \n",
        "sns.set()\n",
        "warnings.filterwarnings('ignore')"
      ],
      "execution_count": null,
      "outputs": []
    },
    {
      "cell_type": "code",
      "metadata": {
        "id": "ULgpJdgsZOPx"
      },
      "source": [
        "# Load dataset\n",
        "finance_df = pd.read_csv('train.csv')\n",
        "#('train.csv') "
      ],
      "execution_count": null,
      "outputs": []
    },
    {
      "cell_type": "code",
      "metadata": {
        "id": "6nyieHOoaJA5",
        "colab": {
          "base_uri": "https://localhost:8080/",
          "height": 377
        },
        "outputId": "05d63fdf-83ce-4a1a-86bd-4255b2641ec9"
      },
      "source": [
        "# Preview dataset\n",
        "finance_df.head()"
      ],
      "execution_count": null,
      "outputs": [
        {
          "output_type": "execute_result",
          "data": {
            "text/html": [
              "<div>\n",
              "<style scoped>\n",
              "    .dataframe tbody tr th:only-of-type {\n",
              "        vertical-align: middle;\n",
              "    }\n",
              "\n",
              "    .dataframe tbody tr th {\n",
              "        vertical-align: top;\n",
              "    }\n",
              "\n",
              "    .dataframe thead th {\n",
              "        text-align: right;\n",
              "    }\n",
              "</style>\n",
              "<table border=\"1\" class=\"dataframe\">\n",
              "  <thead>\n",
              "    <tr style=\"text-align: right;\">\n",
              "      <th></th>\n",
              "      <th>country</th>\n",
              "      <th>year</th>\n",
              "      <th>uniqueid</th>\n",
              "      <th>Has a Bank account</th>\n",
              "      <th>Type of Location</th>\n",
              "      <th>Cell Phone Access</th>\n",
              "      <th>household_size</th>\n",
              "      <th>Respondent Age</th>\n",
              "      <th>gender_of_respondent</th>\n",
              "      <th>The relathip with head</th>\n",
              "      <th>marital_status</th>\n",
              "      <th>Level of Educuation</th>\n",
              "      <th>Type of Job</th>\n",
              "    </tr>\n",
              "  </thead>\n",
              "  <tbody>\n",
              "    <tr>\n",
              "      <th>0</th>\n",
              "      <td>Kenya</td>\n",
              "      <td>2018</td>\n",
              "      <td>uniqueid_1</td>\n",
              "      <td>Yes</td>\n",
              "      <td>Rural</td>\n",
              "      <td>Yes</td>\n",
              "      <td>3.0</td>\n",
              "      <td>24.0</td>\n",
              "      <td>Female</td>\n",
              "      <td>Spouse</td>\n",
              "      <td>Married/Living together</td>\n",
              "      <td>Secondary education</td>\n",
              "      <td>Self employed</td>\n",
              "    </tr>\n",
              "    <tr>\n",
              "      <th>1</th>\n",
              "      <td>Kenya</td>\n",
              "      <td>2018</td>\n",
              "      <td>uniqueid_2</td>\n",
              "      <td>No</td>\n",
              "      <td>Rural</td>\n",
              "      <td>No</td>\n",
              "      <td>5.0</td>\n",
              "      <td>70.0</td>\n",
              "      <td>Female</td>\n",
              "      <td>Head of Household</td>\n",
              "      <td>Widowed</td>\n",
              "      <td>No formal education</td>\n",
              "      <td>Government Dependent</td>\n",
              "    </tr>\n",
              "    <tr>\n",
              "      <th>2</th>\n",
              "      <td>Kenya</td>\n",
              "      <td>2018</td>\n",
              "      <td>uniqueid_3</td>\n",
              "      <td>Yes</td>\n",
              "      <td>Urban</td>\n",
              "      <td>Yes</td>\n",
              "      <td>5.0</td>\n",
              "      <td>26.0</td>\n",
              "      <td>Male</td>\n",
              "      <td>Other relative</td>\n",
              "      <td>Single/Never Married</td>\n",
              "      <td>Vocational/Specialised training</td>\n",
              "      <td>Self employed</td>\n",
              "    </tr>\n",
              "    <tr>\n",
              "      <th>3</th>\n",
              "      <td>Kenya</td>\n",
              "      <td>2018</td>\n",
              "      <td>uniqueid_4</td>\n",
              "      <td>No</td>\n",
              "      <td>Rural</td>\n",
              "      <td>Yes</td>\n",
              "      <td>5.0</td>\n",
              "      <td>34.0</td>\n",
              "      <td>Female</td>\n",
              "      <td>Head of Household</td>\n",
              "      <td>Married/Living together</td>\n",
              "      <td>Primary education</td>\n",
              "      <td>Formally employed Private</td>\n",
              "    </tr>\n",
              "    <tr>\n",
              "      <th>4</th>\n",
              "      <td>Kenya</td>\n",
              "      <td>2018</td>\n",
              "      <td>uniqueid_5</td>\n",
              "      <td>No</td>\n",
              "      <td>Urban</td>\n",
              "      <td>No</td>\n",
              "      <td>8.0</td>\n",
              "      <td>26.0</td>\n",
              "      <td>Male</td>\n",
              "      <td>Child</td>\n",
              "      <td>Single/Never Married</td>\n",
              "      <td>Primary education</td>\n",
              "      <td>Informally employed</td>\n",
              "    </tr>\n",
              "  </tbody>\n",
              "</table>\n",
              "</div>"
            ],
            "text/plain": [
              "  country  year  ...              Level of Educuation                Type of Job\n",
              "0   Kenya  2018  ...              Secondary education              Self employed\n",
              "1   Kenya  2018  ...              No formal education       Government Dependent\n",
              "2   Kenya  2018  ...  Vocational/Specialised training              Self employed\n",
              "3   Kenya  2018  ...                Primary education  Formally employed Private\n",
              "4   Kenya  2018  ...                Primary education        Informally employed\n",
              "\n",
              "[5 rows x 13 columns]"
            ]
          },
          "metadata": {
            "tags": []
          },
          "execution_count": 4
        }
      ]
    },
    {
      "cell_type": "code",
      "metadata": {
        "id": "XWCq4OKpaM1v",
        "colab": {
          "base_uri": "https://localhost:8080/",
          "height": 600
        },
        "outputId": "d142d3ad-435c-4e75-b8aa-79d79978a476"
      },
      "source": [
        "# Sample 10 rows from the data\n",
        "finance_df.sample(10)"
      ],
      "execution_count": null,
      "outputs": [
        {
          "output_type": "execute_result",
          "data": {
            "text/html": [
              "<div>\n",
              "<style scoped>\n",
              "    .dataframe tbody tr th:only-of-type {\n",
              "        vertical-align: middle;\n",
              "    }\n",
              "\n",
              "    .dataframe tbody tr th {\n",
              "        vertical-align: top;\n",
              "    }\n",
              "\n",
              "    .dataframe thead th {\n",
              "        text-align: right;\n",
              "    }\n",
              "</style>\n",
              "<table border=\"1\" class=\"dataframe\">\n",
              "  <thead>\n",
              "    <tr style=\"text-align: right;\">\n",
              "      <th></th>\n",
              "      <th>country</th>\n",
              "      <th>year</th>\n",
              "      <th>uniqueid</th>\n",
              "      <th>Has a Bank account</th>\n",
              "      <th>Type of Location</th>\n",
              "      <th>Cell Phone Access</th>\n",
              "      <th>household_size</th>\n",
              "      <th>Respondent Age</th>\n",
              "      <th>gender_of_respondent</th>\n",
              "      <th>The relathip with head</th>\n",
              "      <th>marital_status</th>\n",
              "      <th>Level of Educuation</th>\n",
              "      <th>Type of Job</th>\n",
              "    </tr>\n",
              "  </thead>\n",
              "  <tbody>\n",
              "    <tr>\n",
              "      <th>12004</th>\n",
              "      <td>Rwanda</td>\n",
              "      <td>2016</td>\n",
              "      <td>uniqueid_5937</td>\n",
              "      <td>No</td>\n",
              "      <td>Urban</td>\n",
              "      <td>Yes</td>\n",
              "      <td>5.0</td>\n",
              "      <td>16.0</td>\n",
              "      <td>Female</td>\n",
              "      <td>Other relative</td>\n",
              "      <td>Single/Never Married</td>\n",
              "      <td>Secondary education</td>\n",
              "      <td>Remittance Dependent</td>\n",
              "    </tr>\n",
              "    <tr>\n",
              "      <th>17293</th>\n",
              "      <td>Tanzania</td>\n",
              "      <td>2017</td>\n",
              "      <td>uniqueid_2491</td>\n",
              "      <td>No</td>\n",
              "      <td>Rural</td>\n",
              "      <td>Yes</td>\n",
              "      <td>1.0</td>\n",
              "      <td>26.0</td>\n",
              "      <td>Female</td>\n",
              "      <td>Spouse</td>\n",
              "      <td>Single/Never Married</td>\n",
              "      <td>Tertiary education</td>\n",
              "      <td>Remittance Dependent</td>\n",
              "    </tr>\n",
              "    <tr>\n",
              "      <th>10884</th>\n",
              "      <td>Rwanda</td>\n",
              "      <td>2016</td>\n",
              "      <td>uniqueid_4817</td>\n",
              "      <td>No</td>\n",
              "      <td>Rural</td>\n",
              "      <td>Yes</td>\n",
              "      <td>5.0</td>\n",
              "      <td>71.0</td>\n",
              "      <td>Female</td>\n",
              "      <td>Head of Household</td>\n",
              "      <td>Divorced/Seperated</td>\n",
              "      <td>No formal education</td>\n",
              "      <td>Government Dependent</td>\n",
              "    </tr>\n",
              "    <tr>\n",
              "      <th>5041</th>\n",
              "      <td>Kenya</td>\n",
              "      <td>2018</td>\n",
              "      <td>uniqueid_5042</td>\n",
              "      <td>No</td>\n",
              "      <td>Rural</td>\n",
              "      <td>No</td>\n",
              "      <td>6.0</td>\n",
              "      <td>46.0</td>\n",
              "      <td>Female</td>\n",
              "      <td>Spouse</td>\n",
              "      <td>Married/Living together</td>\n",
              "      <td>No formal education</td>\n",
              "      <td>Other Income</td>\n",
              "    </tr>\n",
              "    <tr>\n",
              "      <th>14892</th>\n",
              "      <td>Tanzania</td>\n",
              "      <td>2017</td>\n",
              "      <td>uniqueid_90</td>\n",
              "      <td>No</td>\n",
              "      <td>Urban</td>\n",
              "      <td>Yes</td>\n",
              "      <td>1.0</td>\n",
              "      <td>69.0</td>\n",
              "      <td>Male</td>\n",
              "      <td>Head of Household</td>\n",
              "      <td>Widowed</td>\n",
              "      <td>6</td>\n",
              "      <td>Informally employed</td>\n",
              "    </tr>\n",
              "    <tr>\n",
              "      <th>19452</th>\n",
              "      <td>Tanzania</td>\n",
              "      <td>2017</td>\n",
              "      <td>uniqueid_4650</td>\n",
              "      <td>No</td>\n",
              "      <td>Rural</td>\n",
              "      <td>Yes</td>\n",
              "      <td>1.0</td>\n",
              "      <td>39.0</td>\n",
              "      <td>Male</td>\n",
              "      <td>Head of Household</td>\n",
              "      <td>Single/Never Married</td>\n",
              "      <td>Primary education</td>\n",
              "      <td>Informally employed</td>\n",
              "    </tr>\n",
              "    <tr>\n",
              "      <th>23124</th>\n",
              "      <td>Uganda</td>\n",
              "      <td>2018</td>\n",
              "      <td>uniqueid_1702</td>\n",
              "      <td>No</td>\n",
              "      <td>Rural</td>\n",
              "      <td>Yes</td>\n",
              "      <td>5.0</td>\n",
              "      <td>17.0</td>\n",
              "      <td>Male</td>\n",
              "      <td>Parent</td>\n",
              "      <td>Single/Never Married</td>\n",
              "      <td>Primary education</td>\n",
              "      <td>No Income</td>\n",
              "    </tr>\n",
              "    <tr>\n",
              "      <th>18444</th>\n",
              "      <td>Tanzania</td>\n",
              "      <td>2017</td>\n",
              "      <td>uniqueid_3642</td>\n",
              "      <td>No</td>\n",
              "      <td>Urban</td>\n",
              "      <td>No</td>\n",
              "      <td>2.0</td>\n",
              "      <td>75.0</td>\n",
              "      <td>Male</td>\n",
              "      <td>Head of Household</td>\n",
              "      <td>Single/Never Married</td>\n",
              "      <td>Primary education</td>\n",
              "      <td>Self employed</td>\n",
              "    </tr>\n",
              "    <tr>\n",
              "      <th>9373</th>\n",
              "      <td>Rwanda</td>\n",
              "      <td>2016</td>\n",
              "      <td>uniqueid_3306</td>\n",
              "      <td>No</td>\n",
              "      <td>Rural</td>\n",
              "      <td>Yes</td>\n",
              "      <td>7.0</td>\n",
              "      <td>33.0</td>\n",
              "      <td>Male</td>\n",
              "      <td>Head of Household</td>\n",
              "      <td>Married/Living together</td>\n",
              "      <td>Primary education</td>\n",
              "      <td>Farming and Fishing</td>\n",
              "    </tr>\n",
              "    <tr>\n",
              "      <th>1524</th>\n",
              "      <td>Kenya</td>\n",
              "      <td>2018</td>\n",
              "      <td>uniqueid_1525</td>\n",
              "      <td>Yes</td>\n",
              "      <td>Rural</td>\n",
              "      <td>Yes</td>\n",
              "      <td>3.0</td>\n",
              "      <td>25.0</td>\n",
              "      <td>Male</td>\n",
              "      <td>Head of Household</td>\n",
              "      <td>Married/Living together</td>\n",
              "      <td>Vocational/Specialised training</td>\n",
              "      <td>Self employed</td>\n",
              "    </tr>\n",
              "  </tbody>\n",
              "</table>\n",
              "</div>"
            ],
            "text/plain": [
              "        country  year  ...              Level of Educuation           Type of Job\n",
              "12004    Rwanda  2016  ...              Secondary education  Remittance Dependent\n",
              "17293  Tanzania  2017  ...               Tertiary education  Remittance Dependent\n",
              "10884    Rwanda  2016  ...              No formal education  Government Dependent\n",
              "5041      Kenya  2018  ...              No formal education          Other Income\n",
              "14892  Tanzania  2017  ...                                6   Informally employed\n",
              "19452  Tanzania  2017  ...                Primary education   Informally employed\n",
              "23124    Uganda  2018  ...                Primary education             No Income\n",
              "18444  Tanzania  2017  ...                Primary education         Self employed\n",
              "9373     Rwanda  2016  ...                Primary education   Farming and Fishing\n",
              "1524      Kenya  2018  ...  Vocational/Specialised training         Self employed\n",
              "\n",
              "[10 rows x 13 columns]"
            ]
          },
          "metadata": {
            "tags": []
          },
          "execution_count": 5
        }
      ]
    },
    {
      "cell_type": "code",
      "metadata": {
        "id": "ZyhOsTehahzK",
        "colab": {
          "base_uri": "https://localhost:8080/",
          "height": 357
        },
        "outputId": "53c2f906-53d5-4720-ae02-efe59bc19a33"
      },
      "source": [
        "# Check for data types\n",
        "finance_df.info()"
      ],
      "execution_count": null,
      "outputs": [
        {
          "output_type": "stream",
          "text": [
            "<class 'pandas.core.frame.DataFrame'>\n",
            "RangeIndex: 23524 entries, 0 to 23523\n",
            "Data columns (total 13 columns):\n",
            " #   Column                  Non-Null Count  Dtype  \n",
            "---  ------                  --------------  -----  \n",
            " 0   country                 23510 non-null  object \n",
            " 1   year                    23524 non-null  int64  \n",
            " 2   uniqueid                23524 non-null  object \n",
            " 3   Has a Bank account      23488 non-null  object \n",
            " 4   Type of Location        23509 non-null  object \n",
            " 5   Cell Phone Access       23513 non-null  object \n",
            " 6   household_size          23496 non-null  float64\n",
            " 7   Respondent Age          23490 non-null  float64\n",
            " 8   gender_of_respondent    23490 non-null  object \n",
            " 9   The relathip with head  23520 non-null  object \n",
            " 10  marital_status          23492 non-null  object \n",
            " 11  Level of Educuation     23495 non-null  object \n",
            " 12  Type of Job             23494 non-null  object \n",
            "dtypes: float64(2), int64(1), object(10)\n",
            "memory usage: 2.3+ MB\n"
          ],
          "name": "stdout"
        }
      ]
    },
    {
      "cell_type": "code",
      "metadata": {
        "id": "qw8xicp5dG64",
        "colab": {
          "base_uri": "https://localhost:8080/",
          "height": 34
        },
        "outputId": "ebff3f3d-a8f4-4954-f036-ef486f8906a6"
      },
      "source": [
        "# Shape of the data\n",
        "finance_df.shape"
      ],
      "execution_count": null,
      "outputs": [
        {
          "output_type": "execute_result",
          "data": {
            "text/plain": [
              "(23524, 13)"
            ]
          },
          "metadata": {
            "tags": []
          },
          "execution_count": 7
        }
      ]
    },
    {
      "cell_type": "code",
      "metadata": {
        "id": "x2Mi7BrhemfE",
        "colab": {
          "base_uri": "https://localhost:8080/",
          "height": 34
        },
        "outputId": "dd59b77e-5387-4c6e-c928-e6accedd3c18"
      },
      "source": [
        "# Check for duplicates\n",
        "finance_df.duplicated().sum()\n"
      ],
      "execution_count": null,
      "outputs": [
        {
          "output_type": "execute_result",
          "data": {
            "text/plain": [
              "0"
            ]
          },
          "metadata": {
            "tags": []
          },
          "execution_count": 8
        }
      ]
    },
    {
      "cell_type": "code",
      "metadata": {
        "id": "PYo7Qs3ma6iz",
        "colab": {
          "base_uri": "https://localhost:8080/",
          "height": 935
        },
        "outputId": "0286cc22-1a95-463c-ca19-6f79e0ddb457"
      },
      "source": [
        "# Check for unique values in each column\n",
        "for col in finance_df.columns.to_list():\n",
        "  print(f'{col} column unique values: \\n')\n",
        "  print(finance_df[col].unique(), end='\\n')"
      ],
      "execution_count": null,
      "outputs": [
        {
          "output_type": "stream",
          "text": [
            "country column unique values: \n",
            "\n",
            "['Kenya' 'Rwanda' 'Tanzania' nan 'Uganda']\n",
            "year column unique values: \n",
            "\n",
            "[2018 2029 2056 2016 2039 2017]\n",
            "uniqueid column unique values: \n",
            "\n",
            "['uniqueid_1' 'uniqueid_2' 'uniqueid_3' ... 'uniqueid_8757'\n",
            " 'uniqueid_8758' 'uniqueid_8759']\n",
            "Has a Bank account column unique values: \n",
            "\n",
            "['Yes' 'No' nan]\n",
            "Type of Location column unique values: \n",
            "\n",
            "['Rural' 'Urban' nan]\n",
            "Cell Phone Access column unique values: \n",
            "\n",
            "['Yes' 'No' nan]\n",
            "household_size column unique values: \n",
            "\n",
            "[ 3.  5.  8.  7.  1.  6.  4. 10.  2. 11.  9. 12. 16. 15. 13. 14. 21. nan\n",
            "  0. 18. 17. 20.]\n",
            "Respondent Age column unique values: \n",
            "\n",
            "[ 24.  70.  26.  34.  32.  42.  54.  76.  40.  69.  64.  31.  38.  47.\n",
            "  27.  48.  25.  21.  18.  22.  58.  55.  62.  29.  35.  45.  67.  19.\n",
            "  80.  66.  50.  33.  28.  51.  16.  17.  30.  37.  59.  65.  46.  56.\n",
            "  52.  23.  43.  49.  44.  72.  53.  63.  39.  81.  78.  36.  20.  60.\n",
            "  95.  71.  57.  85.  68.  41.  61.  75.  86.  73.  nan  93.  74.  88.\n",
            "  90.  77.  84.  82.  89.  79.  83.  94.  87.  92.  91.  98.  97.  96.\n",
            "  99. 100.]\n",
            "gender_of_respondent column unique values: \n",
            "\n",
            "['Female' 'Male' nan]\n",
            "The relathip with head column unique values: \n",
            "\n",
            "['Spouse' 'Head of Household' 'Other relative' 'Child' 'Parent'\n",
            " 'Other non-relatives' nan]\n",
            "marital_status column unique values: \n",
            "\n",
            "['Married/Living together' 'Widowed' 'Single/Never Married'\n",
            " 'Divorced/Seperated' 'Dont know' nan]\n",
            "Level of Educuation column unique values: \n",
            "\n",
            "['Secondary education' 'No formal education'\n",
            " 'Vocational/Specialised training' 'Primary education'\n",
            " 'Tertiary education' 'Other/Dont know/RTA' '6' nan]\n",
            "Type of Job column unique values: \n",
            "\n",
            "['Self employed' 'Government Dependent' 'Formally employed Private'\n",
            " 'Informally employed' 'Formally employed Government'\n",
            " 'Farming and Fishing' 'Remittance Dependent' 'Other Income'\n",
            " 'Dont Know/Refuse to answer' nan 'No Income']\n"
          ],
          "name": "stdout"
        }
      ]
    },
    {
      "cell_type": "markdown",
      "metadata": {
        "id": "BJ1SVqu4cOKC"
      },
      "source": [
        "- Dataset contains missing values in multiple columns.\n",
        "- Anomalies in year and the Level of education columns"
      ]
    },
    {
      "cell_type": "code",
      "metadata": {
        "id": "dgeiDthObpIt",
        "colab": {
          "base_uri": "https://localhost:8080/",
          "height": 281
        },
        "outputId": "681fbe1f-444c-4590-e9a1-79496707c573"
      },
      "source": [
        "# Investigate rows with incorrect years\n",
        "finance_df[finance_df['year'].isin([2029,2056,2039])]"
      ],
      "execution_count": null,
      "outputs": [
        {
          "output_type": "execute_result",
          "data": {
            "text/html": [
              "<div>\n",
              "<style scoped>\n",
              "    .dataframe tbody tr th:only-of-type {\n",
              "        vertical-align: middle;\n",
              "    }\n",
              "\n",
              "    .dataframe tbody tr th {\n",
              "        vertical-align: top;\n",
              "    }\n",
              "\n",
              "    .dataframe thead th {\n",
              "        text-align: right;\n",
              "    }\n",
              "</style>\n",
              "<table border=\"1\" class=\"dataframe\">\n",
              "  <thead>\n",
              "    <tr style=\"text-align: right;\">\n",
              "      <th></th>\n",
              "      <th>country</th>\n",
              "      <th>year</th>\n",
              "      <th>uniqueid</th>\n",
              "      <th>Has a Bank account</th>\n",
              "      <th>Type of Location</th>\n",
              "      <th>Cell Phone Access</th>\n",
              "      <th>household_size</th>\n",
              "      <th>Respondent Age</th>\n",
              "      <th>gender_of_respondent</th>\n",
              "      <th>The relathip with head</th>\n",
              "      <th>marital_status</th>\n",
              "      <th>Level of Educuation</th>\n",
              "      <th>Type of Job</th>\n",
              "    </tr>\n",
              "  </thead>\n",
              "  <tbody>\n",
              "    <tr>\n",
              "      <th>213</th>\n",
              "      <td>Kenya</td>\n",
              "      <td>2029</td>\n",
              "      <td>uniqueid_214</td>\n",
              "      <td>No</td>\n",
              "      <td>Urban</td>\n",
              "      <td>Yes</td>\n",
              "      <td>6.0</td>\n",
              "      <td>16.0</td>\n",
              "      <td>Male</td>\n",
              "      <td>Other relative</td>\n",
              "      <td>Single/Never Married</td>\n",
              "      <td>Secondary education</td>\n",
              "      <td>Remittance Dependent</td>\n",
              "    </tr>\n",
              "    <tr>\n",
              "      <th>308</th>\n",
              "      <td>Kenya</td>\n",
              "      <td>2056</td>\n",
              "      <td>uniqueid_309</td>\n",
              "      <td>Yes</td>\n",
              "      <td>Urban</td>\n",
              "      <td>Yes</td>\n",
              "      <td>4.0</td>\n",
              "      <td>40.0</td>\n",
              "      <td>Male</td>\n",
              "      <td>Head of Household</td>\n",
              "      <td>Married/Living together</td>\n",
              "      <td>Tertiary education</td>\n",
              "      <td>Formally employed Private</td>\n",
              "    </tr>\n",
              "    <tr>\n",
              "      <th>7014</th>\n",
              "      <td>Rwanda</td>\n",
              "      <td>2039</td>\n",
              "      <td>uniqueid_947</td>\n",
              "      <td>No</td>\n",
              "      <td>Rural</td>\n",
              "      <td>Yes</td>\n",
              "      <td>3.0</td>\n",
              "      <td>24.0</td>\n",
              "      <td>Female</td>\n",
              "      <td>Spouse</td>\n",
              "      <td>Married/Living together</td>\n",
              "      <td>Primary education</td>\n",
              "      <td>Informally employed</td>\n",
              "    </tr>\n",
              "  </tbody>\n",
              "</table>\n",
              "</div>"
            ],
            "text/plain": [
              "     country  year  ...  Level of Educuation                Type of Job\n",
              "213    Kenya  2029  ...  Secondary education       Remittance Dependent\n",
              "308    Kenya  2056  ...   Tertiary education  Formally employed Private\n",
              "7014  Rwanda  2039  ...    Primary education        Informally employed\n",
              "\n",
              "[3 rows x 13 columns]"
            ]
          },
          "metadata": {
            "tags": []
          },
          "execution_count": 10
        }
      ]
    },
    {
      "cell_type": "code",
      "metadata": {
        "id": "2RU2I4Q-dxrx"
      },
      "source": [
        "# Drop erroneous year data\n",
        "err_years = finance_df[finance_df['year'].isin([2029,2056,2039])].index\n",
        "finance_df.drop(index=err_years, inplace=True)"
      ],
      "execution_count": null,
      "outputs": []
    },
    {
      "cell_type": "code",
      "metadata": {
        "id": "bhkk6e_Aejzj",
        "colab": {
          "base_uri": "https://localhost:8080/",
          "height": 1000
        },
        "outputId": "e7d09d2b-df3c-481f-f47d-a392d1c01d70"
      },
      "source": [
        "# Investigate rows with incorrect education data\n",
        "finance_df[finance_df['Level of Educuation']=='6']"
      ],
      "execution_count": null,
      "outputs": [
        {
          "output_type": "execute_result",
          "data": {
            "text/html": [
              "<div>\n",
              "<style scoped>\n",
              "    .dataframe tbody tr th:only-of-type {\n",
              "        vertical-align: middle;\n",
              "    }\n",
              "\n",
              "    .dataframe tbody tr th {\n",
              "        vertical-align: top;\n",
              "    }\n",
              "\n",
              "    .dataframe thead th {\n",
              "        text-align: right;\n",
              "    }\n",
              "</style>\n",
              "<table border=\"1\" class=\"dataframe\">\n",
              "  <thead>\n",
              "    <tr style=\"text-align: right;\">\n",
              "      <th></th>\n",
              "      <th>country</th>\n",
              "      <th>year</th>\n",
              "      <th>uniqueid</th>\n",
              "      <th>Has a Bank account</th>\n",
              "      <th>Type of Location</th>\n",
              "      <th>Cell Phone Access</th>\n",
              "      <th>household_size</th>\n",
              "      <th>Respondent Age</th>\n",
              "      <th>gender_of_respondent</th>\n",
              "      <th>The relathip with head</th>\n",
              "      <th>marital_status</th>\n",
              "      <th>Level of Educuation</th>\n",
              "      <th>Type of Job</th>\n",
              "    </tr>\n",
              "  </thead>\n",
              "  <tbody>\n",
              "    <tr>\n",
              "      <th>6867</th>\n",
              "      <td>Rwanda</td>\n",
              "      <td>2016</td>\n",
              "      <td>uniqueid_800</td>\n",
              "      <td>No</td>\n",
              "      <td>Rural</td>\n",
              "      <td>No</td>\n",
              "      <td>5.0</td>\n",
              "      <td>34.0</td>\n",
              "      <td>Female</td>\n",
              "      <td>Spouse</td>\n",
              "      <td>Married/Living together</td>\n",
              "      <td>6</td>\n",
              "      <td>Informally employed</td>\n",
              "    </tr>\n",
              "    <tr>\n",
              "      <th>7937</th>\n",
              "      <td>Rwanda</td>\n",
              "      <td>2016</td>\n",
              "      <td>uniqueid_1870</td>\n",
              "      <td>No</td>\n",
              "      <td>Rural</td>\n",
              "      <td>No</td>\n",
              "      <td>8.0</td>\n",
              "      <td>31.0</td>\n",
              "      <td>Female</td>\n",
              "      <td>Spouse</td>\n",
              "      <td>Married/Living together</td>\n",
              "      <td>6</td>\n",
              "      <td>Informally employed</td>\n",
              "    </tr>\n",
              "    <tr>\n",
              "      <th>8226</th>\n",
              "      <td>Rwanda</td>\n",
              "      <td>2016</td>\n",
              "      <td>uniqueid_2159</td>\n",
              "      <td>No</td>\n",
              "      <td>Rural</td>\n",
              "      <td>No</td>\n",
              "      <td>2.0</td>\n",
              "      <td>80.0</td>\n",
              "      <td>Male</td>\n",
              "      <td>Head of Household</td>\n",
              "      <td>Married/Living together</td>\n",
              "      <td>6</td>\n",
              "      <td>Informally employed</td>\n",
              "    </tr>\n",
              "    <tr>\n",
              "      <th>8453</th>\n",
              "      <td>Rwanda</td>\n",
              "      <td>2016</td>\n",
              "      <td>uniqueid_2386</td>\n",
              "      <td>No</td>\n",
              "      <td>Urban</td>\n",
              "      <td>Yes</td>\n",
              "      <td>3.0</td>\n",
              "      <td>36.0</td>\n",
              "      <td>Female</td>\n",
              "      <td>Head of Household</td>\n",
              "      <td>Divorced/Seperated</td>\n",
              "      <td>6</td>\n",
              "      <td>Informally employed</td>\n",
              "    </tr>\n",
              "    <tr>\n",
              "      <th>8778</th>\n",
              "      <td>Rwanda</td>\n",
              "      <td>2016</td>\n",
              "      <td>uniqueid_2711</td>\n",
              "      <td>No</td>\n",
              "      <td>Rural</td>\n",
              "      <td>Yes</td>\n",
              "      <td>4.0</td>\n",
              "      <td>44.0</td>\n",
              "      <td>Male</td>\n",
              "      <td>Head of Household</td>\n",
              "      <td>Married/Living together</td>\n",
              "      <td>6</td>\n",
              "      <td>Informally employed</td>\n",
              "    </tr>\n",
              "    <tr>\n",
              "      <th>9269</th>\n",
              "      <td>Rwanda</td>\n",
              "      <td>2016</td>\n",
              "      <td>uniqueid_3202</td>\n",
              "      <td>Yes</td>\n",
              "      <td>Urban</td>\n",
              "      <td>Yes</td>\n",
              "      <td>2.0</td>\n",
              "      <td>70.0</td>\n",
              "      <td>Female</td>\n",
              "      <td>Head of Household</td>\n",
              "      <td>Widowed</td>\n",
              "      <td>6</td>\n",
              "      <td>Remittance Dependent</td>\n",
              "    </tr>\n",
              "    <tr>\n",
              "      <th>9878</th>\n",
              "      <td>Rwanda</td>\n",
              "      <td>2016</td>\n",
              "      <td>uniqueid_3811</td>\n",
              "      <td>No</td>\n",
              "      <td>Rural</td>\n",
              "      <td>No</td>\n",
              "      <td>2.0</td>\n",
              "      <td>48.0</td>\n",
              "      <td>Female</td>\n",
              "      <td>Spouse</td>\n",
              "      <td>Married/Living together</td>\n",
              "      <td>6</td>\n",
              "      <td>Formally employed Private</td>\n",
              "    </tr>\n",
              "    <tr>\n",
              "      <th>9944</th>\n",
              "      <td>Rwanda</td>\n",
              "      <td>2016</td>\n",
              "      <td>uniqueid_3877</td>\n",
              "      <td>Yes</td>\n",
              "      <td>Urban</td>\n",
              "      <td>Yes</td>\n",
              "      <td>3.0</td>\n",
              "      <td>38.0</td>\n",
              "      <td>Male</td>\n",
              "      <td>Head of Household</td>\n",
              "      <td>Married/Living together</td>\n",
              "      <td>6</td>\n",
              "      <td>Informally employed</td>\n",
              "    </tr>\n",
              "    <tr>\n",
              "      <th>10560</th>\n",
              "      <td>Rwanda</td>\n",
              "      <td>2016</td>\n",
              "      <td>uniqueid_4493</td>\n",
              "      <td>No</td>\n",
              "      <td>Rural</td>\n",
              "      <td>Yes</td>\n",
              "      <td>6.0</td>\n",
              "      <td>48.0</td>\n",
              "      <td>Female</td>\n",
              "      <td>Spouse</td>\n",
              "      <td>Married/Living together</td>\n",
              "      <td>6</td>\n",
              "      <td>Informally employed</td>\n",
              "    </tr>\n",
              "    <tr>\n",
              "      <th>10767</th>\n",
              "      <td>Rwanda</td>\n",
              "      <td>2016</td>\n",
              "      <td>uniqueid_4700</td>\n",
              "      <td>No</td>\n",
              "      <td>Rural</td>\n",
              "      <td>No</td>\n",
              "      <td>2.0</td>\n",
              "      <td>63.0</td>\n",
              "      <td>Female</td>\n",
              "      <td>Head of Household</td>\n",
              "      <td>Divorced/Seperated</td>\n",
              "      <td>6</td>\n",
              "      <td>Informally employed</td>\n",
              "    </tr>\n",
              "    <tr>\n",
              "      <th>10944</th>\n",
              "      <td>Rwanda</td>\n",
              "      <td>2016</td>\n",
              "      <td>uniqueid_4877</td>\n",
              "      <td>No</td>\n",
              "      <td>Rural</td>\n",
              "      <td>No</td>\n",
              "      <td>2.0</td>\n",
              "      <td>85.0</td>\n",
              "      <td>Male</td>\n",
              "      <td>Head of Household</td>\n",
              "      <td>Married/Living together</td>\n",
              "      <td>6</td>\n",
              "      <td>Informally employed</td>\n",
              "    </tr>\n",
              "    <tr>\n",
              "      <th>12358</th>\n",
              "      <td>Rwanda</td>\n",
              "      <td>2016</td>\n",
              "      <td>uniqueid_6291</td>\n",
              "      <td>No</td>\n",
              "      <td>Rural</td>\n",
              "      <td>No</td>\n",
              "      <td>5.0</td>\n",
              "      <td>57.0</td>\n",
              "      <td>Female</td>\n",
              "      <td>Spouse</td>\n",
              "      <td>Married/Living together</td>\n",
              "      <td>6</td>\n",
              "      <td>Informally employed</td>\n",
              "    </tr>\n",
              "    <tr>\n",
              "      <th>13404</th>\n",
              "      <td>Rwanda</td>\n",
              "      <td>2016</td>\n",
              "      <td>uniqueid_7337</td>\n",
              "      <td>Yes</td>\n",
              "      <td>Urban</td>\n",
              "      <td>Yes</td>\n",
              "      <td>1.0</td>\n",
              "      <td>63.0</td>\n",
              "      <td>Female</td>\n",
              "      <td>Head of Household</td>\n",
              "      <td>Widowed</td>\n",
              "      <td>6</td>\n",
              "      <td>Informally employed</td>\n",
              "    </tr>\n",
              "    <tr>\n",
              "      <th>13727</th>\n",
              "      <td>Rwanda</td>\n",
              "      <td>2016</td>\n",
              "      <td>uniqueid_7660</td>\n",
              "      <td>No</td>\n",
              "      <td>Rural</td>\n",
              "      <td>No</td>\n",
              "      <td>7.0</td>\n",
              "      <td>35.0</td>\n",
              "      <td>Female</td>\n",
              "      <td>Spouse</td>\n",
              "      <td>Married/Living together</td>\n",
              "      <td>6</td>\n",
              "      <td>Informally employed</td>\n",
              "    </tr>\n",
              "    <tr>\n",
              "      <th>14277</th>\n",
              "      <td>Rwanda</td>\n",
              "      <td>2016</td>\n",
              "      <td>uniqueid_8210</td>\n",
              "      <td>No</td>\n",
              "      <td>Urban</td>\n",
              "      <td>Yes</td>\n",
              "      <td>6.0</td>\n",
              "      <td>65.0</td>\n",
              "      <td>Male</td>\n",
              "      <td>Head of Household</td>\n",
              "      <td>Widowed</td>\n",
              "      <td>6</td>\n",
              "      <td>Informally employed</td>\n",
              "    </tr>\n",
              "    <tr>\n",
              "      <th>14513</th>\n",
              "      <td>Rwanda</td>\n",
              "      <td>2016</td>\n",
              "      <td>uniqueid_8446</td>\n",
              "      <td>Yes</td>\n",
              "      <td>Rural</td>\n",
              "      <td>Yes</td>\n",
              "      <td>6.0</td>\n",
              "      <td>43.0</td>\n",
              "      <td>Female</td>\n",
              "      <td>Spouse</td>\n",
              "      <td>Married/Living together</td>\n",
              "      <td>6</td>\n",
              "      <td>Other Income</td>\n",
              "    </tr>\n",
              "    <tr>\n",
              "      <th>14692</th>\n",
              "      <td>Rwanda</td>\n",
              "      <td>2016</td>\n",
              "      <td>uniqueid_8636</td>\n",
              "      <td>No</td>\n",
              "      <td>Rural</td>\n",
              "      <td>Yes</td>\n",
              "      <td>6.0</td>\n",
              "      <td>48.0</td>\n",
              "      <td>Female</td>\n",
              "      <td>Spouse</td>\n",
              "      <td>Married/Living together</td>\n",
              "      <td>6</td>\n",
              "      <td>Informally employed</td>\n",
              "    </tr>\n",
              "    <tr>\n",
              "      <th>14706</th>\n",
              "      <td>Rwanda</td>\n",
              "      <td>2016</td>\n",
              "      <td>uniqueid_8652</td>\n",
              "      <td>No</td>\n",
              "      <td>Urban</td>\n",
              "      <td>No</td>\n",
              "      <td>3.0</td>\n",
              "      <td>80.0</td>\n",
              "      <td>Female</td>\n",
              "      <td>Head of Household</td>\n",
              "      <td>Widowed</td>\n",
              "      <td>6</td>\n",
              "      <td>Remittance Dependent</td>\n",
              "    </tr>\n",
              "    <tr>\n",
              "      <th>14892</th>\n",
              "      <td>Tanzania</td>\n",
              "      <td>2017</td>\n",
              "      <td>uniqueid_90</td>\n",
              "      <td>No</td>\n",
              "      <td>Urban</td>\n",
              "      <td>Yes</td>\n",
              "      <td>1.0</td>\n",
              "      <td>69.0</td>\n",
              "      <td>Male</td>\n",
              "      <td>Head of Household</td>\n",
              "      <td>Widowed</td>\n",
              "      <td>6</td>\n",
              "      <td>Informally employed</td>\n",
              "    </tr>\n",
              "    <tr>\n",
              "      <th>15379</th>\n",
              "      <td>Tanzania</td>\n",
              "      <td>2017</td>\n",
              "      <td>uniqueid_577</td>\n",
              "      <td>Yes</td>\n",
              "      <td>Rural</td>\n",
              "      <td>Yes</td>\n",
              "      <td>1.0</td>\n",
              "      <td>71.0</td>\n",
              "      <td>Male</td>\n",
              "      <td>Head of Household</td>\n",
              "      <td>Single/Never Married</td>\n",
              "      <td>6</td>\n",
              "      <td>Government Dependent</td>\n",
              "    </tr>\n",
              "    <tr>\n",
              "      <th>19695</th>\n",
              "      <td>Tanzania</td>\n",
              "      <td>2017</td>\n",
              "      <td>uniqueid_4893</td>\n",
              "      <td>No</td>\n",
              "      <td>Urban</td>\n",
              "      <td>No</td>\n",
              "      <td>1.0</td>\n",
              "      <td>80.0</td>\n",
              "      <td>Female</td>\n",
              "      <td>Head of Household</td>\n",
              "      <td>Widowed</td>\n",
              "      <td>6</td>\n",
              "      <td>Self employed</td>\n",
              "    </tr>\n",
              "    <tr>\n",
              "      <th>21988</th>\n",
              "      <td>Uganda</td>\n",
              "      <td>2018</td>\n",
              "      <td>uniqueid_566</td>\n",
              "      <td>No</td>\n",
              "      <td>Rural</td>\n",
              "      <td>Yes</td>\n",
              "      <td>1.0</td>\n",
              "      <td>23.0</td>\n",
              "      <td>Female</td>\n",
              "      <td>Head of Household</td>\n",
              "      <td>Single/Never Married</td>\n",
              "      <td>6</td>\n",
              "      <td>Self employed</td>\n",
              "    </tr>\n",
              "    <tr>\n",
              "      <th>22046</th>\n",
              "      <td>Uganda</td>\n",
              "      <td>2018</td>\n",
              "      <td>uniqueid_624</td>\n",
              "      <td>No</td>\n",
              "      <td>Urban</td>\n",
              "      <td>Yes</td>\n",
              "      <td>2.0</td>\n",
              "      <td>24.0</td>\n",
              "      <td>Female</td>\n",
              "      <td>Spouse</td>\n",
              "      <td>Married/Living together</td>\n",
              "      <td>6</td>\n",
              "      <td>No Income</td>\n",
              "    </tr>\n",
              "    <tr>\n",
              "      <th>22101</th>\n",
              "      <td>Uganda</td>\n",
              "      <td>2018</td>\n",
              "      <td>uniqueid_679</td>\n",
              "      <td>No</td>\n",
              "      <td>Rural</td>\n",
              "      <td>Yes</td>\n",
              "      <td>6.0</td>\n",
              "      <td>30.0</td>\n",
              "      <td>Female</td>\n",
              "      <td>Spouse</td>\n",
              "      <td>Married/Living together</td>\n",
              "      <td>6</td>\n",
              "      <td>No Income</td>\n",
              "    </tr>\n",
              "    <tr>\n",
              "      <th>22224</th>\n",
              "      <td>Uganda</td>\n",
              "      <td>2018</td>\n",
              "      <td>uniqueid_802</td>\n",
              "      <td>No</td>\n",
              "      <td>Urban</td>\n",
              "      <td>Yes</td>\n",
              "      <td>2.0</td>\n",
              "      <td>20.0</td>\n",
              "      <td>Female</td>\n",
              "      <td>Spouse</td>\n",
              "      <td>Married/Living together</td>\n",
              "      <td>6</td>\n",
              "      <td>No Income</td>\n",
              "    </tr>\n",
              "    <tr>\n",
              "      <th>22643</th>\n",
              "      <td>Uganda</td>\n",
              "      <td>2018</td>\n",
              "      <td>uniqueid_1221</td>\n",
              "      <td>No</td>\n",
              "      <td>Rural</td>\n",
              "      <td>No</td>\n",
              "      <td>12.0</td>\n",
              "      <td>18.0</td>\n",
              "      <td>Male</td>\n",
              "      <td>Other relative</td>\n",
              "      <td>Single/Never Married</td>\n",
              "      <td>6</td>\n",
              "      <td>Self employed</td>\n",
              "    </tr>\n",
              "    <tr>\n",
              "      <th>22760</th>\n",
              "      <td>Uganda</td>\n",
              "      <td>2018</td>\n",
              "      <td>uniqueid_1338</td>\n",
              "      <td>No</td>\n",
              "      <td>Urban</td>\n",
              "      <td>Yes</td>\n",
              "      <td>4.0</td>\n",
              "      <td>60.0</td>\n",
              "      <td>Male</td>\n",
              "      <td>Head of Household</td>\n",
              "      <td>Married/Living together</td>\n",
              "      <td>6</td>\n",
              "      <td>Self employed</td>\n",
              "    </tr>\n",
              "  </tbody>\n",
              "</table>\n",
              "</div>"
            ],
            "text/plain": [
              "        country  year  ... Level of Educuation                Type of Job\n",
              "6867     Rwanda  2016  ...                   6        Informally employed\n",
              "7937     Rwanda  2016  ...                   6        Informally employed\n",
              "8226     Rwanda  2016  ...                   6        Informally employed\n",
              "8453     Rwanda  2016  ...                   6        Informally employed\n",
              "8778     Rwanda  2016  ...                   6        Informally employed\n",
              "9269     Rwanda  2016  ...                   6       Remittance Dependent\n",
              "9878     Rwanda  2016  ...                   6  Formally employed Private\n",
              "9944     Rwanda  2016  ...                   6        Informally employed\n",
              "10560    Rwanda  2016  ...                   6        Informally employed\n",
              "10767    Rwanda  2016  ...                   6        Informally employed\n",
              "10944    Rwanda  2016  ...                   6        Informally employed\n",
              "12358    Rwanda  2016  ...                   6        Informally employed\n",
              "13404    Rwanda  2016  ...                   6        Informally employed\n",
              "13727    Rwanda  2016  ...                   6        Informally employed\n",
              "14277    Rwanda  2016  ...                   6        Informally employed\n",
              "14513    Rwanda  2016  ...                   6               Other Income\n",
              "14692    Rwanda  2016  ...                   6        Informally employed\n",
              "14706    Rwanda  2016  ...                   6       Remittance Dependent\n",
              "14892  Tanzania  2017  ...                   6        Informally employed\n",
              "15379  Tanzania  2017  ...                   6       Government Dependent\n",
              "19695  Tanzania  2017  ...                   6              Self employed\n",
              "21988    Uganda  2018  ...                   6              Self employed\n",
              "22046    Uganda  2018  ...                   6                  No Income\n",
              "22101    Uganda  2018  ...                   6                  No Income\n",
              "22224    Uganda  2018  ...                   6                  No Income\n",
              "22643    Uganda  2018  ...                   6              Self employed\n",
              "22760    Uganda  2018  ...                   6              Self employed\n",
              "\n",
              "[27 rows x 13 columns]"
            ]
          },
          "metadata": {
            "tags": []
          },
          "execution_count": 12
        }
      ]
    },
    {
      "cell_type": "code",
      "metadata": {
        "id": "cgXCJ1RVe62r"
      },
      "source": [
        "# Drop erroneous education data\n",
        "err_education = finance_df[finance_df['Level of Educuation']== '6'].index\n",
        "finance_df.drop(index=err_education, inplace=True)"
      ],
      "execution_count": null,
      "outputs": []
    },
    {
      "cell_type": "code",
      "metadata": {
        "id": "P9ApEU3zf0JP",
        "colab": {
          "base_uri": "https://localhost:8080/",
          "height": 255
        },
        "outputId": "cdeb7ad0-e4c5-4d2a-e22b-6b5f9c48750f"
      },
      "source": [
        "# Check for missing values\n",
        "finance_df.isnull().sum().sort_values(ascending=False)"
      ],
      "execution_count": null,
      "outputs": [
        {
          "output_type": "execute_result",
          "data": {
            "text/plain": [
              "Has a Bank account        36\n",
              "gender_of_respondent      34\n",
              "Respondent Age            34\n",
              "marital_status            32\n",
              "Type of Job               30\n",
              "Level of Educuation       29\n",
              "household_size            28\n",
              "Type of Location          15\n",
              "country                   14\n",
              "Cell Phone Access         11\n",
              "The relathip with head     4\n",
              "uniqueid                   0\n",
              "year                       0\n",
              "dtype: int64"
            ]
          },
          "metadata": {
            "tags": []
          },
          "execution_count": 14
        }
      ]
    },
    {
      "cell_type": "code",
      "metadata": {
        "id": "4i1bwUwVrav-"
      },
      "source": [
        "# Drop any null values\n",
        "finance_df.dropna(inplace=True)"
      ],
      "execution_count": null,
      "outputs": []
    },
    {
      "cell_type": "code",
      "metadata": {
        "id": "KSsNnuigsOoD"
      },
      "source": [
        "# Drop id column\n",
        "finance_df.drop(columns='uniqueid', inplace=True)"
      ],
      "execution_count": null,
      "outputs": []
    },
    {
      "cell_type": "markdown",
      "metadata": {
        "id": "szI_eo-msv-o"
      },
      "source": [
        "### Univariate Analysis\n"
      ]
    },
    {
      "cell_type": "code",
      "metadata": {
        "id": "PoBOpvkviJGh",
        "colab": {
          "base_uri": "https://localhost:8080/",
          "height": 68
        },
        "outputId": "4d16fd46-fe53-4649-bf4d-e124bbe967b1"
      },
      "source": [
        "# Get proportion of individuals with or without bank accounts\n",
        "finance_df['Has a Bank account'].value_counts(normalize=True)*100"
      ],
      "execution_count": null,
      "outputs": [
        {
          "output_type": "execute_result",
          "data": {
            "text/plain": [
              "No     85.883413\n",
              "Yes    14.116587\n",
              "Name: Has a Bank account, dtype: float64"
            ]
          },
          "metadata": {
            "tags": []
          },
          "execution_count": 17
        }
      ]
    },
    {
      "cell_type": "markdown",
      "metadata": {
        "id": "f5Z_xQgYTVEn"
      },
      "source": [
        "The 'Has a Bank Account' variable being the target variable is quite imbalanced and measures to counter this need to be taken during modelling."
      ]
    },
    {
      "cell_type": "code",
      "metadata": {
        "id": "pfGXhfres1N_",
        "colab": {
          "base_uri": "https://localhost:8080/",
          "height": 297
        },
        "outputId": "44fd31a2-c131-46cd-b32f-2188388a9713"
      },
      "source": [
        "# Describe numerical variables\n",
        "finance_df[['household_size','Respondent Age']].describe()"
      ],
      "execution_count": null,
      "outputs": [
        {
          "output_type": "execute_result",
          "data": {
            "text/html": [
              "<div>\n",
              "<style scoped>\n",
              "    .dataframe tbody tr th:only-of-type {\n",
              "        vertical-align: middle;\n",
              "    }\n",
              "\n",
              "    .dataframe tbody tr th {\n",
              "        vertical-align: top;\n",
              "    }\n",
              "\n",
              "    .dataframe thead th {\n",
              "        text-align: right;\n",
              "    }\n",
              "</style>\n",
              "<table border=\"1\" class=\"dataframe\">\n",
              "  <thead>\n",
              "    <tr style=\"text-align: right;\">\n",
              "      <th></th>\n",
              "      <th>household_size</th>\n",
              "      <th>Respondent Age</th>\n",
              "    </tr>\n",
              "  </thead>\n",
              "  <tbody>\n",
              "    <tr>\n",
              "      <th>count</th>\n",
              "      <td>23313.000000</td>\n",
              "      <td>23313.000000</td>\n",
              "    </tr>\n",
              "    <tr>\n",
              "      <th>mean</th>\n",
              "      <td>3.688414</td>\n",
              "      <td>38.793549</td>\n",
              "    </tr>\n",
              "    <tr>\n",
              "      <th>std</th>\n",
              "      <td>2.280842</td>\n",
              "      <td>16.510611</td>\n",
              "    </tr>\n",
              "    <tr>\n",
              "      <th>min</th>\n",
              "      <td>0.000000</td>\n",
              "      <td>16.000000</td>\n",
              "    </tr>\n",
              "    <tr>\n",
              "      <th>25%</th>\n",
              "      <td>2.000000</td>\n",
              "      <td>26.000000</td>\n",
              "    </tr>\n",
              "    <tr>\n",
              "      <th>50%</th>\n",
              "      <td>3.000000</td>\n",
              "      <td>35.000000</td>\n",
              "    </tr>\n",
              "    <tr>\n",
              "      <th>75%</th>\n",
              "      <td>5.000000</td>\n",
              "      <td>49.000000</td>\n",
              "    </tr>\n",
              "    <tr>\n",
              "      <th>max</th>\n",
              "      <td>21.000000</td>\n",
              "      <td>100.000000</td>\n",
              "    </tr>\n",
              "  </tbody>\n",
              "</table>\n",
              "</div>"
            ],
            "text/plain": [
              "       household_size  Respondent Age\n",
              "count    23313.000000    23313.000000\n",
              "mean         3.688414       38.793549\n",
              "std          2.280842       16.510611\n",
              "min          0.000000       16.000000\n",
              "25%          2.000000       26.000000\n",
              "50%          3.000000       35.000000\n",
              "75%          5.000000       49.000000\n",
              "max         21.000000      100.000000"
            ]
          },
          "metadata": {
            "tags": []
          },
          "execution_count": 18
        }
      ]
    },
    {
      "cell_type": "code",
      "metadata": {
        "id": "vvs_uzHytUPU",
        "colab": {
          "base_uri": "https://localhost:8080/",
          "height": 644
        },
        "outputId": "fbad88f0-9ea9-400f-f11d-bb7cba350e25"
      },
      "source": [
        "# Plot respondent age \n",
        "sns.histplot(finance_df['Respondent Age'], bins=10)\n",
        "plt.title('Respondent age distribution')"
      ],
      "execution_count": null,
      "outputs": [
        {
          "output_type": "execute_result",
          "data": {
            "text/plain": [
              "Text(0.5, 1.0, 'Respondent age distribution')"
            ]
          },
          "metadata": {
            "tags": []
          },
          "execution_count": 19
        },
        {
          "output_type": "display_data",
          "data": {
            "image/png": "[encoded data removed]",
            "text/plain": [
              "<Figure size 864x720 with 1 Axes>"
            ]
          },
          "metadata": {
            "tags": []
          }
        }
      ]
    },
    {
      "cell_type": "code",
      "metadata": {
        "id": "hSHXFvZIwGmh",
        "colab": {
          "base_uri": "https://localhost:8080/",
          "height": 34
        },
        "outputId": "b7159ba8-4295-49a0-9a7d-6ecdc7064a11"
      },
      "source": [
        "finance_df['Respondent Age'].skew()"
      ],
      "execution_count": null,
      "outputs": [
        {
          "output_type": "execute_result",
          "data": {
            "text/plain": [
              "0.8412764239448531"
            ]
          },
          "metadata": {
            "tags": []
          },
          "execution_count": 20
        }
      ]
    },
    {
      "cell_type": "markdown",
      "metadata": {
        "id": "WkIF-m7LwCfC"
      },
      "source": [
        "The age variable is moderately positively skewed."
      ]
    },
    {
      "cell_type": "code",
      "metadata": {
        "id": "iQ1buRnfuQGi",
        "colab": {
          "base_uri": "https://localhost:8080/",
          "height": 34
        },
        "outputId": "a857705a-7632-4460-8e0a-d6353d542ea9"
      },
      "source": [
        "# Check for outliers\n",
        "finance_df['Respondent Age'].kurt()"
      ],
      "execution_count": null,
      "outputs": [
        {
          "output_type": "execute_result",
          "data": {
            "text/plain": [
              "0.10122691422605756"
            ]
          },
          "metadata": {
            "tags": []
          },
          "execution_count": 22
        }
      ]
    },
    {
      "cell_type": "markdown",
      "metadata": {
        "id": "n9F2N12BxJvu"
      },
      "source": [
        "The data is platykurtic, no outliers"
      ]
    },
    {
      "cell_type": "code",
      "metadata": {
        "id": "xlS4PpQkw0qB",
        "colab": {
          "base_uri": "https://localhost:8080/",
          "height": 644
        },
        "outputId": "66c2e7b2-4d63-4ba6-d5ca-22a7cbe79732"
      },
      "source": [
        "# Plot respondent age \n",
        "sns.distplot(finance_df['household_size'], bins=10)\n",
        "plt.title('Household Size Distribution')"
      ],
      "execution_count": null,
      "outputs": [
        {
          "output_type": "execute_result",
          "data": {
            "text/plain": [
              "Text(0.5, 1.0, 'Household Size Distribution')"
            ]
          },
          "metadata": {
            "tags": []
          },
          "execution_count": 23
        },
        {
          "output_type": "display_data",
          "data": {
            "image/png": "[encoded data removed]",
            "text/plain": [
              "<Figure size 864x720 with 1 Axes>"
            ]
          },
          "metadata": {
            "tags": []
          }
        }
      ]
    },
    {
      "cell_type": "code",
      "metadata": {
        "id": "n9mvnhRGxzm0",
        "colab": {
          "base_uri": "https://localhost:8080/",
          "height": 34
        },
        "outputId": "de9970f7-c059-4153-9087-20f73944cbc5"
      },
      "source": [
        "# Check for skewness\n",
        "finance_df['household_size'].skew()"
      ],
      "execution_count": null,
      "outputs": [
        {
          "output_type": "execute_result",
          "data": {
            "text/plain": [
              "0.9737983207814955"
            ]
          },
          "metadata": {
            "tags": []
          },
          "execution_count": 24
        }
      ]
    },
    {
      "cell_type": "code",
      "metadata": {
        "id": "pH_mPlx2yBdN",
        "colab": {
          "base_uri": "https://localhost:8080/",
          "height": 34
        },
        "outputId": "2b41ffce-2e9f-4435-e967-b15922764f1b"
      },
      "source": [
        "# Check for kurtosis\n",
        "finance_df['household_size'].kurt()"
      ],
      "execution_count": null,
      "outputs": [
        {
          "output_type": "execute_result",
          "data": {
            "text/plain": [
              "1.1530073057375057"
            ]
          },
          "metadata": {
            "tags": []
          },
          "execution_count": 25
        }
      ]
    },
    {
      "cell_type": "markdown",
      "metadata": {
        "id": "bZ3JrD0CyctD"
      },
      "source": [
        "Household variable has a moderate positive skewness. Values range mostly between 0 and 5. The distribution is also platykurtic thus no outliers."
      ]
    },
    {
      "cell_type": "code",
      "metadata": {
        "id": "orBkoFVMyMU_"
      },
      "source": [
        "# Check for outliers\n",
        "num_financial = finance_df[['household_size','Respondent Age']]\n",
        "Q1 = num_financial.quantile(0.25)\n",
        "Q3 = num_financial.quantile(0.75)\n",
        "IQR = Q3 -Q1"
      ],
      "execution_count": null,
      "outputs": []
    },
    {
      "cell_type": "code",
      "metadata": {
        "id": "LtUKR-3J7em1",
        "colab": {
          "base_uri": "https://localhost:8080/",
          "height": 694
        },
        "outputId": "e1466be2-30e6-4461-ee6d-9e4e2a90a262"
      },
      "source": [
        "# Get rows with outliers\n",
        "outliers = num_financial[(num_financial < (Q1 - 1.5 * IQR))|(num_financial > (Q3 + 1.5 * IQR))].any(axis=1)\n",
        "index = outliers[outliers.values == True].index\n",
        "finance_df[finance_df.index.isin(index)]"
      ],
      "execution_count": null,
      "outputs": [
        {
          "output_type": "execute_result",
          "data": {
            "text/html": [
              "<div>\n",
              "<style scoped>\n",
              "    .dataframe tbody tr th:only-of-type {\n",
              "        vertical-align: middle;\n",
              "    }\n",
              "\n",
              "    .dataframe tbody tr th {\n",
              "        vertical-align: top;\n",
              "    }\n",
              "\n",
              "    .dataframe thead th {\n",
              "        text-align: right;\n",
              "    }\n",
              "</style>\n",
              "<table border=\"1\" class=\"dataframe\">\n",
              "  <thead>\n",
              "    <tr style=\"text-align: right;\">\n",
              "      <th></th>\n",
              "      <th>country</th>\n",
              "      <th>year</th>\n",
              "      <th>Has a Bank account</th>\n",
              "      <th>Type of Location</th>\n",
              "      <th>Cell Phone Access</th>\n",
              "      <th>household_size</th>\n",
              "      <th>Respondent Age</th>\n",
              "      <th>gender_of_respondent</th>\n",
              "      <th>The relathip with head</th>\n",
              "      <th>marital_status</th>\n",
              "      <th>Level of Educuation</th>\n",
              "      <th>Type of Job</th>\n",
              "    </tr>\n",
              "  </thead>\n",
              "  <tbody>\n",
              "    <tr>\n",
              "      <th>34</th>\n",
              "      <td>Kenya</td>\n",
              "      <td>2018</td>\n",
              "      <td>No</td>\n",
              "      <td>Rural</td>\n",
              "      <td>Yes</td>\n",
              "      <td>10.0</td>\n",
              "      <td>42.0</td>\n",
              "      <td>Female</td>\n",
              "      <td>Spouse</td>\n",
              "      <td>Married/Living together</td>\n",
              "      <td>Primary education</td>\n",
              "      <td>Farming and Fishing</td>\n",
              "    </tr>\n",
              "    <tr>\n",
              "      <th>58</th>\n",
              "      <td>Kenya</td>\n",
              "      <td>2018</td>\n",
              "      <td>No</td>\n",
              "      <td>Rural</td>\n",
              "      <td>Yes</td>\n",
              "      <td>11.0</td>\n",
              "      <td>21.0</td>\n",
              "      <td>Male</td>\n",
              "      <td>Child</td>\n",
              "      <td>Single/Never Married</td>\n",
              "      <td>Other/Dont know/RTA</td>\n",
              "      <td>Informally employed</td>\n",
              "    </tr>\n",
              "    <tr>\n",
              "      <th>92</th>\n",
              "      <td>Kenya</td>\n",
              "      <td>2018</td>\n",
              "      <td>Yes</td>\n",
              "      <td>Urban</td>\n",
              "      <td>Yes</td>\n",
              "      <td>10.0</td>\n",
              "      <td>21.0</td>\n",
              "      <td>Female</td>\n",
              "      <td>Parent</td>\n",
              "      <td>Single/Never Married</td>\n",
              "      <td>Tertiary education</td>\n",
              "      <td>Remittance Dependent</td>\n",
              "    </tr>\n",
              "    <tr>\n",
              "      <th>100</th>\n",
              "      <td>Kenya</td>\n",
              "      <td>2018</td>\n",
              "      <td>No</td>\n",
              "      <td>Urban</td>\n",
              "      <td>Yes</td>\n",
              "      <td>10.0</td>\n",
              "      <td>23.0</td>\n",
              "      <td>Female</td>\n",
              "      <td>Other relative</td>\n",
              "      <td>Divorced/Seperated</td>\n",
              "      <td>Primary education</td>\n",
              "      <td>Formally employed Private</td>\n",
              "    </tr>\n",
              "    <tr>\n",
              "      <th>209</th>\n",
              "      <td>Kenya</td>\n",
              "      <td>2018</td>\n",
              "      <td>No</td>\n",
              "      <td>Rural</td>\n",
              "      <td>No</td>\n",
              "      <td>3.0</td>\n",
              "      <td>95.0</td>\n",
              "      <td>Female</td>\n",
              "      <td>Parent</td>\n",
              "      <td>Widowed</td>\n",
              "      <td>No formal education</td>\n",
              "      <td>Informally employed</td>\n",
              "    </tr>\n",
              "    <tr>\n",
              "      <th>...</th>\n",
              "      <td>...</td>\n",
              "      <td>...</td>\n",
              "      <td>...</td>\n",
              "      <td>...</td>\n",
              "      <td>...</td>\n",
              "      <td>...</td>\n",
              "      <td>...</td>\n",
              "      <td>...</td>\n",
              "      <td>...</td>\n",
              "      <td>...</td>\n",
              "      <td>...</td>\n",
              "      <td>...</td>\n",
              "    </tr>\n",
              "    <tr>\n",
              "      <th>23461</th>\n",
              "      <td>Uganda</td>\n",
              "      <td>2018</td>\n",
              "      <td>No</td>\n",
              "      <td>Urban</td>\n",
              "      <td>Yes</td>\n",
              "      <td>13.0</td>\n",
              "      <td>25.0</td>\n",
              "      <td>Female</td>\n",
              "      <td>Spouse</td>\n",
              "      <td>Married/Living together</td>\n",
              "      <td>Primary education</td>\n",
              "      <td>Dont Know/Refuse to answer</td>\n",
              "    </tr>\n",
              "    <tr>\n",
              "      <th>23468</th>\n",
              "      <td>Uganda</td>\n",
              "      <td>2018</td>\n",
              "      <td>No</td>\n",
              "      <td>Urban</td>\n",
              "      <td>Yes</td>\n",
              "      <td>12.0</td>\n",
              "      <td>42.0</td>\n",
              "      <td>Male</td>\n",
              "      <td>Head of Household</td>\n",
              "      <td>Married/Living together</td>\n",
              "      <td>Primary education</td>\n",
              "      <td>Self employed</td>\n",
              "    </tr>\n",
              "    <tr>\n",
              "      <th>23471</th>\n",
              "      <td>Uganda</td>\n",
              "      <td>2018</td>\n",
              "      <td>No</td>\n",
              "      <td>Rural</td>\n",
              "      <td>Yes</td>\n",
              "      <td>15.0</td>\n",
              "      <td>17.0</td>\n",
              "      <td>Female</td>\n",
              "      <td>Other relative</td>\n",
              "      <td>Married/Living together</td>\n",
              "      <td>Secondary education</td>\n",
              "      <td>Self employed</td>\n",
              "    </tr>\n",
              "    <tr>\n",
              "      <th>23482</th>\n",
              "      <td>Uganda</td>\n",
              "      <td>2018</td>\n",
              "      <td>No</td>\n",
              "      <td>Rural</td>\n",
              "      <td>No</td>\n",
              "      <td>10.0</td>\n",
              "      <td>18.0</td>\n",
              "      <td>Female</td>\n",
              "      <td>Parent</td>\n",
              "      <td>Married/Living together</td>\n",
              "      <td>Secondary education</td>\n",
              "      <td>Self employed</td>\n",
              "    </tr>\n",
              "    <tr>\n",
              "      <th>23523</th>\n",
              "      <td>Uganda</td>\n",
              "      <td>2018</td>\n",
              "      <td>No</td>\n",
              "      <td>Rural</td>\n",
              "      <td>Yes</td>\n",
              "      <td>10.0</td>\n",
              "      <td>20.0</td>\n",
              "      <td>Male</td>\n",
              "      <td>Child</td>\n",
              "      <td>Single/Never Married</td>\n",
              "      <td>Secondary education</td>\n",
              "      <td>No Income</td>\n",
              "    </tr>\n",
              "  </tbody>\n",
              "</table>\n",
              "<p>613 rows × 12 columns</p>\n",
              "</div>"
            ],
            "text/plain": [
              "      country  year  ...  Level of Educuation                 Type of Job\n",
              "34      Kenya  2018  ...    Primary education         Farming and Fishing\n",
              "58      Kenya  2018  ...  Other/Dont know/RTA         Informally employed\n",
              "92      Kenya  2018  ...   Tertiary education        Remittance Dependent\n",
              "100     Kenya  2018  ...    Primary education   Formally employed Private\n",
              "209     Kenya  2018  ...  No formal education         Informally employed\n",
              "...       ...   ...  ...                  ...                         ...\n",
              "23461  Uganda  2018  ...    Primary education  Dont Know/Refuse to answer\n",
              "23468  Uganda  2018  ...    Primary education               Self employed\n",
              "23471  Uganda  2018  ...  Secondary education               Self employed\n",
              "23482  Uganda  2018  ...  Secondary education               Self employed\n",
              "23523  Uganda  2018  ...  Secondary education                   No Income\n",
              "\n",
              "[613 rows x 12 columns]"
            ]
          },
          "metadata": {
            "tags": []
          },
          "execution_count": 27
        }
      ]
    },
    {
      "cell_type": "markdown",
      "metadata": {
        "id": "ekEifkIU_S43"
      },
      "source": [
        "- Data considered outliers using the interquantile range method seems feasible and thus will not be dropped"
      ]
    },
    {
      "cell_type": "code",
      "metadata": {
        "id": "tL20ccv07hwp",
        "colab": {
          "base_uri": "https://localhost:8080/",
          "height": 1000
        },
        "outputId": "34b6c0f5-1330-4cdd-bdf2-6f0059091994"
      },
      "source": [
        "# Get frequency distributions for categorical variables\n",
        "cat_financial = finance_df.select_dtypes(include='object').columns.to_list()\n",
        "for col in cat_financial:\n",
        "  print(f'Column: {col}')\n",
        "  print(finance_df[col].value_counts().sort_values(ascending=False))\n",
        "  print('**********')\n",
        "  print('\\n')"
      ],
      "execution_count": null,
      "outputs": [
        {
          "output_type": "stream",
          "text": [
            "Column: country\n",
            "Rwanda      8665\n",
            "Tanzania    6497\n",
            "Kenya       6062\n",
            "Uganda      2089\n",
            "Name: country, dtype: int64\n",
            "**********\n",
            "\n",
            "\n",
            "Column: Has a Bank account\n",
            "No     20022\n",
            "Yes     3291\n",
            "Name: Has a Bank account, dtype: int64\n",
            "**********\n",
            "\n",
            "\n",
            "Column: Type of Location\n",
            "Rural    14247\n",
            "Urban     9066\n",
            "Name: Type of Location, dtype: int64\n",
            "**********\n",
            "\n",
            "\n",
            "Column: Cell Phone Access\n",
            "Yes    17315\n",
            "No      5998\n",
            "Name: Cell Phone Access, dtype: int64\n",
            "**********\n",
            "\n",
            "\n",
            "Column: gender_of_respondent\n",
            "Female    13748\n",
            "Male       9565\n",
            "Name: gender_of_respondent, dtype: int64\n",
            "**********\n",
            "\n",
            "\n",
            "Column: The relathip with head\n",
            "Head of Household      12714\n",
            "Spouse                  6459\n",
            "Child                   2221\n",
            "Parent                  1069\n",
            "Other relative           661\n",
            "Other non-relatives      189\n",
            "Name: The relathip with head, dtype: int64\n",
            "**********\n",
            "\n",
            "\n",
            "Column: marital_status\n",
            "Married/Living together    10682\n",
            "Single/Never Married        7899\n",
            "Widowed                     2677\n",
            "Divorced/Seperated          2047\n",
            "Dont know                      8\n",
            "Name: marital_status, dtype: int64\n",
            "**********\n",
            "\n",
            "\n",
            "Column: Level of Educuation\n",
            "Primary education                  12688\n",
            "No formal education                 4467\n",
            "Secondary education                 4206\n",
            "Tertiary education                  1143\n",
            "Vocational/Specialised training      801\n",
            "Other/Dont know/RTA                    8\n",
            "Name: Level of Educuation, dtype: int64\n",
            "**********\n",
            "\n",
            "\n",
            "Column: Type of Job\n",
            "Self employed                   6357\n",
            "Informally employed             5534\n",
            "Farming and Fishing             5422\n",
            "Remittance Dependent            2506\n",
            "Other Income                    1076\n",
            "Formally employed Private       1046\n",
            "No Income                        615\n",
            "Formally employed Government     386\n",
            "Government Dependent             246\n",
            "Dont Know/Refuse to answer       125\n",
            "Name: Type of Job, dtype: int64\n",
            "**********\n",
            "\n",
            "\n"
          ],
          "name": "stdout"
        }
      ]
    },
    {
      "cell_type": "markdown",
      "metadata": {
        "id": "RI1XrcvWBV24"
      },
      "source": [
        "### Bivariate Analysis"
      ]
    },
    {
      "cell_type": "code",
      "metadata": {
        "id": "AeXfCIBoAJVc",
        "colab": {
          "base_uri": "https://localhost:8080/",
          "height": 405
        },
        "outputId": "2ff8940d-9a68-4295-ed29-bdb36ca89191"
      },
      "source": [
        "# Determine correlation between numeric features\n",
        "sns.pairplot(finance_df[['household_size','Respondent Age']])\n",
        "plt.title('Respondent Age vs Household Size')"
      ],
      "execution_count": null,
      "outputs": [
        {
          "output_type": "execute_result",
          "data": {
            "text/plain": [
              "Text(0.5, 1.0, 'Respondent Age vs Household Size')"
            ]
          },
          "metadata": {
            "tags": []
          },
          "execution_count": 29
        },
        {
          "output_type": "display_data",
          "data": {
            "image/png": "[encoded data removed]",
            "text/plain": [
              "<Figure size 360x360 with 6 Axes>"
            ]
          },
          "metadata": {
            "tags": []
          }
        }
      ]
    },
    {
      "cell_type": "code",
      "metadata": {
        "id": "MxPqHrhqCM6R",
        "colab": {
          "base_uri": "https://localhost:8080/",
          "height": 33
        },
        "outputId": "b0de0427-e488-49bf-a534-c52f3e508d31"
      },
      "source": [
        "finance_df['Respondent Age'].corr(finance_df['household_size'])"
      ],
      "execution_count": null,
      "outputs": [
        {
          "output_type": "execute_result",
          "data": {
            "text/plain": [
              "-0.11918485538538871"
            ]
          },
          "metadata": {
            "tags": []
          },
          "execution_count": 32
        }
      ]
    },
    {
      "cell_type": "markdown",
      "metadata": {
        "id": "iyxNSEiHC_Wq"
      },
      "source": [
        "From the scatter plot and pearsons correlation, there is very weak negative correlation between respondent age and household size"
      ]
    },
    {
      "cell_type": "markdown",
      "metadata": {
        "id": "V7hWp5CwXbrQ"
      },
      "source": [
        "### Hypothesis Tests"
      ]
    },
    {
      "cell_type": "markdown",
      "metadata": {
        "id": "wHpkIzaRXnmN"
      },
      "source": [
        "To perform hypothesis tests, get rid of rows in the financial data with the don't know/refuse responses in the marital status, education level and job type columns."
      ]
    },
    {
      "cell_type": "code",
      "metadata": {
        "id": "bq2SGHtrYXxH"
      },
      "source": [
        "# Identify indices with don't know/ refuse to answer responses \n",
        "index_marital_status = finance_df[finance_df['marital_status'] == 'Dont know'].index.to_list()\n",
        "index_education = finance_df[finance_df['Level of Educuation'] == 'Other/Dont know/RTA'].index.to_list()\n",
        "index_job = finance_df[finance_df['Type of Job'] == 'Dont Know/Refuse to answer'].index.to_list()\n",
        "\n",
        "to_drop = set(index_education + index_marital_status + index_job)\n",
        "# Drop rows with identified indices\n",
        "finance_df.drop(index=to_drop, inplace=True)"
      ],
      "execution_count": null,
      "outputs": []
    },
    {
      "cell_type": "code",
      "metadata": {
        "id": "H9Ldl7cJC9NH",
        "colab": {
          "base_uri": "https://localhost:8080/",
          "height": 210
        },
        "outputId": "7fc297db-3cb8-4e58-d237-9feddf428ecf"
      },
      "source": [
        "# Investigate relationship between type of job and if the respondent has a bank account or not\n",
        "table_job = pd.crosstab(finance_df['Has a Bank account'], finance_df['Type of Job'])\n",
        "table_job"
      ],
      "execution_count": null,
      "outputs": [
        {
          "output_type": "execute_result",
          "data": {
            "text/html": [
              "<div>\n",
              "<style scoped>\n",
              "    .dataframe tbody tr th:only-of-type {\n",
              "        vertical-align: middle;\n",
              "    }\n",
              "\n",
              "    .dataframe tbody tr th {\n",
              "        vertical-align: top;\n",
              "    }\n",
              "\n",
              "    .dataframe thead th {\n",
              "        text-align: right;\n",
              "    }\n",
              "</style>\n",
              "<table border=\"1\" class=\"dataframe\">\n",
              "  <thead>\n",
              "    <tr style=\"text-align: right;\">\n",
              "      <th>Type of Job</th>\n",
              "      <th>Farming and Fishing</th>\n",
              "      <th>Formally employed Government</th>\n",
              "      <th>Formally employed Private</th>\n",
              "      <th>Government Dependent</th>\n",
              "      <th>Informally employed</th>\n",
              "      <th>No Income</th>\n",
              "      <th>Other Income</th>\n",
              "      <th>Remittance Dependent</th>\n",
              "      <th>Self employed</th>\n",
              "    </tr>\n",
              "    <tr>\n",
              "      <th>Has a Bank account</th>\n",
              "      <th></th>\n",
              "      <th></th>\n",
              "      <th></th>\n",
              "      <th></th>\n",
              "      <th></th>\n",
              "      <th></th>\n",
              "      <th></th>\n",
              "      <th></th>\n",
              "      <th></th>\n",
              "    </tr>\n",
              "  </thead>\n",
              "  <tbody>\n",
              "    <tr>\n",
              "      <th>No</th>\n",
              "      <td>4787</td>\n",
              "      <td>87</td>\n",
              "      <td>480</td>\n",
              "      <td>197</td>\n",
              "      <td>5092</td>\n",
              "      <td>602</td>\n",
              "      <td>880</td>\n",
              "      <td>2266</td>\n",
              "      <td>5512</td>\n",
              "    </tr>\n",
              "    <tr>\n",
              "      <th>Yes</th>\n",
              "      <td>634</td>\n",
              "      <td>297</td>\n",
              "      <td>564</td>\n",
              "      <td>49</td>\n",
              "      <td>438</td>\n",
              "      <td>13</td>\n",
              "      <td>194</td>\n",
              "      <td>239</td>\n",
              "      <td>841</td>\n",
              "    </tr>\n",
              "  </tbody>\n",
              "</table>\n",
              "</div>"
            ],
            "text/plain": [
              "Type of Job         Farming and Fishing  ...  Self employed\n",
              "Has a Bank account                       ...               \n",
              "No                                 4787  ...           5512\n",
              "Yes                                 634  ...            841\n",
              "\n",
              "[2 rows x 9 columns]"
            ]
          },
          "metadata": {
            "tags": []
          },
          "execution_count": 31
        }
      ]
    },
    {
      "cell_type": "markdown",
      "metadata": {
        "id": "tXNZRkqqI9dO"
      },
      "source": [
        "To test relationship between type of job and if the respondent has a bank account or not.\n",
        "\n",
        "- Null Hypothesis : Type of job has no influence on if an individual has a bank account or not\n",
        "- Alternative Hypothesis : Type of job influences on if an individual has a bank account or not"
      ]
    },
    {
      "cell_type": "code",
      "metadata": {
        "id": "lcbTkByJHzEz",
        "colab": {
          "base_uri": "https://localhost:8080/",
          "height": 51
        },
        "outputId": "2ab79489-92b4-4b03-a005-3a919c2adf2b"
      },
      "source": [
        "# Perform chi-square test\n",
        "from scipy.stats import chi2_contingency\n",
        "from scipy.stats import chi2\n",
        " \n",
        "stat, p, dof, expected = chi2_contingency(table_job.to_numpy())\n",
        " \n",
        "#Calculate critical value, set significance level = 0.05\n",
        "prob = 0.95\n",
        "critical_value = chi2.ppf(prob, dof)\n",
        " \n",
        "print(f'Propability: {prob}, Critical value: {critical_value}, Test statistic: {stat}')\n",
        "print(f'Alpha: {1-prob}, p-value: {p}')"
      ],
      "execution_count": null,
      "outputs": [
        {
          "output_type": "stream",
          "text": [
            "Propability: 0.95, Critical value: 15.50731305586545, Test statistic: 2981.47928994802\n",
            "Alpha: 0.050000000000000044, p-value: 0.0\n"
          ],
          "name": "stdout"
        }
      ]
    },
    {
      "cell_type": "markdown",
      "metadata": {
        "id": "wOYJT2-GOwJM"
      },
      "source": [
        "p-value less than alpha, thus significant evidence to reject null hypothesis"
      ]
    },
    {
      "cell_type": "code",
      "metadata": {
        "id": "QDETCYaC3WQT",
        "colab": {
          "base_uri": "https://localhost:8080/",
          "height": 133
        },
        "outputId": "a22cbfe0-6ad8-4cf6-e4c3-bf9e2794d44f"
      },
      "source": [
        "# Investigate relationship between level of education and if the respondent has a bank account or not\n",
        "table_edu = pd.crosstab(finance_df['Has a Bank account'], finance_df['Level of Educuation'])\n",
        "table_edu"
      ],
      "execution_count": null,
      "outputs": [
        {
          "output_type": "execute_result",
          "data": {
            "text/html": [
              "<div>\n",
              "<style scoped>\n",
              "    .dataframe tbody tr th:only-of-type {\n",
              "        vertical-align: middle;\n",
              "    }\n",
              "\n",
              "    .dataframe tbody tr th {\n",
              "        vertical-align: top;\n",
              "    }\n",
              "\n",
              "    .dataframe thead th {\n",
              "        text-align: right;\n",
              "    }\n",
              "</style>\n",
              "<table border=\"1\" class=\"dataframe\">\n",
              "  <thead>\n",
              "    <tr style=\"text-align: right;\">\n",
              "      <th>Level of Educuation</th>\n",
              "      <th>No formal education</th>\n",
              "      <th>Primary education</th>\n",
              "      <th>Secondary education</th>\n",
              "      <th>Tertiary education</th>\n",
              "      <th>Vocational/Specialised training</th>\n",
              "    </tr>\n",
              "    <tr>\n",
              "      <th>Has a Bank account</th>\n",
              "      <th></th>\n",
              "      <th></th>\n",
              "      <th></th>\n",
              "      <th></th>\n",
              "      <th></th>\n",
              "    </tr>\n",
              "  </thead>\n",
              "  <tbody>\n",
              "    <tr>\n",
              "      <th>No</th>\n",
              "      <td>4273</td>\n",
              "      <td>11529</td>\n",
              "      <td>3202</td>\n",
              "      <td>554</td>\n",
              "      <td>345</td>\n",
              "    </tr>\n",
              "    <tr>\n",
              "      <th>Yes</th>\n",
              "      <td>176</td>\n",
              "      <td>1078</td>\n",
              "      <td>973</td>\n",
              "      <td>587</td>\n",
              "      <td>455</td>\n",
              "    </tr>\n",
              "  </tbody>\n",
              "</table>\n",
              "</div>"
            ],
            "text/plain": [
              "Level of Educuation  No formal education  ...  Vocational/Specialised training\n",
              "Has a Bank account                        ...                                 \n",
              "No                                  4273  ...                              345\n",
              "Yes                                  176  ...                              455\n",
              "\n",
              "[2 rows x 5 columns]"
            ]
          },
          "metadata": {
            "tags": []
          },
          "execution_count": 36
        }
      ]
    },
    {
      "cell_type": "markdown",
      "metadata": {
        "id": "qwOjQEvL3zv5"
      },
      "source": [
        "To test relationship between level of education and if the respondent has a bank account or not.\n",
        "\n",
        "- Null Hypothesis : Level of education has no influence on if an individual has a bank account or not\n",
        "- Alternative Hypothesis : Level of education influences on if an individual has a bank account or not"
      ]
    },
    {
      "cell_type": "code",
      "metadata": {
        "id": "DCU3TebAfh_0",
        "colab": {
          "base_uri": "https://localhost:8080/",
          "height": 50
        },
        "outputId": "ba3df5a0-9432-44e6-f511-f06fd75a8fd5"
      },
      "source": [
        "stat, p, dof, expected = chi2_contingency(table_edu.to_numpy())\n",
        " \n",
        "#Calculate critical value, set significance level = 0.05\n",
        "prob = 0.95\n",
        "critical_value = chi2.ppf(prob, dof)\n",
        " \n",
        "print(f'Propability: {prob}, Critical value: {critical_value}, Test statistic: {stat}')\n",
        "print(f'Alpha: {1-prob}, p-value: {p}')"
      ],
      "execution_count": null,
      "outputs": [
        {
          "output_type": "stream",
          "text": [
            "Propability: 0.95, Critical value: 9.487729036781154, Test statistic: 3511.46942026072\n",
            "Alpha: 0.050000000000000044, p-value: 0.0\n"
          ],
          "name": "stdout"
        }
      ]
    },
    {
      "cell_type": "markdown",
      "metadata": {
        "id": "2lDX1ENfftXx"
      },
      "source": [
        "p-value is less than alpha, test statistic exceed the critical value thus reject the null hypothesis."
      ]
    },
    {
      "cell_type": "code",
      "metadata": {
        "id": "iauG1E7SLVZK",
        "colab": {
          "base_uri": "https://localhost:8080/",
          "height": 133
        },
        "outputId": "4b9bd886-9691-4ba4-9467-6ae4edccbc5c"
      },
      "source": [
        "# Investigate relationship between type of location and if the respondent has a bank account or not\n",
        "table_loc = pd.crosstab(finance_df['Has a Bank account'], finance_df['Type of Location'])\n",
        "table_loc"
      ],
      "execution_count": null,
      "outputs": [
        {
          "output_type": "execute_result",
          "data": {
            "text/html": [
              "<div>\n",
              "<style scoped>\n",
              "    .dataframe tbody tr th:only-of-type {\n",
              "        vertical-align: middle;\n",
              "    }\n",
              "\n",
              "    .dataframe tbody tr th {\n",
              "        vertical-align: top;\n",
              "    }\n",
              "\n",
              "    .dataframe thead th {\n",
              "        text-align: right;\n",
              "    }\n",
              "</style>\n",
              "<table border=\"1\" class=\"dataframe\">\n",
              "  <thead>\n",
              "    <tr style=\"text-align: right;\">\n",
              "      <th>Type of Location</th>\n",
              "      <th>Rural</th>\n",
              "      <th>Urban</th>\n",
              "    </tr>\n",
              "    <tr>\n",
              "      <th>Has a Bank account</th>\n",
              "      <th></th>\n",
              "      <th></th>\n",
              "    </tr>\n",
              "  </thead>\n",
              "  <tbody>\n",
              "    <tr>\n",
              "      <th>No</th>\n",
              "      <td>12494</td>\n",
              "      <td>7409</td>\n",
              "    </tr>\n",
              "    <tr>\n",
              "      <th>Yes</th>\n",
              "      <td>1652</td>\n",
              "      <td>1617</td>\n",
              "    </tr>\n",
              "  </tbody>\n",
              "</table>\n",
              "</div>"
            ],
            "text/plain": [
              "Type of Location    Rural  Urban\n",
              "Has a Bank account              \n",
              "No                  12494   7409\n",
              "Yes                  1652   1617"
            ]
          },
          "metadata": {
            "tags": []
          },
          "execution_count": 38
        }
      ]
    },
    {
      "cell_type": "markdown",
      "metadata": {
        "id": "1pltFcxoPtDC"
      },
      "source": [
        "To test relationship between type of location and if the respondent has a bank account or not.\n",
        "\n",
        "- Null Hypothesis : Type of location does not influence if an individual has a bank account or not\n",
        "- Alternative Hypothesis : Type of location influences if an individual has a bank account or not"
      ]
    },
    {
      "cell_type": "code",
      "metadata": {
        "id": "aBHI9aYGPqdA",
        "colab": {
          "base_uri": "https://localhost:8080/",
          "height": 50
        },
        "outputId": "0167eb6d-2def-460a-f6a9-b1ef288c0091"
      },
      "source": [
        "stat, p, dof, expected = chi2_contingency(table_loc.to_numpy())\n",
        "\n",
        "#Calculate critical value, set significance level = 0.05\n",
        "prob = 0.95\n",
        "critical_value = chi2.ppf(prob, dof)\n",
        "\n",
        "print(f'Propability: {prob}, Critical value: {critical_value}, Test statistic: {stat}')\n",
        "print(f'Alpha: {1-prob}, p-value: {p:.5f}')"
      ],
      "execution_count": null,
      "outputs": [
        {
          "output_type": "stream",
          "text": [
            "Propability: 0.95, Critical value: 3.841458820694124, Test statistic: 176.36159026650915\n",
            "Alpha: 0.050000000000000044, p-value: 0.00000\n"
          ],
          "name": "stdout"
        }
      ]
    },
    {
      "cell_type": "markdown",
      "metadata": {
        "id": "DMlise-BRpYV"
      },
      "source": [
        "p-value less than alpha, thus significant evidence to reject null hypothesis"
      ]
    },
    {
      "cell_type": "code",
      "metadata": {
        "id": "uL-1C-9pQccL",
        "colab": {
          "base_uri": "https://localhost:8080/",
          "height": 133
        },
        "outputId": "0eb6408f-38d9-436c-aef9-d6a9f3305c22"
      },
      "source": [
        "# Investigate relationship between cell phone access and if the respondent has a bank account or not\n",
        "table_cell = pd.crosstab(finance_df['Has a Bank account'], finance_df['Cell Phone Access'])\n",
        "table_cell"
      ],
      "execution_count": null,
      "outputs": [
        {
          "output_type": "execute_result",
          "data": {
            "text/html": [
              "<div>\n",
              "<style scoped>\n",
              "    .dataframe tbody tr th:only-of-type {\n",
              "        vertical-align: middle;\n",
              "    }\n",
              "\n",
              "    .dataframe tbody tr th {\n",
              "        vertical-align: top;\n",
              "    }\n",
              "\n",
              "    .dataframe thead th {\n",
              "        text-align: right;\n",
              "    }\n",
              "</style>\n",
              "<table border=\"1\" class=\"dataframe\">\n",
              "  <thead>\n",
              "    <tr style=\"text-align: right;\">\n",
              "      <th>Cell Phone Access</th>\n",
              "      <th>No</th>\n",
              "      <th>Yes</th>\n",
              "    </tr>\n",
              "    <tr>\n",
              "      <th>Has a Bank account</th>\n",
              "      <th></th>\n",
              "      <th></th>\n",
              "    </tr>\n",
              "  </thead>\n",
              "  <tbody>\n",
              "    <tr>\n",
              "      <th>No</th>\n",
              "      <td>5861</td>\n",
              "      <td>14042</td>\n",
              "    </tr>\n",
              "    <tr>\n",
              "      <th>Yes</th>\n",
              "      <td>104</td>\n",
              "      <td>3165</td>\n",
              "    </tr>\n",
              "  </tbody>\n",
              "</table>\n",
              "</div>"
            ],
            "text/plain": [
              "Cell Phone Access     No    Yes\n",
              "Has a Bank account             \n",
              "No                  5861  14042\n",
              "Yes                  104   3165"
            ]
          },
          "metadata": {
            "tags": []
          },
          "execution_count": 40
        }
      ]
    },
    {
      "cell_type": "markdown",
      "metadata": {
        "id": "5tzQU9yySQFM"
      },
      "source": [
        "To test relationship between cell phone access and if the respondent has a bank account or not.\n",
        "\n",
        "- Null Hypothesis : Cell phone access has no influence on if an individual has a bank account or not\n",
        "- Alternative Hypothesis : Cell phone access has influence on if an individual has a bank account or not"
      ]
    },
    {
      "cell_type": "code",
      "metadata": {
        "id": "1DBmEdhGSMYc",
        "colab": {
          "base_uri": "https://localhost:8080/",
          "height": 50
        },
        "outputId": "6fd9406a-d7fa-49f7-dab4-a1b8ce7a719e"
      },
      "source": [
        "stat, p, dof, expected = chi2_contingency(table_cell.to_numpy())\n",
        "\n",
        "#Calculate critical value, set significance level = 0.05\n",
        "prob = 0.95\n",
        "critical_value = chi2.ppf(prob, dof)\n",
        "\n",
        "print(f'Propability: {prob}, Critical value: {critical_value}, Test statistic: {stat}')\n",
        "print(f'Alpha: {1-prob}, p-value: {p}')"
      ],
      "execution_count": null,
      "outputs": [
        {
          "output_type": "stream",
          "text": [
            "Propability: 0.95, Critical value: 3.841458820694124, Test statistic: 1012.0316935814733\n",
            "Alpha: 0.050000000000000044, p-value: 4.355368558242013e-222\n"
          ],
          "name": "stdout"
        }
      ]
    },
    {
      "cell_type": "markdown",
      "metadata": {
        "id": "bTjv0F7DS2BC"
      },
      "source": [
        "p-value less than alpha, thus significant evidence to reject null hypothesis"
      ]
    },
    {
      "cell_type": "code",
      "metadata": {
        "id": "rqtyn_vESqc4",
        "colab": {
          "base_uri": "https://localhost:8080/",
          "height": 133
        },
        "outputId": "2b6006a5-b26d-4651-8aba-1205fffeb08a"
      },
      "source": [
        "# Investigate relationship between gender and if the respondent has a bank account or not\n",
        "table_gender = pd.crosstab(finance_df['Has a Bank account'], finance_df['gender_of_respondent'])\n",
        "table_gender"
      ],
      "execution_count": null,
      "outputs": [
        {
          "output_type": "execute_result",
          "data": {
            "text/html": [
              "<div>\n",
              "<style scoped>\n",
              "    .dataframe tbody tr th:only-of-type {\n",
              "        vertical-align: middle;\n",
              "    }\n",
              "\n",
              "    .dataframe tbody tr th {\n",
              "        vertical-align: top;\n",
              "    }\n",
              "\n",
              "    .dataframe thead th {\n",
              "        text-align: right;\n",
              "    }\n",
              "</style>\n",
              "<table border=\"1\" class=\"dataframe\">\n",
              "  <thead>\n",
              "    <tr style=\"text-align: right;\">\n",
              "      <th>gender_of_respondent</th>\n",
              "      <th>Female</th>\n",
              "      <th>Male</th>\n",
              "    </tr>\n",
              "    <tr>\n",
              "      <th>Has a Bank account</th>\n",
              "      <th></th>\n",
              "      <th></th>\n",
              "    </tr>\n",
              "  </thead>\n",
              "  <tbody>\n",
              "    <tr>\n",
              "      <th>No</th>\n",
              "      <td>12196</td>\n",
              "      <td>7707</td>\n",
              "    </tr>\n",
              "    <tr>\n",
              "      <th>Yes</th>\n",
              "      <td>1468</td>\n",
              "      <td>1801</td>\n",
              "    </tr>\n",
              "  </tbody>\n",
              "</table>\n",
              "</div>"
            ],
            "text/plain": [
              "gender_of_respondent  Female  Male\n",
              "Has a Bank account                \n",
              "No                     12196  7707\n",
              "Yes                     1468  1801"
            ]
          },
          "metadata": {
            "tags": []
          },
          "execution_count": 42
        }
      ]
    },
    {
      "cell_type": "markdown",
      "metadata": {
        "id": "8eL9PjkpTWof"
      },
      "source": [
        "To test relationship between gender and if the respondent has a bank account or not.\n",
        "\n",
        "- Null Hypothesis : Gender has no influence if an individual has a bank account or not\n",
        "- Alternative Hypothesis : Gender influences if an individual has a bank account or not"
      ]
    },
    {
      "cell_type": "code",
      "metadata": {
        "id": "pazcR-ShTP2F",
        "colab": {
          "base_uri": "https://localhost:8080/",
          "height": 50
        },
        "outputId": "54ad78f0-49f7-4cd4-aebd-b163db59608b"
      },
      "source": [
        "stat, p, dof, expected = chi2_contingency(table_gender.to_numpy())\n",
        "\n",
        "#Calculate critical value, set significance level = 0.05\n",
        "prob = 0.95\n",
        "critical_value = chi2.ppf(prob, dof)\n",
        "\n",
        "print(f'Propability: {prob}, Critical value: {critical_value}, Test statistic: {stat}')\n",
        "print(f'Alpha: {1-prob}, p-value: {p}')"
      ],
      "execution_count": null,
      "outputs": [
        {
          "output_type": "stream",
          "text": [
            "Propability: 0.95, Critical value: 3.841458820694124, Test statistic: 310.31891158097494\n",
            "Alpha: 0.050000000000000044, p-value: 1.861024387194316e-69\n"
          ],
          "name": "stdout"
        }
      ]
    },
    {
      "cell_type": "markdown",
      "metadata": {
        "id": "cemtiiWoTrNX"
      },
      "source": [
        "p-value less than alpha, thus significant evidence to reject null hypothesis"
      ]
    },
    {
      "cell_type": "markdown",
      "metadata": {
        "id": "LSgXWpjOUQm7"
      },
      "source": [
        "Investigate relationship between respondent age and if the respondent has a bank account or not.\n",
        "\n",
        "- H0: Respondent age does not influence if a respondent has a bank account or not\n",
        "- H1: Respondent age if a respondent has a bank account or not"
      ]
    },
    {
      "cell_type": "code",
      "metadata": {
        "id": "z79jWkNYTnG3"
      },
      "source": [
        " # Sample 50 rows from financial data\n",
        " rand_sample = finance_df[['Respondent Age', 'Has a Bank account']].sample(n=50, random_state=1)\n"
      ],
      "execution_count": null,
      "outputs": []
    },
    {
      "cell_type": "code",
      "metadata": {
        "id": "2b3LOpQMplzh",
        "colab": {
          "base_uri": "https://localhost:8080/",
          "height": 33
        },
        "outputId": "dd57cab3-6ded-4421-a372-f394aa8276b2"
      },
      "source": [
        "# Perform a two sample z test\n",
        "from statsmodels.stats.weightstats import ztest\n",
        "\n",
        "zscore, p = ztest(x1 = rand_sample[rand_sample['Has a Bank account']=='Yes']['Respondent Age'].values, x2=rand_sample[rand_sample['Has a Bank account']=='No']['Respondent Age'].values)\n",
        "print(f'Test statistic: {zscore}, p-value: {p}')"
      ],
      "execution_count": null,
      "outputs": [
        {
          "output_type": "stream",
          "text": [
            "Test statistic: 0.3295894215857208, p-value: 0.7417102167332039\n"
          ],
          "name": "stdout"
        }
      ]
    },
    {
      "cell_type": "markdown",
      "metadata": {
        "id": "TAtT3HdLuGJ5"
      },
      "source": [
        "P-value is greater than significance level of 0.05, hence we fail to reject the null hypothesis.\n"
      ]
    },
    {
      "cell_type": "markdown",
      "metadata": {
        "id": "YYpirBSpuZ7E"
      },
      "source": [
        "Investigate relationship between household size and if the respondent has a bank account or not.\n",
        "\n",
        "- H0: Household size does not influence if a respondent has a bank account or not\n",
        "- H1: Household size influences if a respondent has a bank account or not"
      ]
    },
    {
      "cell_type": "code",
      "metadata": {
        "id": "-y-_t8X3rDn3",
        "colab": {
          "base_uri": "https://localhost:8080/",
          "height": 33
        },
        "outputId": "f1bfe274-bcc7-46aa-de61-88f95eae7ec1"
      },
      "source": [
        " rand_sample_2 = finance_df[['household_size', 'Has a Bank account']].sample(n=50, random_state=1)\n",
        " zscore, p = ztest(x1 = rand_sample_2[rand_sample_2['Has a Bank account']=='Yes']['household_size'].values, x2=rand_sample_2[rand_sample_2['Has a Bank account']=='No']['household_size'].values)\n",
        "print(f'Test statistic: {zscore}, p-value: {p}')\n"
      ],
      "execution_count": null,
      "outputs": [
        {
          "output_type": "stream",
          "text": [
            "Test statistic: -2.1169345556762202, p-value: 0.03426540243096731\n"
          ],
          "name": "stdout"
        }
      ]
    },
    {
      "cell_type": "markdown",
      "metadata": {
        "id": "-gYJ2ve1vuBv"
      },
      "source": [
        "P-value is less than significance level of 0.05, hence we reject the null hypothesis.\n"
      ]
    },
    {
      "cell_type": "code",
      "metadata": {
        "id": "XLmpdYdcvWzz",
        "colab": {
          "base_uri": "https://localhost:8080/",
          "height": 119
        },
        "outputId": "3d064ddd-6866-4c3e-e1fd-a5e1a2f79497"
      },
      "source": [
        "finance_df.groupby('Has a Bank account')['gender_of_respondent'].value_counts()"
      ],
      "execution_count": null,
      "outputs": [
        {
          "output_type": "execute_result",
          "data": {
            "text/plain": [
              "Has a Bank account  gender_of_respondent\n",
              "No                  Female                  12196\n",
              "                    Male                     7707\n",
              "Yes                 Male                     1801\n",
              "                    Female                   1468\n",
              "Name: gender_of_respondent, dtype: int64"
            ]
          },
          "metadata": {
            "tags": []
          },
          "execution_count": 33
        }
      ]
    },
    {
      "cell_type": "code",
      "metadata": {
        "id": "Hwd-bOQQwNIQ",
        "colab": {
          "base_uri": "https://localhost:8080/",
          "height": 644
        },
        "outputId": "8cac552b-648a-4ada-8e9c-3c3dd48940fc"
      },
      "source": [
        "bank_status = ['Yes', 'No']\n",
        "women_number = [1477, 12271]\n",
        "men_number = [1814, 7751]\n",
        "x = [status for status in bank_status]\n",
        "plt.figure(figsize=(12,10))\n",
        "plt.bar(x, women_number, label='Women')\n",
        "plt.bar(x, men_number, label='Men', bottom=women_number)\n",
        "plt.title('Gender distribution on the bank account status')\n",
        "plt.legend()\n",
        "plt.xlabel('Has a bank account')"
      ],
      "execution_count": null,
      "outputs": [
        {
          "output_type": "execute_result",
          "data": {
            "text/plain": [
              "Text(0.5, 0, 'Has a bank account')"
            ]
          },
          "metadata": {
            "tags": []
          },
          "execution_count": 34
        },
        {
          "output_type": "display_data",
          "data": {
            "image/png": "[encoded data removed]",
            "text/plain": [
              "<Figure size 864x720 with 1 Axes>"
            ]
          },
          "metadata": {
            "tags": []
          }
        }
      ]
    },
    {
      "cell_type": "markdown",
      "metadata": {
        "id": "GHihHpDe2l63"
      },
      "source": [
        "The data is heavily imbalanced as depicted with most data points belonging to respondents with no bank account. A significantly larger percentage of women have no bank accounts\n"
      ]
    },
    {
      "cell_type": "code",
      "metadata": {
        "id": "EASQCh3gyDMA",
        "colab": {
          "base_uri": "https://localhost:8080/",
          "height": 636
        },
        "outputId": "f433e3e7-a2f7-419d-8b71-d892cbbebf46"
      },
      "source": [
        "pd.crosstab(finance_df['Has a Bank account'], finance_df['Level of Educuation']).plot(kind='bar', stacked=True, figsize=(12,10))"
      ],
      "execution_count": null,
      "outputs": [
        {
          "output_type": "execute_result",
          "data": {
            "text/plain": [
              "<matplotlib.axes._subplots.AxesSubplot at 0x7f13187282b0>"
            ]
          },
          "metadata": {
            "tags": []
          },
          "execution_count": 35
        },
        {
          "output_type": "display_data",
          "data": {
            "image/png": "[encoded data removed]",
            "text/plain": [
              "<Figure size 864x720 with 1 Axes>"
            ]
          },
          "metadata": {
            "tags": []
          }
        }
      ]
    },
    {
      "cell_type": "markdown",
      "metadata": {
        "id": "duP1dbue5IuJ"
      },
      "source": [
        "The biggest percentage of individuals with no bank account as well as individuals with a bank account have a primary education."
      ]
    },
    {
      "cell_type": "code",
      "metadata": {
        "id": "ZHWgVnDqzNr4",
        "colab": {
          "base_uri": "https://localhost:8080/",
          "height": 636
        },
        "outputId": "bad8d8c2-d4ce-4b15-b278-b890ca2aba5c"
      },
      "source": [
        "pd.crosstab(finance_df['Has a Bank account'], finance_df['Type of Job']).plot(kind='bar',stacked=True, figsize=(12,10))"
      ],
      "execution_count": null,
      "outputs": [
        {
          "output_type": "execute_result",
          "data": {
            "text/plain": [
              "<matplotlib.axes._subplots.AxesSubplot at 0x7f1318aa2710>"
            ]
          },
          "metadata": {
            "tags": []
          },
          "execution_count": 36
        },
        {
          "output_type": "display_data",
          "data": {
            "image/png": "[encoded data removed]",
            "text/plain": [
              "<Figure size 864x720 with 1 Axes>"
            ]
          },
          "metadata": {
            "tags": []
          }
        }
      ]
    },
    {
      "cell_type": "markdown",
      "metadata": {
        "id": "IJop5tWC6hf9"
      },
      "source": [
        "Majority of individuals with a bank account are either self employed, have a formal private employment or participate in farming and fishing. Largest percentage of individuals with no bank account are self employed, informally employed or practice farming and fishing."
      ]
    },
    {
      "cell_type": "code",
      "metadata": {
        "id": "_M8qbCI56WEA",
        "colab": {
          "base_uri": "https://localhost:8080/",
          "height": 636
        },
        "outputId": "7b2ee908-f3d7-42c7-9a3b-0005c2fe47ee"
      },
      "source": [
        "pd.crosstab(finance_df['Has a Bank account'], finance_df['marital_status']).plot(kind='bar', stacked=True, figsize=(12,10))"
      ],
      "execution_count": null,
      "outputs": [
        {
          "output_type": "execute_result",
          "data": {
            "text/plain": [
              "<matplotlib.axes._subplots.AxesSubplot at 0x7f131864b208>"
            ]
          },
          "metadata": {
            "tags": []
          },
          "execution_count": 37
        },
        {
          "output_type": "display_data",
          "data": {
            "image/png": "[encoded data removed]",
            "text/plain": [
              "<Figure size 864x720 with 1 Axes>"
            ]
          },
          "metadata": {
            "tags": []
          }
        }
      ]
    },
    {
      "cell_type": "markdown",
      "metadata": {
        "id": "NKnOepL08Am9"
      },
      "source": [
        "The largest percentage of individuals with bank accounts and without bank accounts are married/living together."
      ]
    },
    {
      "cell_type": "code",
      "metadata": {
        "id": "Qhn3mvg674sR",
        "colab": {
          "base_uri": "https://localhost:8080/",
          "height": 628
        },
        "outputId": "dfe3c887-e926-4ce8-e03e-ac1489ddbbb1"
      },
      "source": [
        "plt.figure(figsize=(12,10))\n",
        "sns.boxplot(x = 'Has a Bank account', y = 'Respondent Age', data=finance_df,showmeans=True)"
      ],
      "execution_count": null,
      "outputs": [
        {
          "output_type": "execute_result",
          "data": {
            "text/plain": [
              "<matplotlib.axes._subplots.AxesSubplot at 0x7f1318562f28>"
            ]
          },
          "metadata": {
            "tags": []
          },
          "execution_count": 38
        },
        {
          "output_type": "display_data",
          "data": {
            "image/png": "[encoded data removed]",
            "text/plain": [
              "<Figure size 864x720 with 1 Axes>"
            ]
          },
          "metadata": {
            "tags": []
          }
        }
      ]
    },
    {
      "cell_type": "markdown",
      "metadata": {
        "id": "NZLE2gUZ9vsB"
      },
      "source": [
        "The distribution of ages is relatively similar for both categories. However the respondents with no bank accounts have a higher maximum age."
      ]
    },
    {
      "cell_type": "code",
      "metadata": {
        "id": "jbel_ZF69BOS",
        "colab": {
          "base_uri": "https://localhost:8080/",
          "height": 635
        },
        "outputId": "1d8c396a-0d50-4906-8f61-e1b2386c6108"
      },
      "source": [
        "pd.crosstab(finance_df['Has a Bank account'], finance_df['The relathip with head']).plot(kind='bar', stacked=True, figsize=(12,10))"
      ],
      "execution_count": null,
      "outputs": [
        {
          "output_type": "execute_result",
          "data": {
            "text/plain": [
              "<matplotlib.axes._subplots.AxesSubplot at 0x7faec769e358>"
            ]
          },
          "metadata": {
            "tags": []
          },
          "execution_count": 53
        },
        {
          "output_type": "display_data",
          "data": {
            "image/png": "[encoded data removed]",
            "text/plain": [
              "<Figure size 864x720 with 1 Axes>"
            ]
          },
          "metadata": {
            "tags": []
          }
        }
      ]
    },
    {
      "cell_type": "markdown",
      "metadata": {
        "id": "gTea5_Wm-cLK"
      },
      "source": [
        "Majority of respondents with a bank account as well as without a bank account are heads of hoseholds"
      ]
    },
    {
      "cell_type": "code",
      "metadata": {
        "id": "m46oNHHR2kqJ",
        "colab": {
          "base_uri": "https://localhost:8080/",
          "height": 635
        },
        "outputId": "abc5bcc1-b6fd-4151-98f1-f2fa24c7f07c"
      },
      "source": [
        "pd.crosstab(finance_df['Has a Bank account'], finance_df['Cell Phone Access']).plot(kind='bar', stacked=True, figsize=(12,10))"
      ],
      "execution_count": null,
      "outputs": [
        {
          "output_type": "execute_result",
          "data": {
            "text/plain": [
              "<matplotlib.axes._subplots.AxesSubplot at 0x7faec7971ef0>"
            ]
          },
          "metadata": {
            "tags": []
          },
          "execution_count": 54
        },
        {
          "output_type": "display_data",
          "data": {
            "image/png": "[encoded data removed]",
            "text/plain": [
              "<Figure size 864x720 with 1 Axes>"
            ]
          },
          "metadata": {
            "tags": []
          }
        }
      ]
    },
    {
      "cell_type": "markdown",
      "metadata": {
        "id": "DIAaDudN2zbJ"
      },
      "source": [
        "A large percentage (nearly the whole population) of respondents with bank accounts have cell phone access."
      ]
    },
    {
      "cell_type": "code",
      "metadata": {
        "id": "W7qM9V5SBtZW",
        "colab": {
          "base_uri": "https://localhost:8080/",
          "height": 636
        },
        "outputId": "755a674c-e625-4cd8-b392-971da5fee81b"
      },
      "source": [
        "pd.crosstab(finance_df['Has a Bank account'], finance_df['country']).plot(kind='bar', stacked=True, figsize=(12,10))"
      ],
      "execution_count": null,
      "outputs": [
        {
          "output_type": "execute_result",
          "data": {
            "text/plain": [
              "<matplotlib.axes._subplots.AxesSubplot at 0x7f131850d668>"
            ]
          },
          "metadata": {
            "tags": []
          },
          "execution_count": 39
        },
        {
          "output_type": "display_data",
          "data": {
            "image/png": "[encoded data removed]",
            "text/plain": [
              "<Figure size 864x720 with 1 Axes>"
            ]
          },
          "metadata": {
            "tags": []
          }
        }
      ]
    },
    {
      "cell_type": "markdown",
      "metadata": {
        "id": "TSSe9KD9B9Ox"
      },
      "source": [
        "The largest number of respondents with bank accounts are from Kenya, followed by those from Rwanda. Majority of respondents without bank accounts are from Rwanda followed by Tanzania"
      ]
    },
    {
      "cell_type": "markdown",
      "metadata": {
        "id": "fKzMfzDIAf3N"
      },
      "source": [
        "### Multivariate Analysis"
      ]
    },
    {
      "cell_type": "code",
      "metadata": {
        "id": "AvliX7rDlebn",
        "colab": {
          "base_uri": "https://localhost:8080/",
          "height": 1000
        },
        "outputId": "31239ed1-4699-43a7-cb2b-d7c145752bfe"
      },
      "source": [
        "# Investigate relationship between country, level of education and bank account status\n",
        "country_edu = pd.crosstab(index=[finance_df['Has a Bank account'],finance_df['country']], columns=finance_df['Level of Educuation'])\n",
        "\n",
        "country_edu.loc[('No', slice(None)),:].plot(kind='bar', figsize=(12,10))\n",
        "plt.xticks([0,1,2,3], labels=['Kenya','Rwanda','Tanzania','Uganda'], rotation=0)\n",
        "plt.xlabel('Education distribution per country')\n",
        "plt.title('Respondents with no bank accounts')\n",
        "\n",
        "country_edu.loc[('Yes', slice(None)),:].plot(kind='bar', figsize=(12,10))\n",
        "plt.xticks([0,1,2,3], labels=['Kenya','Rwanda','Tanzania','Uganda'], rotation=0)\n",
        "plt.xlabel('Education distribution per country')\n",
        "plt.title('Respondents with bank accounts')"
      ],
      "execution_count": null,
      "outputs": [
        {
          "output_type": "execute_result",
          "data": {
            "text/plain": [
              "Text(0.5, 1.0, 'Respondents with bank accounts')"
            ]
          },
          "metadata": {
            "tags": []
          },
          "execution_count": 40
        },
        {
          "output_type": "display_data",
          "data": {
            "image/png": "[encoded data removed]",
            "text/plain": [
              "<Figure size 864x720 with 1 Axes>"
            ]
          },
          "metadata": {
            "tags": []
          }
        },
        {
          "output_type": "display_data",
          "data": {
            "image/png": "[encoded data removed]",
            "text/plain": [
              "<Figure size 864x720 with 1 Axes>"
            ]
          },
          "metadata": {
            "tags": []
          }
        }
      ]
    },
    {
      "cell_type": "markdown",
      "metadata": {
        "id": "w-Us14l9u3Sl"
      },
      "source": [
        "For each country, the level of education with the highest number of respondents with bank accounts:\n",
        "- Kenya : Secondary Education\n",
        "- Rwanda : Primary education\n",
        "- Tanzania : Primary/Tertiary Education\n",
        "- Uganda : Secondary education\n",
        "\n",
        "In all countries, the level of education with the highest number of respondents with no bank accounts is primary education."
      ]
    },
    {
      "cell_type": "code",
      "metadata": {
        "id": "00TcG-BGw2pd",
        "colab": {
          "base_uri": "https://localhost:8080/",
          "height": 1000
        },
        "outputId": "7d5abf56-80ba-4c98-e546-03399ca4ada7"
      },
      "source": [
        "# Investigate relationship between gender, type of jon and bank account status\n",
        "gender_job = pd.crosstab(index=[finance_df['Has a Bank account'],finance_df['gender_of_respondent']], columns=finance_df['Type of Job'])\n",
        "\n",
        "gender_job.loc[('No', slice(None)),:].plot(kind='bar', figsize=(12,10))\n",
        "plt.xticks([0,1], labels=['Female', 'Male'], rotation=0)\n",
        "plt.xlabel('Job type distribution per gender')\n",
        "plt.title('Respondents with no bank accounts')\n",
        "plt.legend(loc='upper right')\n",
        "\n",
        "gender_job.loc[('Yes', slice(None)),:].plot(kind='bar', figsize=(12,10))\n",
        "plt.xticks([0,1], labels=['Female', 'Male'], rotation=0)\n",
        "plt.xlabel('Job type distribution per gender')\n",
        "plt.title('Respondents with bank accounts')\n",
        "plt.legend(loc='upper right')"
      ],
      "execution_count": null,
      "outputs": [
        {
          "output_type": "execute_result",
          "data": {
            "text/plain": [
              "<matplotlib.legend.Legend at 0x7faec7377fd0>"
            ]
          },
          "metadata": {
            "tags": []
          },
          "execution_count": 57
        },
        {
          "output_type": "display_data",
          "data": {
            "image/png": "[encoded data removed]",
            "text/plain": [
              "<Figure size 864x720 with 1 Axes>"
            ]
          },
          "metadata": {
            "tags": []
          }
        },
        {
          "output_type": "display_data",
          "data": {
            "image/png": "[encoded data removed]",
            "text/plain": [
              "<Figure size 864x720 with 1 Axes>"
            ]
          },
          "metadata": {
            "tags": []
          }
        }
      ]
    },
    {
      "cell_type": "markdown",
      "metadata": {
        "id": "MtQ1GL-jzu-i"
      },
      "source": [
        "For both women and men, the highest propotion of respondents with the following types of jobs have bank accounts:\n",
        "- Self employed\n",
        "- Farming and fishing\n",
        "- Formally employed private\n",
        "- Informally employed"
      ]
    },
    {
      "cell_type": "code",
      "metadata": {
        "id": "3naAnGvfzXS6",
        "colab": {
          "base_uri": "https://localhost:8080/",
          "height": 1000
        },
        "outputId": "8e9c7af8-646d-40c9-bf30-612f908db641"
      },
      "source": [
        "# Investigate relationship between cell access, location and bank account status\n",
        "loc_cell = pd.crosstab(index=[finance_df['Has a Bank account'],finance_df['Type of Location']], columns=finance_df['Cell Phone Access'])\n",
        "\n",
        "loc_cell.loc[('No', slice(None)),:].plot(kind='bar', figsize=(12,10))\n",
        "plt.xticks([0,1], labels=['Rural','Urban'], rotation=0)\n",
        "plt.xlabel('Cell phone access distribution per location')\n",
        "plt.title('Respondents with no bank accounts')\n",
        "plt.legend(loc='upper right')\n",
        "\n",
        "loc_cell.loc[('Yes', slice(None)),:].plot(kind='bar', figsize=(12,10))\n",
        "plt.xticks([0,1], labels=['Rural','Urban'], rotation=0)\n",
        "plt.xlabel('Cell phone access distribution per location')\n",
        "plt.title('Respondents with bank accounts')\n",
        "plt.legend(loc='upper right')"
      ],
      "execution_count": null,
      "outputs": [
        {
          "output_type": "execute_result",
          "data": {
            "text/plain": [
              "<matplotlib.legend.Legend at 0x7f1318344a90>"
            ]
          },
          "metadata": {
            "tags": []
          },
          "execution_count": 41
        },
        {
          "output_type": "display_data",
          "data": {
            "image/png": "[encoded data removed]",
            "text/plain": [
              "<Figure size 864x720 with 1 Axes>"
            ]
          },
          "metadata": {
            "tags": []
          }
        },
        {
          "output_type": "display_data",
          "data": {
            "image/png": "[encoded data removed]",
            "text/plain": [
              "<Figure size 864x720 with 1 Axes>"
            ]
          },
          "metadata": {
            "tags": []
          }
        }
      ]
    },
    {
      "cell_type": "markdown",
      "metadata": {
        "id": "I_guDgYT2H81"
      },
      "source": [
        "Access to a cell phone is relatively the same for individuals with bank accounts regardless on location"
      ]
    },
    {
      "cell_type": "markdown",
      "metadata": {
        "id": "lopJorJ-jlFP"
      },
      "source": [
        "### Linear Discriminant Analysis"
      ]
    },
    {
      "cell_type": "code",
      "metadata": {
        "id": "bSaSdbcg-VS-"
      },
      "source": [
        "# Encode categorical features\n",
        "feature_df = finance_df.drop('Has a Bank account', axis=1)\n",
        "\n",
        "#Convert year variable to object\n",
        "feature_df['year'] = feature_df['year'].astype('object')\n",
        "\n",
        "# Get categorical codes for categorical columns\n",
        "categorical_columns = ['country', 'year', 'Type of Location', 'Cell Phone Access', 'gender_of_respondent', 'The relathip with head', 'marital_status', 'Level of Educuation','Type of Job']\n",
        "\n",
        "for col in categorical_columns:\n",
        "  feature_df[col] = feature_df[col].astype('category').cat.codes"
      ],
      "execution_count": null,
      "outputs": []
    },
    {
      "cell_type": "code",
      "metadata": {
        "id": "4b7-C4aTEp7H",
        "colab": {
          "base_uri": "https://localhost:8080/",
          "height": 275
        },
        "outputId": "2a821360-ebb2-4e44-ee38-e9d1d971e399"
      },
      "source": [
        "feature_df.head()"
      ],
      "execution_count": null,
      "outputs": [
        {
          "output_type": "execute_result",
          "data": {
            "text/html": [
              "<div>\n",
              "<style scoped>\n",
              "    .dataframe tbody tr th:only-of-type {\n",
              "        vertical-align: middle;\n",
              "    }\n",
              "\n",
              "    .dataframe tbody tr th {\n",
              "        vertical-align: top;\n",
              "    }\n",
              "\n",
              "    .dataframe thead th {\n",
              "        text-align: right;\n",
              "    }\n",
              "</style>\n",
              "<table border=\"1\" class=\"dataframe\">\n",
              "  <thead>\n",
              "    <tr style=\"text-align: right;\">\n",
              "      <th></th>\n",
              "      <th>country</th>\n",
              "      <th>year</th>\n",
              "      <th>Type of Location</th>\n",
              "      <th>Cell Phone Access</th>\n",
              "      <th>household_size</th>\n",
              "      <th>Respondent Age</th>\n",
              "      <th>gender_of_respondent</th>\n",
              "      <th>The relathip with head</th>\n",
              "      <th>marital_status</th>\n",
              "      <th>Level of Educuation</th>\n",
              "      <th>Type of Job</th>\n",
              "    </tr>\n",
              "  </thead>\n",
              "  <tbody>\n",
              "    <tr>\n",
              "      <th>0</th>\n",
              "      <td>0</td>\n",
              "      <td>2</td>\n",
              "      <td>0</td>\n",
              "      <td>1</td>\n",
              "      <td>3.0</td>\n",
              "      <td>24.0</td>\n",
              "      <td>0</td>\n",
              "      <td>5</td>\n",
              "      <td>1</td>\n",
              "      <td>2</td>\n",
              "      <td>8</td>\n",
              "    </tr>\n",
              "    <tr>\n",
              "      <th>1</th>\n",
              "      <td>0</td>\n",
              "      <td>2</td>\n",
              "      <td>0</td>\n",
              "      <td>0</td>\n",
              "      <td>5.0</td>\n",
              "      <td>70.0</td>\n",
              "      <td>0</td>\n",
              "      <td>1</td>\n",
              "      <td>3</td>\n",
              "      <td>0</td>\n",
              "      <td>3</td>\n",
              "    </tr>\n",
              "    <tr>\n",
              "      <th>2</th>\n",
              "      <td>0</td>\n",
              "      <td>2</td>\n",
              "      <td>1</td>\n",
              "      <td>1</td>\n",
              "      <td>5.0</td>\n",
              "      <td>26.0</td>\n",
              "      <td>1</td>\n",
              "      <td>3</td>\n",
              "      <td>2</td>\n",
              "      <td>4</td>\n",
              "      <td>8</td>\n",
              "    </tr>\n",
              "    <tr>\n",
              "      <th>3</th>\n",
              "      <td>0</td>\n",
              "      <td>2</td>\n",
              "      <td>0</td>\n",
              "      <td>1</td>\n",
              "      <td>5.0</td>\n",
              "      <td>34.0</td>\n",
              "      <td>0</td>\n",
              "      <td>1</td>\n",
              "      <td>1</td>\n",
              "      <td>1</td>\n",
              "      <td>2</td>\n",
              "    </tr>\n",
              "    <tr>\n",
              "      <th>4</th>\n",
              "      <td>0</td>\n",
              "      <td>2</td>\n",
              "      <td>1</td>\n",
              "      <td>0</td>\n",
              "      <td>8.0</td>\n",
              "      <td>26.0</td>\n",
              "      <td>1</td>\n",
              "      <td>0</td>\n",
              "      <td>2</td>\n",
              "      <td>1</td>\n",
              "      <td>4</td>\n",
              "    </tr>\n",
              "  </tbody>\n",
              "</table>\n",
              "</div>"
            ],
            "text/plain": [
              "   country  year  ...  Level of Educuation  Type of Job\n",
              "0        0     2  ...                    2            8\n",
              "1        0     2  ...                    0            3\n",
              "2        0     2  ...                    4            8\n",
              "3        0     2  ...                    1            2\n",
              "4        0     2  ...                    1            4\n",
              "\n",
              "[5 rows x 11 columns]"
            ]
          },
          "metadata": {
            "tags": []
          },
          "execution_count": 43
        }
      ]
    },
    {
      "cell_type": "code",
      "metadata": {
        "id": "WnGf02ExLoA1",
        "colab": {
          "base_uri": "https://localhost:8080/",
          "height": 204
        },
        "outputId": "56291ff2-4007-493a-990d-c899572351e2"
      },
      "source": [
        "from sklearn.preprocessing import LabelBinarizer\n",
        "Y = finance_df['Has a Bank account']\n",
        "print(Y.head())\n",
        "Y = LabelBinarizer().fit_transform(Y)\n",
        "print(Y[:5])"
      ],
      "execution_count": null,
      "outputs": [
        {
          "output_type": "stream",
          "text": [
            "0    Yes\n",
            "1     No\n",
            "2    Yes\n",
            "3     No\n",
            "4     No\n",
            "Name: Has a Bank account, dtype: object\n",
            "[[1]\n",
            " [0]\n",
            " [1]\n",
            " [0]\n",
            " [0]]\n"
          ],
          "name": "stdout"
        }
      ]
    },
    {
      "cell_type": "code",
      "metadata": {
        "id": "Iw4KlFv8EYhH"
      },
      "source": [
        "# Split data into test and train sets, set test set to 30% of total data\n",
        "x_train, x_test, y_train, y_test = train_test_split(feature_df, Y, test_size=.3, random_state=42, stratify=Y)"
      ],
      "execution_count": null,
      "outputs": []
    },
    {
      "cell_type": "code",
      "metadata": {
        "id": "Y7_yt3zQ0i22",
        "colab": {
          "base_uri": "https://localhost:8080/",
          "height": 34
        },
        "outputId": "519d98da-9151-4e7c-f151-89e16fe2de53"
      },
      "source": [
        "# Perform linear discrimant analysis to separate two classes\n",
        "lda = LinearDiscriminantAnalysis(n_components=2)\n",
        "lda.fit(x_train, y_train)\n",
        "# Determine explained variance ratio\n",
        "lda.explained_variance_ratio_"
      ],
      "execution_count": null,
      "outputs": [
        {
          "output_type": "execute_result",
          "data": {
            "text/plain": [
              "array([1.])"
            ]
          },
          "metadata": {
            "tags": []
          },
          "execution_count": 46
        }
      ]
    },
    {
      "cell_type": "code",
      "metadata": {
        "id": "nFM6xYG_0jM0",
        "colab": {
          "base_uri": "https://localhost:8080/",
          "height": 170
        },
        "outputId": "29ac1859-4073-47fa-c671-d13fa6b01be0"
      },
      "source": [
        "# Test accuracy of lda classifier\n",
        "lda_pred = lda.predict(x_test)\n",
        "print(classification_report(y_test,lda_pred))"
      ],
      "execution_count": null,
      "outputs": [
        {
          "output_type": "stream",
          "text": [
            "              precision    recall  f1-score   support\n",
            "\n",
            "           0       0.90      0.97      0.93      5971\n",
            "           1       0.64      0.31      0.42       981\n",
            "\n",
            "    accuracy                           0.88      6952\n",
            "   macro avg       0.77      0.64      0.68      6952\n",
            "weighted avg       0.86      0.88      0.86      6952\n",
            "\n"
          ],
          "name": "stdout"
        }
      ]
    },
    {
      "cell_type": "code",
      "metadata": {
        "id": "ar43xsAz0jXZ",
        "colab": {
          "base_uri": "https://localhost:8080/",
          "height": 111
        },
        "outputId": "266a3e02-97e5-466f-9aef-87ebf47c3dca"
      },
      "source": [
        "# Get confusion matrix\n",
        "pd.DataFrame(data=confusion_matrix(y_test,lda_pred), index=[0,1], columns=[0,1])"
      ],
      "execution_count": null,
      "outputs": [
        {
          "output_type": "execute_result",
          "data": {
            "text/html": [
              "<div>\n",
              "<style scoped>\n",
              "    .dataframe tbody tr th:only-of-type {\n",
              "        vertical-align: middle;\n",
              "    }\n",
              "\n",
              "    .dataframe tbody tr th {\n",
              "        vertical-align: top;\n",
              "    }\n",
              "\n",
              "    .dataframe thead th {\n",
              "        text-align: right;\n",
              "    }\n",
              "</style>\n",
              "<table border=\"1\" class=\"dataframe\">\n",
              "  <thead>\n",
              "    <tr style=\"text-align: right;\">\n",
              "      <th></th>\n",
              "      <th>0</th>\n",
              "      <th>1</th>\n",
              "    </tr>\n",
              "  </thead>\n",
              "  <tbody>\n",
              "    <tr>\n",
              "      <th>0</th>\n",
              "      <td>5797</td>\n",
              "      <td>174</td>\n",
              "    </tr>\n",
              "    <tr>\n",
              "      <th>1</th>\n",
              "      <td>674</td>\n",
              "      <td>307</td>\n",
              "    </tr>\n",
              "  </tbody>\n",
              "</table>\n",
              "</div>"
            ],
            "text/plain": [
              "      0    1\n",
              "0  5797  174\n",
              "1   674  307"
            ]
          },
          "metadata": {
            "tags": []
          },
          "execution_count": 48
        }
      ]
    },
    {
      "cell_type": "markdown",
      "metadata": {
        "id": "QQdyHbbG30po"
      },
      "source": [
        "The LDA classifier has a 88% accuracy, however owing to imbalance in the target variable is relatively poor with a high number of false negatives."
      ]
    },
    {
      "cell_type": "markdown",
      "metadata": {
        "id": "u5gBystW4dS1"
      },
      "source": [
        "### Data Modelling\n",
        "\n"
      ]
    },
    {
      "cell_type": "code",
      "metadata": {
        "id": "XJkNRwrn0jUS",
        "colab": {
          "base_uri": "https://localhost:8080/",
          "height": 51
        },
        "outputId": "75edc4bc-91a7-409b-e2b8-4ef4eabd18f8"
      },
      "source": [
        "'''\n",
        "As demonstrated by the lda classifier, imbalance in the target variable greatly affects model performance,\n",
        "to handle this, downsample the majority class.\n",
        "'''\n",
        "from sklearn.utils import resample\n",
        "\n",
        "max_class = finance_df[finance_df['Has a Bank account'] == 'No']\n",
        "min_class = finance_df[finance_df['Has a Bank account'] == 'Yes']\n",
        "\n",
        "# Get number of respondents without bank accounts\n",
        "min_class['Has a Bank account'].value_counts()\n"
      ],
      "execution_count": null,
      "outputs": [
        {
          "output_type": "execute_result",
          "data": {
            "text/plain": [
              "Yes    3269\n",
              "Name: Has a Bank account, dtype: int64"
            ]
          },
          "metadata": {
            "tags": []
          },
          "execution_count": 49
        }
      ]
    },
    {
      "cell_type": "code",
      "metadata": {
        "id": "cdJI7rjP0jJV"
      },
      "source": [
        "# Downsample majority class\n",
        "max_class_downsampled = resample(max_class, replace=False, n_samples= 3269, random_state=24) "
      ],
      "execution_count": null,
      "outputs": []
    },
    {
      "cell_type": "code",
      "metadata": {
        "id": "B0ThzyboPLhd",
        "colab": {
          "base_uri": "https://localhost:8080/",
          "height": 68
        },
        "outputId": "52fff8b3-9f31-4918-c2bc-99e0aecdb126"
      },
      "source": [
        "# Concatenate the two dataframes\n",
        "model_data = pd.concat([min_class, max_class_downsampled])\n",
        "model_data['Has a Bank account'].value_counts()"
      ],
      "execution_count": null,
      "outputs": [
        {
          "output_type": "execute_result",
          "data": {
            "text/plain": [
              "No     3269\n",
              "Yes    3269\n",
              "Name: Has a Bank account, dtype: int64"
            ]
          },
          "metadata": {
            "tags": []
          },
          "execution_count": 51
        }
      ]
    },
    {
      "cell_type": "markdown",
      "metadata": {
        "id": "fKBnI_U9PMKh"
      },
      "source": [
        "#### Logistic Regression model"
      ]
    },
    {
      "cell_type": "code",
      "metadata": {
        "id": "gF5ivquUGRSo"
      },
      "source": [
        "# Get features and target variable\n",
        "X = model_data.drop('Has a Bank account', axis=1)\n",
        "\n",
        "# Get categorical codes for categorical columns\n",
        "categorical_columns = ['country', 'year', 'Type of Location', 'Cell Phone Access', 'gender_of_respondent', 'The relathip with head', 'marital_status', 'Level of Educuation','Type of Job']\n",
        "\n",
        "for col in categorical_columns:\n",
        "  X[col] = X[col].astype('category').cat.codes"
      ],
      "execution_count": null,
      "outputs": []
    },
    {
      "cell_type": "code",
      "metadata": {
        "id": "KMU6uG0zGRkX"
      },
      "source": [
        "y = model_data['Has a Bank account'].map({'No':0, 'Yes': 1})"
      ],
      "execution_count": null,
      "outputs": []
    },
    {
      "cell_type": "code",
      "metadata": {
        "id": "6wnnAVQvGRs9"
      },
      "source": [
        "# Split data into test and train sets, set test set to 30% of total data\n",
        "x_train, x_test, y_train, y_test = train_test_split(X, y, test_size=.2, random_state=42, stratify=y)"
      ],
      "execution_count": null,
      "outputs": []
    },
    {
      "cell_type": "code",
      "metadata": {
        "id": "uDX7Bli6Htzr"
      },
      "source": [
        "# Scale features\n",
        "scaler = StandardScaler().fit(x_train)\n",
        "scaled_train = scaler.transform(x_train)\n",
        "scaled_test = scaler.transform(x_test)"
      ],
      "execution_count": null,
      "outputs": []
    },
    {
      "cell_type": "code",
      "metadata": {
        "id": "gb5ebpNtGR7P",
        "colab": {
          "base_uri": "https://localhost:8080/",
          "height": 255
        },
        "outputId": "cdbdab6d-2e42-4b88-8c1f-6a377716d26d"
      },
      "source": [
        "# training logistic regression model\n",
        "lm = LogisticRegression()\n",
        "params = {'C': [0.001, 0.01, 0.05, 0.1, 0.3, 1.0],\n",
        "          'solver': ['liblinear', 'sag', 'saga']}\n",
        "clf_lm = GridSearchCV(estimator=lm, param_grid=params, cv=5)\n",
        "clf_lm.fit(scaled_train, y_train)"
      ],
      "execution_count": null,
      "outputs": [
        {
          "output_type": "execute_result",
          "data": {
            "text/plain": [
              "GridSearchCV(cv=5, error_score=nan,\n",
              "             estimator=LogisticRegression(C=1.0, class_weight=None, dual=False,\n",
              "                                          fit_intercept=True,\n",
              "                                          intercept_scaling=1, l1_ratio=None,\n",
              "                                          max_iter=100, multi_class='auto',\n",
              "                                          n_jobs=None, penalty='l2',\n",
              "                                          random_state=None, solver='lbfgs',\n",
              "                                          tol=0.0001, verbose=0,\n",
              "                                          warm_start=False),\n",
              "             iid='deprecated', n_jobs=None,\n",
              "             param_grid={'C': [0.001, 0.01, 0.05, 0.1, 0.3, 1.0],\n",
              "                         'solver': ['liblinear', 'sag', 'saga']},\n",
              "             pre_dispatch='2*n_jobs', refit=True, return_train_score=False,\n",
              "             scoring=None, verbose=0)"
            ]
          },
          "metadata": {
            "tags": []
          },
          "execution_count": 66
        }
      ]
    },
    {
      "cell_type": "code",
      "metadata": {
        "id": "z7mHgZUbPz0N",
        "colab": {
          "base_uri": "https://localhost:8080/",
          "height": 34
        },
        "outputId": "dfc8e584-dce6-4539-cfc3-e1e159ab1e0e"
      },
      "source": [
        "# Get the best score and parameters\n",
        "print(clf_lm.best_params_)"
      ],
      "execution_count": null,
      "outputs": [
        {
          "output_type": "stream",
          "text": [
            "{'C': 0.01, 'solver': 'sag'}\n"
          ],
          "name": "stdout"
        }
      ]
    },
    {
      "cell_type": "code",
      "metadata": {
        "id": "O4301zalGSB4"
      },
      "source": [
        "y_pred = clf_lm.predict(scaled_test)"
      ],
      "execution_count": null,
      "outputs": []
    },
    {
      "cell_type": "code",
      "metadata": {
        "id": "xJzGZiT_GSNm",
        "colab": {
          "base_uri": "https://localhost:8080/",
          "height": 170
        },
        "outputId": "d9320ede-e0f6-426d-a75f-086754753bce"
      },
      "source": [
        "# Print classification report\n",
        "print(classification_report(y_test, y_pred))"
      ],
      "execution_count": null,
      "outputs": [
        {
          "output_type": "stream",
          "text": [
            "              precision    recall  f1-score   support\n",
            "\n",
            "           0       0.72      0.76      0.74       654\n",
            "           1       0.74      0.71      0.73       654\n",
            "\n",
            "    accuracy                           0.73      1308\n",
            "   macro avg       0.73      0.73      0.73      1308\n",
            "weighted avg       0.73      0.73      0.73      1308\n",
            "\n"
          ],
          "name": "stdout"
        }
      ]
    },
    {
      "cell_type": "code",
      "metadata": {
        "id": "eDzUgMjoGR5s",
        "colab": {
          "base_uri": "https://localhost:8080/",
          "height": 51
        },
        "outputId": "a6fefad4-6ff2-4333-8a00-9e71166b7a87"
      },
      "source": [
        "# Get confusion matrix\n",
        "confusion_matrix(y_test, y_pred)"
      ],
      "execution_count": null,
      "outputs": [
        {
          "output_type": "execute_result",
          "data": {
            "text/plain": [
              "array([[494, 160],\n",
              "       [190, 464]])"
            ]
          },
          "metadata": {
            "tags": []
          },
          "execution_count": 70
        }
      ]
    },
    {
      "cell_type": "markdown",
      "metadata": {
        "id": "-fWi4I2vKoZE"
      },
      "source": [
        "The model has a better performance in predicting respondents with bank accounts than the lda classifier with imbalanced data. However model accuracy is still relatively low."
      ]
    },
    {
      "cell_type": "code",
      "metadata": {
        "id": "S7tzQKAqGRiq"
      },
      "source": [
        "# Test model on lda reduced data\n",
        "lda = LinearDiscriminantAnalysis(n_components=2).fit(x_train, y_train)\n",
        "lda_train = lda.transform(x_train)\n",
        "lda_test = lda.transform(x_test)"
      ],
      "execution_count": null,
      "outputs": []
    },
    {
      "cell_type": "code",
      "metadata": {
        "id": "q6IHx5xr0jGE",
        "colab": {
          "base_uri": "https://localhost:8080/",
          "height": 255
        },
        "outputId": "12c2ffba-604a-4f01-be2a-ed99d0498038"
      },
      "source": [
        "# training logistic regression model\n",
        "lm = LogisticRegression()\n",
        "params = {'C': [0.001, 0.01, 0.05, 0.1, 0.3, 1.0],\n",
        "          'solver': ['liblinear', 'sag', 'saga']}\n",
        "clf_lm = GridSearchCV(estimator=lm, param_grid=params, cv=5)\n",
        "clf_lm.fit(lda_train, y_train)"
      ],
      "execution_count": null,
      "outputs": [
        {
          "output_type": "execute_result",
          "data": {
            "text/plain": [
              "GridSearchCV(cv=5, error_score=nan,\n",
              "             estimator=LogisticRegression(C=1.0, class_weight=None, dual=False,\n",
              "                                          fit_intercept=True,\n",
              "                                          intercept_scaling=1, l1_ratio=None,\n",
              "                                          max_iter=100, multi_class='auto',\n",
              "                                          n_jobs=None, penalty='l2',\n",
              "                                          random_state=None, solver='lbfgs',\n",
              "                                          tol=0.0001, verbose=0,\n",
              "                                          warm_start=False),\n",
              "             iid='deprecated', n_jobs=None,\n",
              "             param_grid={'C': [0.001, 0.01, 0.05, 0.1, 0.3, 1.0],\n",
              "                         'solver': ['liblinear', 'sag', 'saga']},\n",
              "             pre_dispatch='2*n_jobs', refit=True, return_train_score=False,\n",
              "             scoring=None, verbose=0)"
            ]
          },
          "metadata": {
            "tags": []
          },
          "execution_count": 72
        }
      ]
    },
    {
      "cell_type": "code",
      "metadata": {
        "id": "r66EMX3mQFvY",
        "colab": {
          "base_uri": "https://localhost:8080/",
          "height": 51
        },
        "outputId": "993eb714-e33a-4b4f-8ce8-f69f5e73b2e4"
      },
      "source": [
        "# Get the best score and parameters\n",
        "print(clf_lm.best_params_)\n",
        "print(clf_lm.best_score_)"
      ],
      "execution_count": null,
      "outputs": [
        {
          "output_type": "stream",
          "text": [
            "{'C': 0.001, 'solver': 'sag'}\n",
            "0.7596558317399618\n"
          ],
          "name": "stdout"
        }
      ]
    },
    {
      "cell_type": "code",
      "metadata": {
        "id": "reSAeRrWQYD5",
        "colab": {
          "base_uri": "https://localhost:8080/",
          "height": 34
        },
        "outputId": "da9014fa-6e6e-4c90-d701-13ec918a85a1"
      },
      "source": [
        "# Get the accuracy score\n",
        "y_pred = clf_lm.predict(lda_test)\n",
        "accuracy_score(y_test, y_pred)"
      ],
      "execution_count": null,
      "outputs": [
        {
          "output_type": "execute_result",
          "data": {
            "text/plain": [
              "0.731651376146789"
            ]
          },
          "metadata": {
            "tags": []
          },
          "execution_count": 74
        }
      ]
    },
    {
      "cell_type": "markdown",
      "metadata": {
        "id": "Yuy_IEU-MJrX"
      },
      "source": [
        "Performance is similar to that of the scaled data"
      ]
    },
    {
      "cell_type": "markdown",
      "metadata": {
        "id": "NbU7KZ9zMSb4"
      },
      "source": [
        "#### Random Forest Model"
      ]
    },
    {
      "cell_type": "code",
      "metadata": {
        "id": "L0I4dKFsMXyb",
        "colab": {
          "base_uri": "https://localhost:8080/",
          "height": 111
        },
        "outputId": "9507bfb5-270a-450c-f0d9-231ab17f3053"
      },
      "source": [
        "# Intialize and fit random forest model with base parameters\n",
        "random_classifier = RandomForestClassifier()\n",
        "random_classifier.fit(scaled_train, y_train)\n",
        "# Make predictions\n",
        "y_pred = random_classifier.predict(scaled_test)\n",
        "\n",
        "# Plot confusion matrix\n",
        "matrix = pd.DataFrame(confusion_matrix(y_test, y_pred), index=[0,1], columns=[0,1])\n",
        "matrix"
      ],
      "execution_count": null,
      "outputs": [
        {
          "output_type": "execute_result",
          "data": {
            "text/html": [
              "<div>\n",
              "<style scoped>\n",
              "    .dataframe tbody tr th:only-of-type {\n",
              "        vertical-align: middle;\n",
              "    }\n",
              "\n",
              "    .dataframe tbody tr th {\n",
              "        vertical-align: top;\n",
              "    }\n",
              "\n",
              "    .dataframe thead th {\n",
              "        text-align: right;\n",
              "    }\n",
              "</style>\n",
              "<table border=\"1\" class=\"dataframe\">\n",
              "  <thead>\n",
              "    <tr style=\"text-align: right;\">\n",
              "      <th></th>\n",
              "      <th>0</th>\n",
              "      <th>1</th>\n",
              "    </tr>\n",
              "  </thead>\n",
              "  <tbody>\n",
              "    <tr>\n",
              "      <th>0</th>\n",
              "      <td>491</td>\n",
              "      <td>163</td>\n",
              "    </tr>\n",
              "    <tr>\n",
              "      <th>1</th>\n",
              "      <td>175</td>\n",
              "      <td>479</td>\n",
              "    </tr>\n",
              "  </tbody>\n",
              "</table>\n",
              "</div>"
            ],
            "text/plain": [
              "     0    1\n",
              "0  491  163\n",
              "1  175  479"
            ]
          },
          "metadata": {
            "tags": []
          },
          "execution_count": 75
        }
      ]
    },
    {
      "cell_type": "code",
      "metadata": {
        "id": "ls6_IbaMMX_2",
        "colab": {
          "base_uri": "https://localhost:8080/",
          "height": 170
        },
        "outputId": "b17f5b0c-f95c-4651-8092-aa42b533ae02"
      },
      "source": [
        "# Get the classification report\n",
        "print(classification_report(y_test, y_pred))"
      ],
      "execution_count": null,
      "outputs": [
        {
          "output_type": "stream",
          "text": [
            "              precision    recall  f1-score   support\n",
            "\n",
            "           0       0.74      0.75      0.74       654\n",
            "           1       0.75      0.73      0.74       654\n",
            "\n",
            "    accuracy                           0.74      1308\n",
            "   macro avg       0.74      0.74      0.74      1308\n",
            "weighted avg       0.74      0.74      0.74      1308\n",
            "\n"
          ],
          "name": "stdout"
        }
      ]
    },
    {
      "cell_type": "code",
      "metadata": {
        "id": "Q67lpesaQm0y"
      },
      "source": [
        "# Train random forest model on imbalanced data\n",
        "x_train, x_test, y_train, y_test = train_test_split(feature_df, Y, test_size=.2, stratify=Y)\n",
        "\n",
        "# Intiliaze model\n",
        "imbalanced_rand = RandomForestClassifier()"
      ],
      "execution_count": null,
      "outputs": []
    },
    {
      "cell_type": "code",
      "metadata": {
        "id": "V6Q5JPAGMYPy",
        "colab": {
          "base_uri": "https://localhost:8080/",
          "height": 153
        },
        "outputId": "2f7d4352-dc78-45f7-a1cf-f51dd6ded7b7"
      },
      "source": [
        "# Fit model\n",
        "imbalanced_rand.fit(x_train, y_train)"
      ],
      "execution_count": null,
      "outputs": [
        {
          "output_type": "execute_result",
          "data": {
            "text/plain": [
              "RandomForestClassifier(bootstrap=True, ccp_alpha=0.0, class_weight=None,\n",
              "                       criterion='gini', max_depth=None, max_features='auto',\n",
              "                       max_leaf_nodes=None, max_samples=None,\n",
              "                       min_impurity_decrease=0.0, min_impurity_split=None,\n",
              "                       min_samples_leaf=1, min_samples_split=2,\n",
              "                       min_weight_fraction_leaf=0.0, n_estimators=100,\n",
              "                       n_jobs=None, oob_score=False, random_state=None,\n",
              "                       verbose=0, warm_start=False)"
            ]
          },
          "metadata": {
            "tags": []
          },
          "execution_count": 78
        }
      ]
    },
    {
      "cell_type": "code",
      "metadata": {
        "id": "bX0B-uz6MYIf",
        "colab": {
          "base_uri": "https://localhost:8080/",
          "height": 170
        },
        "outputId": "1677b45e-6029-4ff6-b420-c8054d685e8b"
      },
      "source": [
        "y_pred = imbalanced_rand.predict(x_test)\n",
        "print(classification_report(y_test, y_pred))"
      ],
      "execution_count": null,
      "outputs": [
        {
          "output_type": "stream",
          "text": [
            "              precision    recall  f1-score   support\n",
            "\n",
            "           0       0.90      0.95      0.92      3981\n",
            "           1       0.53      0.36      0.43       654\n",
            "\n",
            "    accuracy                           0.86      4635\n",
            "   macro avg       0.71      0.65      0.68      4635\n",
            "weighted avg       0.85      0.86      0.85      4635\n",
            "\n"
          ],
          "name": "stdout"
        }
      ]
    },
    {
      "cell_type": "code",
      "metadata": {
        "id": "Pu3PCvk8WsLO",
        "colab": {
          "base_uri": "https://localhost:8080/",
          "height": 51
        },
        "outputId": "0bd4ac51-c1c8-4e9f-e00f-c7ccd2b25e51"
      },
      "source": [
        "# Get confusion matrix\n",
        "confusion_matrix(y_test, y_pred)"
      ],
      "execution_count": null,
      "outputs": [
        {
          "output_type": "execute_result",
          "data": {
            "text/plain": [
              "array([[3772,  209],\n",
              "       [ 419,  235]])"
            ]
          },
          "metadata": {
            "tags": []
          },
          "execution_count": 80
        }
      ]
    },
    {
      "cell_type": "code",
      "metadata": {
        "id": "FU8b33QpQZ22",
        "colab": {
          "base_uri": "https://localhost:8080/",
          "height": 34
        },
        "outputId": "e266c61e-135d-4293-8559-f4718184a841"
      },
      "source": [
        "# Get probabilities for positive outcomes\n",
        "y_prob = imbalanced_rand.predict_proba(x_test)[:, 1]\n",
        "\n",
        "# Get auc score\n",
        "print(f'ROC AUC Score: {roc_auc_score(y_test, y_prob)}')"
      ],
      "execution_count": null,
      "outputs": [
        {
          "output_type": "stream",
          "text": [
            "ROC AUC Score: 0.8131410899018041\n"
          ],
          "name": "stdout"
        }
      ]
    },
    {
      "cell_type": "markdown",
      "metadata": {
        "id": "cv7XEowTWA6O"
      },
      "source": [
        "There is improved performance, however the number of false negatives is quite high in comparison to the true positives."
      ]
    },
    {
      "cell_type": "code",
      "metadata": {
        "id": "wNSKFYZyQaIg"
      },
      "source": [
        "# Upsample minority class\n",
        "min_class_upsampled = resample(min_class, replace=True, n_samples= 13076, random_state=0) "
      ],
      "execution_count": null,
      "outputs": []
    },
    {
      "cell_type": "code",
      "metadata": {
        "id": "dwZznWlhQaS9"
      },
      "source": [
        "upsampled_data = pd.concat([max_class, min_class_upsampled])"
      ],
      "execution_count": null,
      "outputs": []
    },
    {
      "cell_type": "code",
      "metadata": {
        "id": "m97Zq6O4QaZd"
      },
      "source": [
        "# Get features and target variable\n",
        "X = upsampled_data.drop('Has a Bank account', axis=1)\n",
        "\n",
        "# Get categorical codes for categorical columns\n",
        "categorical_columns = ['country', 'year', 'Type of Location', 'Cell Phone Access', 'gender_of_respondent', 'The relathip with head', 'marital_status', 'Level of Educuation','Type of Job']\n",
        "\n",
        "for col in categorical_columns:\n",
        "  X[col] = X[col].astype('category').cat.codes\n",
        "\n",
        "y = upsampled_data['Has a Bank account'].map({'No':0, 'Yes': 1})"
      ],
      "execution_count": null,
      "outputs": []
    },
    {
      "cell_type": "code",
      "metadata": {
        "id": "FHm8T80EQamo",
        "colab": {
          "base_uri": "https://localhost:8080/",
          "height": 170
        },
        "outputId": "ba85e5db-6158-40a9-f020-112fa74d5768"
      },
      "source": [
        "# Split data\n",
        "x_train, x_test, y_train, y_test = train_test_split(X, y, test_size=.2, stratify=y)\n",
        "\n",
        "# Train model on upsampled data\n",
        "upsampled_rand = RandomForestClassifier().fit(x_train, y_train)\n",
        "\n",
        "# Make predictions\n",
        "y_pred = upsampled_rand.predict(x_test)\n",
        "print(classification_report(y_test, y_pred))"
      ],
      "execution_count": null,
      "outputs": [
        {
          "output_type": "stream",
          "text": [
            "              precision    recall  f1-score   support\n",
            "\n",
            "           0       0.96      0.90      0.93      3981\n",
            "           1       0.86      0.95      0.90      2615\n",
            "\n",
            "    accuracy                           0.92      6596\n",
            "   macro avg       0.91      0.92      0.92      6596\n",
            "weighted avg       0.92      0.92      0.92      6596\n",
            "\n"
          ],
          "name": "stdout"
        }
      ]
    },
    {
      "cell_type": "code",
      "metadata": {
        "id": "M53Q1oyEzyTk",
        "colab": {
          "base_uri": "https://localhost:8080/",
          "height": 34
        },
        "outputId": "faec484c-bf4e-4e0f-ebaf-cfa936898b01"
      },
      "source": [
        "# Get probabilities for positive outcomes\n",
        "y_prob = upsampled_rand.predict_proba(x_test)[:, 1]\n",
        "\n",
        "# Get auc score\n",
        "print(f'ROC AUC Score: {roc_auc_score(y_test, y_prob)}')"
      ],
      "execution_count": null,
      "outputs": [
        {
          "output_type": "stream",
          "text": [
            "ROC AUC Score: 0.9712170573128672\n"
          ],
          "name": "stdout"
        }
      ]
    },
    {
      "cell_type": "code",
      "metadata": {
        "id": "H57p1H45T1sS",
        "colab": {
          "base_uri": "https://localhost:8080/",
          "height": 627
        },
        "outputId": "c54946e9-e6a9-4e7c-bb50-18a316a8f870"
      },
      "source": [
        "# Rank feature importance\n",
        "importances = [round(x, 3) for x in upsampled_rand.feature_importances_]\n",
        "plt.figure(figsize=(12, 10))\n",
        "plt.barh(X.columns.to_list(), importances)\n",
        "plt.title('Feature Importances')"
      ],
      "execution_count": null,
      "outputs": [
        {
          "output_type": "execute_result",
          "data": {
            "text/plain": [
              "Text(0.5, 1.0, 'Feature Importances')"
            ]
          },
          "metadata": {
            "tags": []
          },
          "execution_count": 87
        },
        {
          "output_type": "display_data",
          "data": {
            "image/png": "[encoded data removed]",
            "text/plain": [
              "<Figure size 864x720 with 1 Axes>"
            ]
          },
          "metadata": {
            "tags": []
          }
        }
      ]
    },
    {
      "cell_type": "markdown",
      "metadata": {
        "id": "5XaW_cCHfR8N"
      },
      "source": [
        "Improved model performance on upsampled minority data. Also based on feature ranking by the random forest classifier, the most important features are:\n",
        "1. Respondent Age\n",
        "2. Level of education\n",
        "3. Household size\n",
        "4. Type of job\n",
        "5. Cell phone access"
      ]
    },
    {
      "cell_type": "code",
      "metadata": {
        "id": "1RRRHqYe0FHo",
        "colab": {
          "background_save": true
        },
        "outputId": "9df32bba-a3a3-410f-de9b-4624feba5b01"
      },
      "source": [
        "# Define parameter grid for parameter tuning\n",
        "param_grid_rand = {\n",
        "    'max_depth': np.arange(80, 200, 10),\n",
        "    'min_samples_leaf': [2,3],\n",
        "    'n_estimators': [100, 200, 300, 500, 800]\n",
        "}\n",
        "\n",
        "# Perform cross validation\n",
        "grid_search_rand = GridSearchCV(estimator = RandomForestClassifier(), param_grid = param_grid_rand, cv = 3, n_jobs = -1, verbose = 0, scoring='roc_auc')\n",
        "\n",
        "# Get best parameters\n",
        "grid_search_rand.fit(x_train, y_train)\n",
        "grid_search_rand.best_params_"
      ],
      "execution_count": null,
      "outputs": [
        {
          "output_type": "execute_result",
          "data": {
            "text/plain": [
              "{'max_depth': 100, 'min_samples_leaf': 2, 'n_estimators': 800}"
            ]
          },
          "metadata": {
            "tags": []
          },
          "execution_count": 0
        }
      ]
    },
    {
      "cell_type": "code",
      "metadata": {
        "id": "5bQf5nZP0bEt",
        "colab": {
          "base_uri": "https://localhost:8080/",
          "height": 34
        },
        "outputId": "f57e152c-40d5-4444-997a-dd8e46c973d9"
      },
      "source": [
        "# Get best score with tuning\n",
        "grid_search_rand.best_score_"
      ],
      "execution_count": null,
      "outputs": [
        {
          "output_type": "execute_result",
          "data": {
            "text/plain": [
              "0.9391957487038401"
            ]
          },
          "metadata": {
            "tags": []
          },
          "execution_count": 101
        }
      ]
    },
    {
      "cell_type": "code",
      "metadata": {
        "id": "duA-V-vMTI0s",
        "colab": {
          "base_uri": "https://localhost:8080/",
          "height": 34
        },
        "outputId": "dcf4537f-d999-4345-9e80-84c53b3f4685"
      },
      "source": [
        "print(accuracy_score(y_test, grid_search_rand.predict(x_test)))"
      ],
      "execution_count": null,
      "outputs": [
        {
          "output_type": "stream",
          "text": [
            "0.9364766525166768\n"
          ],
          "name": "stdout"
        }
      ]
    },
    {
      "cell_type": "markdown",
      "metadata": {
        "id": "42wFCjRSVYTu"
      },
      "source": [
        "With grid search to find the best parameters, model performance is improved to 93%"
      ]
    },
    {
      "cell_type": "code",
      "metadata": {
        "id": "jfLGWtsaTI6o"
      },
      "source": [
        ""
      ],
      "execution_count": null,
      "outputs": []
    },
    {
      "cell_type": "markdown",
      "metadata": {
        "id": "MdAAvXQfdD_J"
      },
      "source": [
        "#### Gradient Boosting"
      ]
    },
    {
      "cell_type": "code",
      "metadata": {
        "id": "UFGwC70zePIN"
      },
      "source": [
        "# Intialize and fit gradient boost classifier\n",
        "gb_classifier = GradientBoostingClassifier()\n",
        "gb_classifier.fit(x_train, y_train)\n",
        "# Make predictions\n",
        "y_pred_gb = gb_classifier.predict(x_test)"
      ],
      "execution_count": null,
      "outputs": []
    },
    {
      "cell_type": "code",
      "metadata": {
        "id": "hgQsufQzfd-9",
        "colab": {
          "base_uri": "https://localhost:8080/",
          "height": 176
        },
        "outputId": "cf66a5da-792a-4ec7-ebed-71f70f82c486"
      },
      "source": [
        "print(classification_report(y_test, y_pred))"
      ],
      "execution_count": null,
      "outputs": [
        {
          "output_type": "stream",
          "text": [
            "              precision    recall  f1-score   support\n",
            "\n",
            "           0       0.96      0.89      0.92      3981\n",
            "           1       0.85      0.95      0.90      2615\n",
            "\n",
            "    accuracy                           0.91      6596\n",
            "   macro avg       0.91      0.92      0.91      6596\n",
            "weighted avg       0.92      0.91      0.91      6596\n",
            "\n"
          ],
          "name": "stdout"
        }
      ]
    },
    {
      "cell_type": "markdown",
      "metadata": {
        "id": "IK0NFk3of1Sc"
      },
      "source": [
        "Both the random forest and gradient boosted model have similar performance on the upsampled minority data with an accuracy of 91%"
      ]
    },
    {
      "cell_type": "markdown",
      "metadata": {
        "id": "8v6ZFvn2gKOx"
      },
      "source": [
        "#### Naive Bayes"
      ]
    },
    {
      "cell_type": "code",
      "metadata": {
        "id": "4ho0ymakQaGs"
      },
      "source": [
        "# Bin age data and household size\n",
        "bayes_data = finance_df.drop(['Has a Bank account'], axis=1)\n",
        "age_bins = [10, 20, 30, 40, 50, 60, 70, 80, 90, 100]\n",
        "household_bins = [0,5,10,15,20,25]\n",
        "bayes_data['Age_binned'] = pd.cut(bayes_data['Respondent Age'], bins=age_bins)\n",
        "bayes_data['Household_binned'] = pd.cut(bayes_data['household_size'], bins=household_bins)"
      ],
      "execution_count": null,
      "outputs": []
    },
    {
      "cell_type": "code",
      "metadata": {
        "id": "SFQ-oIMlV3PK",
        "colab": {
          "base_uri": "https://localhost:8080/",
          "height": 510
        },
        "outputId": "681a7f27-5edb-47cd-90e3-eb004e626041"
      },
      "source": [
        "bayes_data['year'] = bayes_data['year'].astype('category')\n",
        "bayes_data = pd.get_dummies(bayes_data.drop(['Respondent Age','household_size'],axis=1))\n",
        "bayes_data"
      ],
      "execution_count": null,
      "outputs": [
        {
          "output_type": "execute_result",
          "data": {
            "text/html": [
              "<div>\n",
              "<style scoped>\n",
              "    .dataframe tbody tr th:only-of-type {\n",
              "        vertical-align: middle;\n",
              "    }\n",
              "\n",
              "    .dataframe tbody tr th {\n",
              "        vertical-align: top;\n",
              "    }\n",
              "\n",
              "    .dataframe thead th {\n",
              "        text-align: right;\n",
              "    }\n",
              "</style>\n",
              "<table border=\"1\" class=\"dataframe\">\n",
              "  <thead>\n",
              "    <tr style=\"text-align: right;\">\n",
              "      <th></th>\n",
              "      <th>country_Kenya</th>\n",
              "      <th>country_Rwanda</th>\n",
              "      <th>country_Tanzania</th>\n",
              "      <th>country_Uganda</th>\n",
              "      <th>year_2016</th>\n",
              "      <th>year_2017</th>\n",
              "      <th>year_2018</th>\n",
              "      <th>Type of Location_Rural</th>\n",
              "      <th>Type of Location_Urban</th>\n",
              "      <th>Cell Phone Access_No</th>\n",
              "      <th>Cell Phone Access_Yes</th>\n",
              "      <th>gender_of_respondent_Female</th>\n",
              "      <th>gender_of_respondent_Male</th>\n",
              "      <th>The relathip with head_Child</th>\n",
              "      <th>The relathip with head_Head of Household</th>\n",
              "      <th>The relathip with head_Other non-relatives</th>\n",
              "      <th>The relathip with head_Other relative</th>\n",
              "      <th>The relathip with head_Parent</th>\n",
              "      <th>The relathip with head_Spouse</th>\n",
              "      <th>marital_status_Divorced/Seperated</th>\n",
              "      <th>marital_status_Married/Living together</th>\n",
              "      <th>marital_status_Single/Never Married</th>\n",
              "      <th>marital_status_Widowed</th>\n",
              "      <th>Level of Educuation_No formal education</th>\n",
              "      <th>Level of Educuation_Primary education</th>\n",
              "      <th>Level of Educuation_Secondary education</th>\n",
              "      <th>Level of Educuation_Tertiary education</th>\n",
              "      <th>Level of Educuation_Vocational/Specialised training</th>\n",
              "      <th>Type of Job_Farming and Fishing</th>\n",
              "      <th>Type of Job_Formally employed Government</th>\n",
              "      <th>Type of Job_Formally employed Private</th>\n",
              "      <th>Type of Job_Government Dependent</th>\n",
              "      <th>Type of Job_Informally employed</th>\n",
              "      <th>Type of Job_No Income</th>\n",
              "      <th>Type of Job_Other Income</th>\n",
              "      <th>Type of Job_Remittance Dependent</th>\n",
              "      <th>Type of Job_Self employed</th>\n",
              "      <th>Age_binned_(10, 20]</th>\n",
              "      <th>Age_binned_(20, 30]</th>\n",
              "      <th>Age_binned_(30, 40]</th>\n",
              "      <th>Age_binned_(40, 50]</th>\n",
              "      <th>Age_binned_(50, 60]</th>\n",
              "      <th>Age_binned_(60, 70]</th>\n",
              "      <th>Age_binned_(70, 80]</th>\n",
              "      <th>Age_binned_(80, 90]</th>\n",
              "      <th>Age_binned_(90, 100]</th>\n",
              "      <th>Household_binned_(0, 5]</th>\n",
              "      <th>Household_binned_(5, 10]</th>\n",
              "      <th>Household_binned_(10, 15]</th>\n",
              "      <th>Household_binned_(15, 20]</th>\n",
              "      <th>Household_binned_(20, 25]</th>\n",
              "    </tr>\n",
              "  </thead>\n",
              "  <tbody>\n",
              "    <tr>\n",
              "      <th>0</th>\n",
              "      <td>1</td>\n",
              "      <td>0</td>\n",
              "      <td>0</td>\n",
              "      <td>0</td>\n",
              "      <td>0</td>\n",
              "      <td>0</td>\n",
              "      <td>1</td>\n",
              "      <td>1</td>\n",
              "      <td>0</td>\n",
              "      <td>0</td>\n",
              "      <td>1</td>\n",
              "      <td>1</td>\n",
              "      <td>0</td>\n",
              "      <td>0</td>\n",
              "      <td>0</td>\n",
              "      <td>0</td>\n",
              "      <td>0</td>\n",
              "      <td>0</td>\n",
              "      <td>1</td>\n",
              "      <td>0</td>\n",
              "      <td>1</td>\n",
              "      <td>0</td>\n",
              "      <td>0</td>\n",
              "      <td>0</td>\n",
              "      <td>0</td>\n",
              "      <td>1</td>\n",
              "      <td>0</td>\n",
              "      <td>0</td>\n",
              "      <td>0</td>\n",
              "      <td>0</td>\n",
              "      <td>0</td>\n",
              "      <td>0</td>\n",
              "      <td>0</td>\n",
              "      <td>0</td>\n",
              "      <td>0</td>\n",
              "      <td>0</td>\n",
              "      <td>1</td>\n",
              "      <td>0</td>\n",
              "      <td>1</td>\n",
              "      <td>0</td>\n",
              "      <td>0</td>\n",
              "      <td>0</td>\n",
              "      <td>0</td>\n",
              "      <td>0</td>\n",
              "      <td>0</td>\n",
              "      <td>0</td>\n",
              "      <td>1</td>\n",
              "      <td>0</td>\n",
              "      <td>0</td>\n",
              "      <td>0</td>\n",
              "      <td>0</td>\n",
              "    </tr>\n",
              "    <tr>\n",
              "      <th>1</th>\n",
              "      <td>1</td>\n",
              "      <td>0</td>\n",
              "      <td>0</td>\n",
              "      <td>0</td>\n",
              "      <td>0</td>\n",
              "      <td>0</td>\n",
              "      <td>1</td>\n",
              "      <td>1</td>\n",
              "      <td>0</td>\n",
              "      <td>1</td>\n",
              "      <td>0</td>\n",
              "      <td>1</td>\n",
              "      <td>0</td>\n",
              "      <td>0</td>\n",
              "      <td>1</td>\n",
              "      <td>0</td>\n",
              "      <td>0</td>\n",
              "      <td>0</td>\n",
              "      <td>0</td>\n",
              "      <td>0</td>\n",
              "      <td>0</td>\n",
              "      <td>0</td>\n",
              "      <td>1</td>\n",
              "      <td>1</td>\n",
              "      <td>0</td>\n",
              "      <td>0</td>\n",
              "      <td>0</td>\n",
              "      <td>0</td>\n",
              "      <td>0</td>\n",
              "      <td>0</td>\n",
              "      <td>0</td>\n",
              "      <td>1</td>\n",
              "      <td>0</td>\n",
              "      <td>0</td>\n",
              "      <td>0</td>\n",
              "      <td>0</td>\n",
              "      <td>0</td>\n",
              "      <td>0</td>\n",
              "      <td>0</td>\n",
              "      <td>0</td>\n",
              "      <td>0</td>\n",
              "      <td>0</td>\n",
              "      <td>1</td>\n",
              "      <td>0</td>\n",
              "      <td>0</td>\n",
              "      <td>0</td>\n",
              "      <td>1</td>\n",
              "      <td>0</td>\n",
              "      <td>0</td>\n",
              "      <td>0</td>\n",
              "      <td>0</td>\n",
              "    </tr>\n",
              "    <tr>\n",
              "      <th>2</th>\n",
              "      <td>1</td>\n",
              "      <td>0</td>\n",
              "      <td>0</td>\n",
              "      <td>0</td>\n",
              "      <td>0</td>\n",
              "      <td>0</td>\n",
              "      <td>1</td>\n",
              "      <td>0</td>\n",
              "      <td>1</td>\n",
              "      <td>0</td>\n",
              "      <td>1</td>\n",
              "      <td>0</td>\n",
              "      <td>1</td>\n",
              "      <td>0</td>\n",
              "      <td>0</td>\n",
              "      <td>0</td>\n",
              "      <td>1</td>\n",
              "      <td>0</td>\n",
              "      <td>0</td>\n",
              "      <td>0</td>\n",
              "      <td>0</td>\n",
              "      <td>1</td>\n",
              "      <td>0</td>\n",
              "      <td>0</td>\n",
              "      <td>0</td>\n",
              "      <td>0</td>\n",
              "      <td>0</td>\n",
              "      <td>1</td>\n",
              "      <td>0</td>\n",
              "      <td>0</td>\n",
              "      <td>0</td>\n",
              "      <td>0</td>\n",
              "      <td>0</td>\n",
              "      <td>0</td>\n",
              "      <td>0</td>\n",
              "      <td>0</td>\n",
              "      <td>1</td>\n",
              "      <td>0</td>\n",
              "      <td>1</td>\n",
              "      <td>0</td>\n",
              "      <td>0</td>\n",
              "      <td>0</td>\n",
              "      <td>0</td>\n",
              "      <td>0</td>\n",
              "      <td>0</td>\n",
              "      <td>0</td>\n",
              "      <td>1</td>\n",
              "      <td>0</td>\n",
              "      <td>0</td>\n",
              "      <td>0</td>\n",
              "      <td>0</td>\n",
              "    </tr>\n",
              "    <tr>\n",
              "      <th>3</th>\n",
              "      <td>1</td>\n",
              "      <td>0</td>\n",
              "      <td>0</td>\n",
              "      <td>0</td>\n",
              "      <td>0</td>\n",
              "      <td>0</td>\n",
              "      <td>1</td>\n",
              "      <td>1</td>\n",
              "      <td>0</td>\n",
              "      <td>0</td>\n",
              "      <td>1</td>\n",
              "      <td>1</td>\n",
              "      <td>0</td>\n",
              "      <td>0</td>\n",
              "      <td>1</td>\n",
              "      <td>0</td>\n",
              "      <td>0</td>\n",
              "      <td>0</td>\n",
              "      <td>0</td>\n",
              "      <td>0</td>\n",
              "      <td>1</td>\n",
              "      <td>0</td>\n",
              "      <td>0</td>\n",
              "      <td>0</td>\n",
              "      <td>1</td>\n",
              "      <td>0</td>\n",
              "      <td>0</td>\n",
              "      <td>0</td>\n",
              "      <td>0</td>\n",
              "      <td>0</td>\n",
              "      <td>1</td>\n",
              "      <td>0</td>\n",
              "      <td>0</td>\n",
              "      <td>0</td>\n",
              "      <td>0</td>\n",
              "      <td>0</td>\n",
              "      <td>0</td>\n",
              "      <td>0</td>\n",
              "      <td>0</td>\n",
              "      <td>1</td>\n",
              "      <td>0</td>\n",
              "      <td>0</td>\n",
              "      <td>0</td>\n",
              "      <td>0</td>\n",
              "      <td>0</td>\n",
              "      <td>0</td>\n",
              "      <td>1</td>\n",
              "      <td>0</td>\n",
              "      <td>0</td>\n",
              "      <td>0</td>\n",
              "      <td>0</td>\n",
              "    </tr>\n",
              "    <tr>\n",
              "      <th>4</th>\n",
              "      <td>1</td>\n",
              "      <td>0</td>\n",
              "      <td>0</td>\n",
              "      <td>0</td>\n",
              "      <td>0</td>\n",
              "      <td>0</td>\n",
              "      <td>1</td>\n",
              "      <td>0</td>\n",
              "      <td>1</td>\n",
              "      <td>1</td>\n",
              "      <td>0</td>\n",
              "      <td>0</td>\n",
              "      <td>1</td>\n",
              "      <td>1</td>\n",
              "      <td>0</td>\n",
              "      <td>0</td>\n",
              "      <td>0</td>\n",
              "      <td>0</td>\n",
              "      <td>0</td>\n",
              "      <td>0</td>\n",
              "      <td>0</td>\n",
              "      <td>1</td>\n",
              "      <td>0</td>\n",
              "      <td>0</td>\n",
              "      <td>1</td>\n",
              "      <td>0</td>\n",
              "      <td>0</td>\n",
              "      <td>0</td>\n",
              "      <td>0</td>\n",
              "      <td>0</td>\n",
              "      <td>0</td>\n",
              "      <td>0</td>\n",
              "      <td>1</td>\n",
              "      <td>0</td>\n",
              "      <td>0</td>\n",
              "      <td>0</td>\n",
              "      <td>0</td>\n",
              "      <td>0</td>\n",
              "      <td>1</td>\n",
              "      <td>0</td>\n",
              "      <td>0</td>\n",
              "      <td>0</td>\n",
              "      <td>0</td>\n",
              "      <td>0</td>\n",
              "      <td>0</td>\n",
              "      <td>0</td>\n",
              "      <td>0</td>\n",
              "      <td>1</td>\n",
              "      <td>0</td>\n",
              "      <td>0</td>\n",
              "      <td>0</td>\n",
              "    </tr>\n",
              "    <tr>\n",
              "      <th>...</th>\n",
              "      <td>...</td>\n",
              "      <td>...</td>\n",
              "      <td>...</td>\n",
              "      <td>...</td>\n",
              "      <td>...</td>\n",
              "      <td>...</td>\n",
              "      <td>...</td>\n",
              "      <td>...</td>\n",
              "      <td>...</td>\n",
              "      <td>...</td>\n",
              "      <td>...</td>\n",
              "      <td>...</td>\n",
              "      <td>...</td>\n",
              "      <td>...</td>\n",
              "      <td>...</td>\n",
              "      <td>...</td>\n",
              "      <td>...</td>\n",
              "      <td>...</td>\n",
              "      <td>...</td>\n",
              "      <td>...</td>\n",
              "      <td>...</td>\n",
              "      <td>...</td>\n",
              "      <td>...</td>\n",
              "      <td>...</td>\n",
              "      <td>...</td>\n",
              "      <td>...</td>\n",
              "      <td>...</td>\n",
              "      <td>...</td>\n",
              "      <td>...</td>\n",
              "      <td>...</td>\n",
              "      <td>...</td>\n",
              "      <td>...</td>\n",
              "      <td>...</td>\n",
              "      <td>...</td>\n",
              "      <td>...</td>\n",
              "      <td>...</td>\n",
              "      <td>...</td>\n",
              "      <td>...</td>\n",
              "      <td>...</td>\n",
              "      <td>...</td>\n",
              "      <td>...</td>\n",
              "      <td>...</td>\n",
              "      <td>...</td>\n",
              "      <td>...</td>\n",
              "      <td>...</td>\n",
              "      <td>...</td>\n",
              "      <td>...</td>\n",
              "      <td>...</td>\n",
              "      <td>...</td>\n",
              "      <td>...</td>\n",
              "      <td>...</td>\n",
              "    </tr>\n",
              "    <tr>\n",
              "      <th>23519</th>\n",
              "      <td>0</td>\n",
              "      <td>0</td>\n",
              "      <td>0</td>\n",
              "      <td>1</td>\n",
              "      <td>0</td>\n",
              "      <td>0</td>\n",
              "      <td>1</td>\n",
              "      <td>1</td>\n",
              "      <td>0</td>\n",
              "      <td>0</td>\n",
              "      <td>1</td>\n",
              "      <td>1</td>\n",
              "      <td>0</td>\n",
              "      <td>0</td>\n",
              "      <td>1</td>\n",
              "      <td>0</td>\n",
              "      <td>0</td>\n",
              "      <td>0</td>\n",
              "      <td>0</td>\n",
              "      <td>1</td>\n",
              "      <td>0</td>\n",
              "      <td>0</td>\n",
              "      <td>0</td>\n",
              "      <td>1</td>\n",
              "      <td>0</td>\n",
              "      <td>0</td>\n",
              "      <td>0</td>\n",
              "      <td>0</td>\n",
              "      <td>0</td>\n",
              "      <td>0</td>\n",
              "      <td>0</td>\n",
              "      <td>0</td>\n",
              "      <td>0</td>\n",
              "      <td>0</td>\n",
              "      <td>1</td>\n",
              "      <td>0</td>\n",
              "      <td>0</td>\n",
              "      <td>0</td>\n",
              "      <td>0</td>\n",
              "      <td>0</td>\n",
              "      <td>1</td>\n",
              "      <td>0</td>\n",
              "      <td>0</td>\n",
              "      <td>0</td>\n",
              "      <td>0</td>\n",
              "      <td>0</td>\n",
              "      <td>1</td>\n",
              "      <td>0</td>\n",
              "      <td>0</td>\n",
              "      <td>0</td>\n",
              "      <td>0</td>\n",
              "    </tr>\n",
              "    <tr>\n",
              "      <th>23520</th>\n",
              "      <td>0</td>\n",
              "      <td>0</td>\n",
              "      <td>0</td>\n",
              "      <td>1</td>\n",
              "      <td>0</td>\n",
              "      <td>0</td>\n",
              "      <td>1</td>\n",
              "      <td>1</td>\n",
              "      <td>0</td>\n",
              "      <td>0</td>\n",
              "      <td>1</td>\n",
              "      <td>1</td>\n",
              "      <td>0</td>\n",
              "      <td>0</td>\n",
              "      <td>1</td>\n",
              "      <td>0</td>\n",
              "      <td>0</td>\n",
              "      <td>0</td>\n",
              "      <td>0</td>\n",
              "      <td>0</td>\n",
              "      <td>0</td>\n",
              "      <td>1</td>\n",
              "      <td>0</td>\n",
              "      <td>0</td>\n",
              "      <td>0</td>\n",
              "      <td>1</td>\n",
              "      <td>0</td>\n",
              "      <td>0</td>\n",
              "      <td>0</td>\n",
              "      <td>0</td>\n",
              "      <td>0</td>\n",
              "      <td>0</td>\n",
              "      <td>0</td>\n",
              "      <td>0</td>\n",
              "      <td>1</td>\n",
              "      <td>0</td>\n",
              "      <td>0</td>\n",
              "      <td>0</td>\n",
              "      <td>1</td>\n",
              "      <td>0</td>\n",
              "      <td>0</td>\n",
              "      <td>0</td>\n",
              "      <td>0</td>\n",
              "      <td>0</td>\n",
              "      <td>0</td>\n",
              "      <td>0</td>\n",
              "      <td>1</td>\n",
              "      <td>0</td>\n",
              "      <td>0</td>\n",
              "      <td>0</td>\n",
              "      <td>0</td>\n",
              "    </tr>\n",
              "    <tr>\n",
              "      <th>23521</th>\n",
              "      <td>0</td>\n",
              "      <td>0</td>\n",
              "      <td>0</td>\n",
              "      <td>1</td>\n",
              "      <td>0</td>\n",
              "      <td>0</td>\n",
              "      <td>1</td>\n",
              "      <td>1</td>\n",
              "      <td>0</td>\n",
              "      <td>0</td>\n",
              "      <td>1</td>\n",
              "      <td>1</td>\n",
              "      <td>0</td>\n",
              "      <td>0</td>\n",
              "      <td>0</td>\n",
              "      <td>0</td>\n",
              "      <td>0</td>\n",
              "      <td>1</td>\n",
              "      <td>0</td>\n",
              "      <td>0</td>\n",
              "      <td>0</td>\n",
              "      <td>0</td>\n",
              "      <td>1</td>\n",
              "      <td>0</td>\n",
              "      <td>1</td>\n",
              "      <td>0</td>\n",
              "      <td>0</td>\n",
              "      <td>0</td>\n",
              "      <td>0</td>\n",
              "      <td>0</td>\n",
              "      <td>0</td>\n",
              "      <td>0</td>\n",
              "      <td>0</td>\n",
              "      <td>0</td>\n",
              "      <td>1</td>\n",
              "      <td>0</td>\n",
              "      <td>0</td>\n",
              "      <td>0</td>\n",
              "      <td>1</td>\n",
              "      <td>0</td>\n",
              "      <td>0</td>\n",
              "      <td>0</td>\n",
              "      <td>0</td>\n",
              "      <td>0</td>\n",
              "      <td>0</td>\n",
              "      <td>0</td>\n",
              "      <td>1</td>\n",
              "      <td>0</td>\n",
              "      <td>0</td>\n",
              "      <td>0</td>\n",
              "      <td>0</td>\n",
              "    </tr>\n",
              "    <tr>\n",
              "      <th>23522</th>\n",
              "      <td>0</td>\n",
              "      <td>0</td>\n",
              "      <td>0</td>\n",
              "      <td>1</td>\n",
              "      <td>0</td>\n",
              "      <td>0</td>\n",
              "      <td>1</td>\n",
              "      <td>0</td>\n",
              "      <td>1</td>\n",
              "      <td>0</td>\n",
              "      <td>1</td>\n",
              "      <td>1</td>\n",
              "      <td>0</td>\n",
              "      <td>0</td>\n",
              "      <td>0</td>\n",
              "      <td>0</td>\n",
              "      <td>0</td>\n",
              "      <td>1</td>\n",
              "      <td>0</td>\n",
              "      <td>1</td>\n",
              "      <td>0</td>\n",
              "      <td>0</td>\n",
              "      <td>0</td>\n",
              "      <td>0</td>\n",
              "      <td>0</td>\n",
              "      <td>1</td>\n",
              "      <td>0</td>\n",
              "      <td>0</td>\n",
              "      <td>0</td>\n",
              "      <td>0</td>\n",
              "      <td>0</td>\n",
              "      <td>0</td>\n",
              "      <td>0</td>\n",
              "      <td>0</td>\n",
              "      <td>0</td>\n",
              "      <td>0</td>\n",
              "      <td>1</td>\n",
              "      <td>0</td>\n",
              "      <td>1</td>\n",
              "      <td>0</td>\n",
              "      <td>0</td>\n",
              "      <td>0</td>\n",
              "      <td>0</td>\n",
              "      <td>0</td>\n",
              "      <td>0</td>\n",
              "      <td>0</td>\n",
              "      <td>0</td>\n",
              "      <td>1</td>\n",
              "      <td>0</td>\n",
              "      <td>0</td>\n",
              "      <td>0</td>\n",
              "    </tr>\n",
              "    <tr>\n",
              "      <th>23523</th>\n",
              "      <td>0</td>\n",
              "      <td>0</td>\n",
              "      <td>0</td>\n",
              "      <td>1</td>\n",
              "      <td>0</td>\n",
              "      <td>0</td>\n",
              "      <td>1</td>\n",
              "      <td>1</td>\n",
              "      <td>0</td>\n",
              "      <td>0</td>\n",
              "      <td>1</td>\n",
              "      <td>0</td>\n",
              "      <td>1</td>\n",
              "      <td>1</td>\n",
              "      <td>0</td>\n",
              "      <td>0</td>\n",
              "      <td>0</td>\n",
              "      <td>0</td>\n",
              "      <td>0</td>\n",
              "      <td>0</td>\n",
              "      <td>0</td>\n",
              "      <td>1</td>\n",
              "      <td>0</td>\n",
              "      <td>0</td>\n",
              "      <td>0</td>\n",
              "      <td>1</td>\n",
              "      <td>0</td>\n",
              "      <td>0</td>\n",
              "      <td>0</td>\n",
              "      <td>0</td>\n",
              "      <td>0</td>\n",
              "      <td>0</td>\n",
              "      <td>0</td>\n",
              "      <td>1</td>\n",
              "      <td>0</td>\n",
              "      <td>0</td>\n",
              "      <td>0</td>\n",
              "      <td>1</td>\n",
              "      <td>0</td>\n",
              "      <td>0</td>\n",
              "      <td>0</td>\n",
              "      <td>0</td>\n",
              "      <td>0</td>\n",
              "      <td>0</td>\n",
              "      <td>0</td>\n",
              "      <td>0</td>\n",
              "      <td>0</td>\n",
              "      <td>1</td>\n",
              "      <td>0</td>\n",
              "      <td>0</td>\n",
              "      <td>0</td>\n",
              "    </tr>\n",
              "  </tbody>\n",
              "</table>\n",
              "<p>23172 rows × 51 columns</p>\n",
              "</div>"
            ],
            "text/plain": [
              "       country_Kenya  ...  Household_binned_(20, 25]\n",
              "0                  1  ...                          0\n",
              "1                  1  ...                          0\n",
              "2                  1  ...                          0\n",
              "3                  1  ...                          0\n",
              "4                  1  ...                          0\n",
              "...              ...  ...                        ...\n",
              "23519              0  ...                          0\n",
              "23520              0  ...                          0\n",
              "23521              0  ...                          0\n",
              "23522              0  ...                          0\n",
              "23523              0  ...                          0\n",
              "\n",
              "[23172 rows x 51 columns]"
            ]
          },
          "metadata": {
            "tags": []
          },
          "execution_count": 151
        }
      ]
    },
    {
      "cell_type": "code",
      "metadata": {
        "id": "V4okqDstgQY8"
      },
      "source": [
        "target = finance_df['Has a Bank account'].map({'No':0,'Yes':1})"
      ],
      "execution_count": null,
      "outputs": []
    },
    {
      "cell_type": "code",
      "metadata": {
        "id": "_idP7HLKgQo7",
        "colab": {
          "base_uri": "https://localhost:8080/",
          "height": 34
        },
        "outputId": "18efad6e-d7bd-4bf1-9e55-89626588e7ad"
      },
      "source": [
        "# Split sets\n",
        "x_train, x_test, y_train, y_test = train_test_split(bayes_data, target, test_size=.2)\n",
        "\n",
        "# Fit model\n",
        "bernoulli_nb = BernoulliNB().fit(x_train, y_train)\n",
        "\n",
        "# Get predictions\n",
        "print(accuracy_score(y_test, bernoulli_nb.predict(x_test)))"
      ],
      "execution_count": null,
      "outputs": [
        {
          "output_type": "stream",
          "text": [
            "0.8470334412081985\n"
          ],
          "name": "stdout"
        }
      ]
    },
    {
      "cell_type": "code",
      "metadata": {
        "id": "6uyuvzadgQ0Q"
      },
      "source": [
        "# Grid search over various alpha\n",
        "alphas = {'alpha' : [0.0, 0.0001, 0.001, 0.01, 0.1, 0.5, 1.0, 2.0, 10.0]}\n",
        "\n",
        "grid_search_bernoulli = GridSearchCV(BernoulliNB(), param_grid=alphas, cv=5, scoring='roc_auc')"
      ],
      "execution_count": null,
      "outputs": []
    },
    {
      "cell_type": "code",
      "metadata": {
        "id": "eY1ZE9hLgRLD",
        "colab": {
          "base_uri": "https://localhost:8080/",
          "height": 158
        },
        "outputId": "53842c4c-5562-4572-d259-5783c7b79246"
      },
      "source": [
        "grid_search_bernoulli.fit(x_train, y_train)"
      ],
      "execution_count": null,
      "outputs": [
        {
          "output_type": "execute_result",
          "data": {
            "text/plain": [
              "GridSearchCV(cv=5, error_score=nan,\n",
              "             estimator=BernoulliNB(alpha=1.0, binarize=0.0, class_prior=None,\n",
              "                                   fit_prior=True),\n",
              "             iid='deprecated', n_jobs=None,\n",
              "             param_grid={'alpha': [0.0, 0.0001, 0.001, 0.01, 0.1, 0.5, 1.0, 2.0,\n",
              "                                   10.0]},\n",
              "             pre_dispatch='2*n_jobs', refit=True, return_train_score=False,\n",
              "             scoring='roc_auc', verbose=0)"
            ]
          },
          "metadata": {
            "tags": []
          },
          "execution_count": 155
        }
      ]
    },
    {
      "cell_type": "code",
      "metadata": {
        "id": "kokdOIOJk9YI",
        "colab": {
          "base_uri": "https://localhost:8080/",
          "height": 176
        },
        "outputId": "748b3152-aa22-4e43-8778-5436ab7fb8d4"
      },
      "source": [
        "print(classification_report(y_test, grid_search_bernoulli.predict(x_test) ))"
      ],
      "execution_count": null,
      "outputs": [
        {
          "output_type": "stream",
          "text": [
            "              precision    recall  f1-score   support\n",
            "\n",
            "           0       0.93      0.89      0.91      3979\n",
            "           1       0.47      0.56      0.51       656\n",
            "\n",
            "    accuracy                           0.85      4635\n",
            "   macro avg       0.70      0.73      0.71      4635\n",
            "weighted avg       0.86      0.85      0.85      4635\n",
            "\n"
          ],
          "name": "stdout"
        }
      ]
    },
    {
      "cell_type": "code",
      "metadata": {
        "id": "H0HKhAN3k9pV",
        "colab": {
          "base_uri": "https://localhost:8080/",
          "height": 52
        },
        "outputId": "b7ddaec2-993d-4a51-afdc-9bacd20bc5fc"
      },
      "source": [
        "print(confusion_matrix(y_test, grid_search_bernoulli.predict(x_test) ))"
      ],
      "execution_count": null,
      "outputs": [
        {
          "output_type": "stream",
          "text": [
            "[[3555  424]\n",
            " [ 286  370]]\n"
          ],
          "name": "stdout"
        }
      ]
    },
    {
      "cell_type": "code",
      "metadata": {
        "id": "6tAC4JO-dqsS"
      },
      "source": [
        ""
      ],
      "execution_count": null,
      "outputs": []
    },
    {
      "cell_type": "markdown",
      "metadata": {
        "id": "mnGJGe-NmE3A"
      },
      "source": [
        "#### Support Vector Machines"
      ]
    },
    {
      "cell_type": "code",
      "metadata": {
        "id": "er51R0RHk917"
      },
      "source": [
        "from sklearn.svm import SVC\n",
        "from sklearn.model_selection import cross_val_score, RepeatedStratifiedKFold"
      ],
      "execution_count": null,
      "outputs": []
    },
    {
      "cell_type": "code",
      "metadata": {
        "id": "V2KA_yQPk9yV",
        "colab": {
          "background_save": true
        },
        "outputId": "67aa852c-ee27-42fe-add1-375543131525"
      },
      "source": [
        "# define model\n",
        "model = SVC(gamma='scale')\n",
        "# define grid\n",
        "balance = [{0:100,1:1}, {0:10,1:1}, {0:1,1:1}, {0:1,1:10}, {0:1,1:100}]\n",
        "param_grid = dict(class_weight=balance)\n",
        "# define evaluation procedure\n",
        "cv = RepeatedStratifiedKFold(n_splits=5, n_repeats=3, random_state=1)\n",
        "# define grid search\n",
        "grid = GridSearchCV(estimator=model, param_grid=param_grid, n_jobs=-1, cv=cv, scoring='roc_auc')\n",
        "# execute the grid search\n",
        "grid_result = grid.fit(X, y)\n",
        "# report the best configuration\n",
        "print(\"Best: %f using %s\" % (grid_result.best_score_, grid_result.best_params_))"
      ],
      "execution_count": null,
      "outputs": [
        {
          "output_type": "stream",
          "text": [
            "Best: 0.831454 using {'class_weight': {0: 1, 1: 1}}\n"
          ],
          "name": "stdout"
        }
      ]
    },
    {
      "cell_type": "markdown",
      "metadata": {
        "id": "Rnf_nnlQRzNd"
      },
      "source": [
        "With grid search, the cost sensitive SVM classifier has an roc_auc score of 83% which is lower than the naive bayes and the tree based models."
      ]
    },
    {
      "cell_type": "code",
      "metadata": {
        "id": "i0txOmPYk9m1"
      },
      "source": [
        ""
      ],
      "execution_count": null,
      "outputs": []
    },
    {
      "cell_type": "markdown",
      "metadata": {
        "id": "LmTQcNHPfu9G"
      },
      "source": [
        "### Summary of Findings\n",
        "\n",
        "The proportion of individuals with no bank accounts is extremely high in comparison to those with that have a bank account. 85% of all respondents have no bank accounts.\n",
        "\n",
        "The categorical demographic factors such as gender, job type, location as well as accesss to a cellphone having a significant impact on whether an individual has an account or not.\n",
        "\n",
        "Model performance was highly affected by the imbalance in the target variable. Upsampling the minority class drastically improved performance of the tree based methods.\n",
        "\n",
        "The best performing model was a tuned random forest model with an accuracy of 93% and an roc_auc score of 96%\n",
        "\n",
        "The random forest cited the most important features in separating classes as respondent age, level of education, household size, type of job and cell phone access."
      ]
    },
    {
      "cell_type": "markdown",
      "metadata": {
        "id": "IRsvfc4ZjN-H"
      },
      "source": [
        "### Challenging the solution\n",
        "\n",
        "To provide further insight on relationships between features:\n",
        "\n",
        " - ANOVA analysis to test relationships among multiple categorical features.\n",
        " - Using the features cited by the random forest model, profile bank account holders per country, are they similar or do they differ from country to country."
      ]
    },
    {
      "cell_type": "code",
      "metadata": {
        "id": "a3kCO1w1Vm5m"
      },
      "source": [
        ""
      ],
      "execution_count": null,
      "outputs": []
    }
  ]
}